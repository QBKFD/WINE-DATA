{
  "cells": [
    {
      "cell_type": "markdown",
      "metadata": {
        "id": "9J69p147s2Qv"
      },
      "source": [
        "It is possible to run the notebook there without complication."
      ]
    },
    {
      "cell_type": "code",
      "execution_count": null,
      "metadata": {
        "id": "1vmi-sMEs2Qw"
      },
      "outputs": [],
      "source": [
        "import matplotlib.pyplot as plt\n",
        "import pandas as pd\n",
        "import numpy as np\n",
        "from sklearn.ensemble import RandomForestClassifier\n",
        "from sklearn.metrics import make_scorer, accuracy_score, precision_score, recall_score, f1_score,classification_report,confusion_matrix as cm,precision_recall_fscore_support\n",
        "from sklearn.model_selection import GridSearchCV, train_test_split, StratifiedKFold,cross_val_score,KFold\n",
        "from sklearn.linear_model import LogisticRegression\n",
        "from sklearn.neighbors import KNeighborsClassifier\n",
        "from sklearn import metrics\n",
        "from sklearn.datasets import make_classification\n",
        "from sklearn.pipeline import Pipeline,make_pipeline\n",
        "from sklearn.svm import LinearSVC\n",
        "from sklearn.preprocessing import OneHotEncoder, StandardScaler, MinMaxScaler\n",
        "from sklearn.svm import SVC\n",
        "import seaborn as sns\n",
        "import numpy as np\n",
        "svc = SVC()\n",
        "from sklearn.tree import DecisionTreeClassifier\n",
        "from warnings import simplefilter\n",
        "from sklearn.exceptions import ConvergenceWarning\n",
        "simplefilter(\"ignore\", category=ConvergenceWarning)\n",
        "from sklearn.metrics import confusion_matrix"
      ]
    },
    {
      "cell_type": "markdown",
      "metadata": {
        "id": "m2BB19TDs2Q2"
      },
      "source": [
        "# T1. Classification on Wine Dataset"
      ]
    },
    {
      "cell_type": "markdown",
      "metadata": {
        "id": "JCCY6fM1s2Q3"
      },
      "source": [
        "Question 1.1. When we change the target variable to a multi-class classification setup we lose that there is order in the data. The class one (rating) is lower than two and so forth. An advantage would be that we can now also try out a wide range of classification models. It could be that one of those performs better than e.g. a regression model."
      ]
    },
    {
      "cell_type": "code",
      "execution_count": null,
      "metadata": {
        "id": "9zAVaooBs2Q8"
      },
      "outputs": [],
      "source": [
        "desc = {\"volatile acidity\":float, \"fixed acidity\":float, \"citric acid\":float,\n",
        "        \"residual sugar\": float, \"chlorides\": float, \"total sulfur dioxide\": float,\n",
        "        \"free sulfur dioxide\": float, \"density\": float, \"pH\": float,\n",
        "        \"sulphates\": float, \"alcohol\": float, \"quality\": int}\n",
        "\n",
        "red_wine = pd.read_csv(\"https://raw.githubusercontent.com/leonvanrooijen/opensource_data/main/winequality-red.csv\", sep=';',dtype = desc)\n",
        "white_wine = pd.read_csv(\"https://raw.githubusercontent.com/leonvanrooijen/opensource_data/main/winequality-white.csv\", sep=';',dtype = desc)"
      ]
    },
    {
      "cell_type": "markdown",
      "metadata": {
        "id": "R9STT_Iqs2Q-"
      },
      "source": [
        "Since we already preprocessed the data in Assignment 1, we will not elaborate any further on the features (except for the change in target variable which is now multi-class)"
      ]
    },
    {
      "cell_type": "code",
      "execution_count": null,
      "metadata": {
        "colab": {
          "base_uri": "https://localhost:8080/",
          "height": 512
        },
        "id": "CJpSesEOs2Q_",
        "outputId": "00985077-bfba-4699-b754-8448bbcf374c"
      },
      "outputs": [
        {
          "name": "stderr",
          "output_type": "stream",
          "text": [
            "<ipython-input-3-7b879dcea1c5>:2: FutureWarning: this method is deprecated in favour of `Styler.format(precision=..)`\n",
            "  corr1.style.background_gradient(cmap=\"coolwarm\").set_precision(2)\n"
          ]
        },
        {
          "data": {
            "text/html": [
              "<style type=\"text/css\">\n",
              "#T_8ea2f_row0_col0, #T_8ea2f_row1_col1, #T_8ea2f_row2_col2, #T_8ea2f_row3_col3, #T_8ea2f_row4_col4, #T_8ea2f_row5_col5, #T_8ea2f_row6_col6, #T_8ea2f_row7_col7, #T_8ea2f_row8_col8, #T_8ea2f_row9_col9, #T_8ea2f_row10_col10, #T_8ea2f_row11_col11 {\n",
              "  background-color: #b40426;\n",
              "  color: #f1f1f1;\n",
              "}\n",
              "#T_8ea2f_row0_col1, #T_8ea2f_row4_col11, #T_8ea2f_row9_col1 {\n",
              "  background-color: #779af7;\n",
              "  color: #f1f1f1;\n",
              "}\n",
              "#T_8ea2f_row0_col2 {\n",
              "  background-color: #f08a6c;\n",
              "  color: #f1f1f1;\n",
              "}\n",
              "#T_8ea2f_row0_col3, #T_8ea2f_row4_col10 {\n",
              "  background-color: #7699f6;\n",
              "  color: #f1f1f1;\n",
              "}\n",
              "#T_8ea2f_row0_col4 {\n",
              "  background-color: #98b9ff;\n",
              "  color: #000000;\n",
              "}\n",
              "#T_8ea2f_row0_col5, #T_8ea2f_row0_col8, #T_8ea2f_row1_col2, #T_8ea2f_row1_col9, #T_8ea2f_row1_col11, #T_8ea2f_row2_col1, #T_8ea2f_row7_col10, #T_8ea2f_row8_col0, #T_8ea2f_row8_col3, #T_8ea2f_row8_col4, #T_8ea2f_row10_col6, #T_8ea2f_row10_col7 {\n",
              "  background-color: #3b4cc0;\n",
              "  color: #f1f1f1;\n",
              "}\n",
              "#T_8ea2f_row0_col6 {\n",
              "  background-color: #516ddb;\n",
              "  color: #f1f1f1;\n",
              "}\n",
              "#T_8ea2f_row0_col7 {\n",
              "  background-color: #f18d6f;\n",
              "  color: #f1f1f1;\n",
              "}\n",
              "#T_8ea2f_row0_col9, #T_8ea2f_row3_col8 {\n",
              "  background-color: #b1cbfc;\n",
              "  color: #000000;\n",
              "}\n",
              "#T_8ea2f_row0_col10, #T_8ea2f_row3_col11 {\n",
              "  background-color: #9bbcff;\n",
              "  color: #000000;\n",
              "}\n",
              "#T_8ea2f_row0_col11, #T_8ea2f_row2_col4, #T_8ea2f_row7_col1, #T_8ea2f_row7_col4, #T_8ea2f_row10_col0 {\n",
              "  background-color: #b6cefa;\n",
              "  color: #000000;\n",
              "}\n",
              "#T_8ea2f_row1_col0, #T_8ea2f_row3_col4, #T_8ea2f_row5_col3 {\n",
              "  background-color: #8db0fe;\n",
              "  color: #000000;\n",
              "}\n",
              "#T_8ea2f_row1_col3, #T_8ea2f_row2_col5 {\n",
              "  background-color: #536edd;\n",
              "  color: #f1f1f1;\n",
              "}\n",
              "#T_8ea2f_row1_col4 {\n",
              "  background-color: #90b2fe;\n",
              "  color: #000000;\n",
              "}\n",
              "#T_8ea2f_row1_col5 {\n",
              "  background-color: #6180e9;\n",
              "  color: #f1f1f1;\n",
              "}\n",
              "#T_8ea2f_row1_col6 {\n",
              "  background-color: #86a9fc;\n",
              "  color: #f1f1f1;\n",
              "}\n",
              "#T_8ea2f_row1_col7 {\n",
              "  background-color: #aec9fc;\n",
              "  color: #000000;\n",
              "}\n",
              "#T_8ea2f_row1_col8 {\n",
              "  background-color: #e8d6cc;\n",
              "  color: #000000;\n",
              "}\n",
              "#T_8ea2f_row1_col10 {\n",
              "  background-color: #7a9df8;\n",
              "  color: #f1f1f1;\n",
              "}\n",
              "#T_8ea2f_row2_col0 {\n",
              "  background-color: #ec8165;\n",
              "  color: #f1f1f1;\n",
              "}\n",
              "#T_8ea2f_row2_col3, #T_8ea2f_row3_col9, #T_8ea2f_row5_col4, #T_8ea2f_row11_col7 {\n",
              "  background-color: #80a3fa;\n",
              "  color: #f1f1f1;\n",
              "}\n",
              "#T_8ea2f_row2_col6, #T_8ea2f_row7_col8 {\n",
              "  background-color: #7b9ff9;\n",
              "  color: #f1f1f1;\n",
              "}\n",
              "#T_8ea2f_row2_col7 {\n",
              "  background-color: #eed0c0;\n",
              "  color: #000000;\n",
              "}\n",
              "#T_8ea2f_row2_col8, #T_8ea2f_row9_col3 {\n",
              "  background-color: #5470de;\n",
              "  color: #f1f1f1;\n",
              "}\n",
              "#T_8ea2f_row2_col9 {\n",
              "  background-color: #d1dae9;\n",
              "  color: #000000;\n",
              "}\n",
              "#T_8ea2f_row2_col10, #T_8ea2f_row6_col1, #T_8ea2f_row7_col3 {\n",
              "  background-color: #c1d4f4;\n",
              "  color: #000000;\n",
              "}\n",
              "#T_8ea2f_row2_col11 {\n",
              "  background-color: #cdd9ec;\n",
              "  color: #000000;\n",
              "}\n",
              "#T_8ea2f_row3_col0 {\n",
              "  background-color: #d6dce4;\n",
              "  color: #000000;\n",
              "}\n",
              "#T_8ea2f_row3_col1 {\n",
              "  background-color: #b2ccfb;\n",
              "  color: #000000;\n",
              "}\n",
              "#T_8ea2f_row3_col2, #T_8ea2f_row5_col8 {\n",
              "  background-color: #cedaeb;\n",
              "  color: #000000;\n",
              "}\n",
              "#T_8ea2f_row3_col5 {\n",
              "  background-color: #9dbdff;\n",
              "  color: #000000;\n",
              "}\n",
              "#T_8ea2f_row3_col6, #T_8ea2f_row6_col0 {\n",
              "  background-color: #abc8fd;\n",
              "  color: #000000;\n",
              "}\n",
              "#T_8ea2f_row3_col7 {\n",
              "  background-color: #edd2c3;\n",
              "  color: #000000;\n",
              "}\n",
              "#T_8ea2f_row3_col10 {\n",
              "  background-color: #b3cdfb;\n",
              "  color: #000000;\n",
              "}\n",
              "#T_8ea2f_row4_col0, #T_8ea2f_row9_col11 {\n",
              "  background-color: #d3dbe7;\n",
              "  color: #000000;\n",
              "}\n",
              "#T_8ea2f_row4_col1 {\n",
              "  background-color: #bfd3f6;\n",
              "  color: #000000;\n",
              "}\n",
              "#T_8ea2f_row4_col2 {\n",
              "  background-color: #d9dce1;\n",
              "  color: #000000;\n",
              "}\n",
              "#T_8ea2f_row4_col3 {\n",
              "  background-color: #6384eb;\n",
              "  color: #f1f1f1;\n",
              "}\n",
              "#T_8ea2f_row4_col5 {\n",
              "  background-color: #6687ed;\n",
              "  color: #f1f1f1;\n",
              "}\n",
              "#T_8ea2f_row4_col6 {\n",
              "  background-color: #7ea1fa;\n",
              "  color: #f1f1f1;\n",
              "}\n",
              "#T_8ea2f_row4_col7 {\n",
              "  background-color: #d4dbe6;\n",
              "  color: #000000;\n",
              "}\n",
              "#T_8ea2f_row4_col8, #T_8ea2f_row5_col9, #T_8ea2f_row6_col4 {\n",
              "  background-color: #8caffe;\n",
              "  color: #000000;\n",
              "}\n",
              "#T_8ea2f_row4_col9, #T_8ea2f_row9_col4, #T_8ea2f_row11_col2 {\n",
              "  background-color: #dddcdc;\n",
              "  color: #000000;\n",
              "}\n",
              "#T_8ea2f_row5_col0 {\n",
              "  background-color: #a3c2fe;\n",
              "  color: #000000;\n",
              "}\n",
              "#T_8ea2f_row5_col1 {\n",
              "  background-color: #afcafc;\n",
              "  color: #000000;\n",
              "}\n",
              "#T_8ea2f_row5_col2, #T_8ea2f_row5_col7 {\n",
              "  background-color: #a5c3fe;\n",
              "  color: #000000;\n",
              "}\n",
              "#T_8ea2f_row5_col6 {\n",
              "  background-color: #f6a385;\n",
              "  color: #000000;\n",
              "}\n",
              "#T_8ea2f_row5_col10, #T_8ea2f_row9_col8 {\n",
              "  background-color: #9abbff;\n",
              "  color: #000000;\n",
              "}\n",
              "#T_8ea2f_row5_col11 {\n",
              "  background-color: #8badfd;\n",
              "  color: #000000;\n",
              "}\n",
              "#T_8ea2f_row6_col2 {\n",
              "  background-color: #b9d0f9;\n",
              "  color: #000000;\n",
              "}\n",
              "#T_8ea2f_row6_col3 {\n",
              "  background-color: #93b5fe;\n",
              "  color: #000000;\n",
              "}\n",
              "#T_8ea2f_row6_col5 {\n",
              "  background-color: #f7a889;\n",
              "  color: #000000;\n",
              "}\n",
              "#T_8ea2f_row6_col7 {\n",
              "  background-color: #bad0f8;\n",
              "  color: #000000;\n",
              "}\n",
              "#T_8ea2f_row6_col8 {\n",
              "  background-color: #b5cdfa;\n",
              "  color: #000000;\n",
              "}\n",
              "#T_8ea2f_row6_col9, #T_8ea2f_row8_col11 {\n",
              "  background-color: #89acfd;\n",
              "  color: #000000;\n",
              "}\n",
              "#T_8ea2f_row6_col10, #T_8ea2f_row8_col5 {\n",
              "  background-color: #799cf8;\n",
              "  color: #f1f1f1;\n",
              "}\n",
              "#T_8ea2f_row6_col11 {\n",
              "  background-color: #688aef;\n",
              "  color: #f1f1f1;\n",
              "}\n",
              "#T_8ea2f_row7_col0 {\n",
              "  background-color: #ed8366;\n",
              "  color: #f1f1f1;\n",
              "}\n",
              "#T_8ea2f_row7_col2 {\n",
              "  background-color: #f1cdba;\n",
              "  color: #000000;\n",
              "}\n",
              "#T_8ea2f_row7_col5, #T_8ea2f_row8_col6 {\n",
              "  background-color: #5e7de7;\n",
              "  color: #f1f1f1;\n",
              "}\n",
              "#T_8ea2f_row7_col6 {\n",
              "  background-color: #85a8fc;\n",
              "  color: #f1f1f1;\n",
              "}\n",
              "#T_8ea2f_row7_col9 {\n",
              "  background-color: #a7c5fe;\n",
              "  color: #000000;\n",
              "}\n",
              "#T_8ea2f_row7_col11 {\n",
              "  background-color: #6b8df0;\n",
              "  color: #f1f1f1;\n",
              "}\n",
              "#T_8ea2f_row8_col1 {\n",
              "  background-color: #dedcdb;\n",
              "  color: #000000;\n",
              "}\n",
              "#T_8ea2f_row8_col2 {\n",
              "  background-color: #3c4ec2;\n",
              "  color: #f1f1f1;\n",
              "}\n",
              "#T_8ea2f_row8_col7, #T_8ea2f_row11_col1 {\n",
              "  background-color: #5a78e4;\n",
              "  color: #f1f1f1;\n",
              "}\n",
              "#T_8ea2f_row8_col9 {\n",
              "  background-color: #4a63d3;\n",
              "  color: #f1f1f1;\n",
              "}\n",
              "#T_8ea2f_row8_col10 {\n",
              "  background-color: #d5dbe5;\n",
              "  color: #000000;\n",
              "}\n",
              "#T_8ea2f_row9_col0 {\n",
              "  background-color: #e0dbd8;\n",
              "  color: #000000;\n",
              "}\n",
              "#T_8ea2f_row9_col2 {\n",
              "  background-color: #ead4c8;\n",
              "  color: #000000;\n",
              "}\n",
              "#T_8ea2f_row9_col5 {\n",
              "  background-color: #7396f5;\n",
              "  color: #f1f1f1;\n",
              "}\n",
              "#T_8ea2f_row9_col6 {\n",
              "  background-color: #7da0f9;\n",
              "  color: #f1f1f1;\n",
              "}\n",
              "#T_8ea2f_row9_col7 {\n",
              "  background-color: #cad8ef;\n",
              "  color: #000000;\n",
              "}\n",
              "#T_8ea2f_row9_col10 {\n",
              "  background-color: #bed2f6;\n",
              "  color: #000000;\n",
              "}\n",
              "#T_8ea2f_row10_col1 {\n",
              "  background-color: #84a7fc;\n",
              "  color: #f1f1f1;\n",
              "}\n",
              "#T_8ea2f_row10_col2 {\n",
              "  background-color: #c9d7f0;\n",
              "  color: #000000;\n",
              "}\n",
              "#T_8ea2f_row10_col3 {\n",
              "  background-color: #5f7fe8;\n",
              "  color: #f1f1f1;\n",
              "}\n",
              "#T_8ea2f_row10_col4 {\n",
              "  background-color: #445acc;\n",
              "  color: #f1f1f1;\n",
              "}\n",
              "#T_8ea2f_row10_col5 {\n",
              "  background-color: #506bda;\n",
              "  color: #f1f1f1;\n",
              "}\n",
              "#T_8ea2f_row10_col8 {\n",
              "  background-color: #e4d9d2;\n",
              "  color: #000000;\n",
              "}\n",
              "#T_8ea2f_row10_col9 {\n",
              "  background-color: #97b8ff;\n",
              "  color: #000000;\n",
              "}\n",
              "#T_8ea2f_row10_col11 {\n",
              "  background-color: #f4c5ad;\n",
              "  color: #000000;\n",
              "}\n",
              "#T_8ea2f_row11_col0 {\n",
              "  background-color: #d7dce3;\n",
              "  color: #000000;\n",
              "}\n",
              "#T_8ea2f_row11_col3 {\n",
              "  background-color: #5673e0;\n",
              "  color: #f1f1f1;\n",
              "}\n",
              "#T_8ea2f_row11_col4 {\n",
              "  background-color: #5b7ae5;\n",
              "  color: #f1f1f1;\n",
              "}\n",
              "#T_8ea2f_row11_col5 {\n",
              "  background-color: #5572df;\n",
              "  color: #f1f1f1;\n",
              "}\n",
              "#T_8ea2f_row11_col6 {\n",
              "  background-color: #3f53c6;\n",
              "  color: #f1f1f1;\n",
              "}\n",
              "#T_8ea2f_row11_col8 {\n",
              "  background-color: #b7cff9;\n",
              "  color: #000000;\n",
              "}\n",
              "#T_8ea2f_row11_col9 {\n",
              "  background-color: #c3d5f4;\n",
              "  color: #000000;\n",
              "}\n",
              "#T_8ea2f_row11_col10 {\n",
              "  background-color: #f6bda2;\n",
              "  color: #000000;\n",
              "}\n",
              "</style>\n",
              "<table id=\"T_8ea2f_\" class=\"dataframe\">\n",
              "  <thead>\n",
              "    <tr>\n",
              "      <th class=\"blank level0\" >&nbsp;</th>\n",
              "      <th class=\"col_heading level0 col0\" >fixed acidity</th>\n",
              "      <th class=\"col_heading level0 col1\" >volatile acidity</th>\n",
              "      <th class=\"col_heading level0 col2\" >citric acid</th>\n",
              "      <th class=\"col_heading level0 col3\" >residual sugar</th>\n",
              "      <th class=\"col_heading level0 col4\" >chlorides</th>\n",
              "      <th class=\"col_heading level0 col5\" >free sulfur dioxide</th>\n",
              "      <th class=\"col_heading level0 col6\" >total sulfur dioxide</th>\n",
              "      <th class=\"col_heading level0 col7\" >density</th>\n",
              "      <th class=\"col_heading level0 col8\" >pH</th>\n",
              "      <th class=\"col_heading level0 col9\" >sulphates</th>\n",
              "      <th class=\"col_heading level0 col10\" >alcohol</th>\n",
              "      <th class=\"col_heading level0 col11\" >quality</th>\n",
              "    </tr>\n",
              "  </thead>\n",
              "  <tbody>\n",
              "    <tr>\n",
              "      <th id=\"T_8ea2f_level0_row0\" class=\"row_heading level0 row0\" >fixed acidity</th>\n",
              "      <td id=\"T_8ea2f_row0_col0\" class=\"data row0 col0\" >1.00</td>\n",
              "      <td id=\"T_8ea2f_row0_col1\" class=\"data row0 col1\" >-0.26</td>\n",
              "      <td id=\"T_8ea2f_row0_col2\" class=\"data row0 col2\" >0.67</td>\n",
              "      <td id=\"T_8ea2f_row0_col3\" class=\"data row0 col3\" >0.11</td>\n",
              "      <td id=\"T_8ea2f_row0_col4\" class=\"data row0 col4\" >0.09</td>\n",
              "      <td id=\"T_8ea2f_row0_col5\" class=\"data row0 col5\" >-0.15</td>\n",
              "      <td id=\"T_8ea2f_row0_col6\" class=\"data row0 col6\" >-0.11</td>\n",
              "      <td id=\"T_8ea2f_row0_col7\" class=\"data row0 col7\" >0.67</td>\n",
              "      <td id=\"T_8ea2f_row0_col8\" class=\"data row0 col8\" >-0.68</td>\n",
              "      <td id=\"T_8ea2f_row0_col9\" class=\"data row0 col9\" >0.18</td>\n",
              "      <td id=\"T_8ea2f_row0_col10\" class=\"data row0 col10\" >-0.06</td>\n",
              "      <td id=\"T_8ea2f_row0_col11\" class=\"data row0 col11\" >0.12</td>\n",
              "    </tr>\n",
              "    <tr>\n",
              "      <th id=\"T_8ea2f_level0_row1\" class=\"row_heading level0 row1\" >volatile acidity</th>\n",
              "      <td id=\"T_8ea2f_row1_col0\" class=\"data row1 col0\" >-0.26</td>\n",
              "      <td id=\"T_8ea2f_row1_col1\" class=\"data row1 col1\" >1.00</td>\n",
              "      <td id=\"T_8ea2f_row1_col2\" class=\"data row1 col2\" >-0.55</td>\n",
              "      <td id=\"T_8ea2f_row1_col3\" class=\"data row1 col3\" >0.00</td>\n",
              "      <td id=\"T_8ea2f_row1_col4\" class=\"data row1 col4\" >0.06</td>\n",
              "      <td id=\"T_8ea2f_row1_col5\" class=\"data row1 col5\" >-0.01</td>\n",
              "      <td id=\"T_8ea2f_row1_col6\" class=\"data row1 col6\" >0.08</td>\n",
              "      <td id=\"T_8ea2f_row1_col7\" class=\"data row1 col7\" >0.02</td>\n",
              "      <td id=\"T_8ea2f_row1_col8\" class=\"data row1 col8\" >0.23</td>\n",
              "      <td id=\"T_8ea2f_row1_col9\" class=\"data row1 col9\" >-0.26</td>\n",
              "      <td id=\"T_8ea2f_row1_col10\" class=\"data row1 col10\" >-0.20</td>\n",
              "      <td id=\"T_8ea2f_row1_col11\" class=\"data row1 col11\" >-0.39</td>\n",
              "    </tr>\n",
              "    <tr>\n",
              "      <th id=\"T_8ea2f_level0_row2\" class=\"row_heading level0 row2\" >citric acid</th>\n",
              "      <td id=\"T_8ea2f_row2_col0\" class=\"data row2 col0\" >0.67</td>\n",
              "      <td id=\"T_8ea2f_row2_col1\" class=\"data row2 col1\" >-0.55</td>\n",
              "      <td id=\"T_8ea2f_row2_col2\" class=\"data row2 col2\" >1.00</td>\n",
              "      <td id=\"T_8ea2f_row2_col3\" class=\"data row2 col3\" >0.14</td>\n",
              "      <td id=\"T_8ea2f_row2_col4\" class=\"data row2 col4\" >0.20</td>\n",
              "      <td id=\"T_8ea2f_row2_col5\" class=\"data row2 col5\" >-0.06</td>\n",
              "      <td id=\"T_8ea2f_row2_col6\" class=\"data row2 col6\" >0.04</td>\n",
              "      <td id=\"T_8ea2f_row2_col7\" class=\"data row2 col7\" >0.36</td>\n",
              "      <td id=\"T_8ea2f_row2_col8\" class=\"data row2 col8\" >-0.54</td>\n",
              "      <td id=\"T_8ea2f_row2_col9\" class=\"data row2 col9\" >0.31</td>\n",
              "      <td id=\"T_8ea2f_row2_col10\" class=\"data row2 col10\" >0.11</td>\n",
              "      <td id=\"T_8ea2f_row2_col11\" class=\"data row2 col11\" >0.23</td>\n",
              "    </tr>\n",
              "    <tr>\n",
              "      <th id=\"T_8ea2f_level0_row3\" class=\"row_heading level0 row3\" >residual sugar</th>\n",
              "      <td id=\"T_8ea2f_row3_col0\" class=\"data row3 col0\" >0.11</td>\n",
              "      <td id=\"T_8ea2f_row3_col1\" class=\"data row3 col1\" >0.00</td>\n",
              "      <td id=\"T_8ea2f_row3_col2\" class=\"data row3 col2\" >0.14</td>\n",
              "      <td id=\"T_8ea2f_row3_col3\" class=\"data row3 col3\" >1.00</td>\n",
              "      <td id=\"T_8ea2f_row3_col4\" class=\"data row3 col4\" >0.06</td>\n",
              "      <td id=\"T_8ea2f_row3_col5\" class=\"data row3 col5\" >0.19</td>\n",
              "      <td id=\"T_8ea2f_row3_col6\" class=\"data row3 col6\" >0.20</td>\n",
              "      <td id=\"T_8ea2f_row3_col7\" class=\"data row3 col7\" >0.36</td>\n",
              "      <td id=\"T_8ea2f_row3_col8\" class=\"data row3 col8\" >-0.09</td>\n",
              "      <td id=\"T_8ea2f_row3_col9\" class=\"data row3 col9\" >0.01</td>\n",
              "      <td id=\"T_8ea2f_row3_col10\" class=\"data row3 col10\" >0.04</td>\n",
              "      <td id=\"T_8ea2f_row3_col11\" class=\"data row3 col11\" >0.01</td>\n",
              "    </tr>\n",
              "    <tr>\n",
              "      <th id=\"T_8ea2f_level0_row4\" class=\"row_heading level0 row4\" >chlorides</th>\n",
              "      <td id=\"T_8ea2f_row4_col0\" class=\"data row4 col0\" >0.09</td>\n",
              "      <td id=\"T_8ea2f_row4_col1\" class=\"data row4 col1\" >0.06</td>\n",
              "      <td id=\"T_8ea2f_row4_col2\" class=\"data row4 col2\" >0.20</td>\n",
              "      <td id=\"T_8ea2f_row4_col3\" class=\"data row4 col3\" >0.06</td>\n",
              "      <td id=\"T_8ea2f_row4_col4\" class=\"data row4 col4\" >1.00</td>\n",
              "      <td id=\"T_8ea2f_row4_col5\" class=\"data row4 col5\" >0.01</td>\n",
              "      <td id=\"T_8ea2f_row4_col6\" class=\"data row4 col6\" >0.05</td>\n",
              "      <td id=\"T_8ea2f_row4_col7\" class=\"data row4 col7\" >0.20</td>\n",
              "      <td id=\"T_8ea2f_row4_col8\" class=\"data row4 col8\" >-0.27</td>\n",
              "      <td id=\"T_8ea2f_row4_col9\" class=\"data row4 col9\" >0.37</td>\n",
              "      <td id=\"T_8ea2f_row4_col10\" class=\"data row4 col10\" >-0.22</td>\n",
              "      <td id=\"T_8ea2f_row4_col11\" class=\"data row4 col11\" >-0.13</td>\n",
              "    </tr>\n",
              "    <tr>\n",
              "      <th id=\"T_8ea2f_level0_row5\" class=\"row_heading level0 row5\" >free sulfur dioxide</th>\n",
              "      <td id=\"T_8ea2f_row5_col0\" class=\"data row5 col0\" >-0.15</td>\n",
              "      <td id=\"T_8ea2f_row5_col1\" class=\"data row5 col1\" >-0.01</td>\n",
              "      <td id=\"T_8ea2f_row5_col2\" class=\"data row5 col2\" >-0.06</td>\n",
              "      <td id=\"T_8ea2f_row5_col3\" class=\"data row5 col3\" >0.19</td>\n",
              "      <td id=\"T_8ea2f_row5_col4\" class=\"data row5 col4\" >0.01</td>\n",
              "      <td id=\"T_8ea2f_row5_col5\" class=\"data row5 col5\" >1.00</td>\n",
              "      <td id=\"T_8ea2f_row5_col6\" class=\"data row5 col6\" >0.67</td>\n",
              "      <td id=\"T_8ea2f_row5_col7\" class=\"data row5 col7\" >-0.02</td>\n",
              "      <td id=\"T_8ea2f_row5_col8\" class=\"data row5 col8\" >0.07</td>\n",
              "      <td id=\"T_8ea2f_row5_col9\" class=\"data row5 col9\" >0.05</td>\n",
              "      <td id=\"T_8ea2f_row5_col10\" class=\"data row5 col10\" >-0.07</td>\n",
              "      <td id=\"T_8ea2f_row5_col11\" class=\"data row5 col11\" >-0.05</td>\n",
              "    </tr>\n",
              "    <tr>\n",
              "      <th id=\"T_8ea2f_level0_row6\" class=\"row_heading level0 row6\" >total sulfur dioxide</th>\n",
              "      <td id=\"T_8ea2f_row6_col0\" class=\"data row6 col0\" >-0.11</td>\n",
              "      <td id=\"T_8ea2f_row6_col1\" class=\"data row6 col1\" >0.08</td>\n",
              "      <td id=\"T_8ea2f_row6_col2\" class=\"data row6 col2\" >0.04</td>\n",
              "      <td id=\"T_8ea2f_row6_col3\" class=\"data row6 col3\" >0.20</td>\n",
              "      <td id=\"T_8ea2f_row6_col4\" class=\"data row6 col4\" >0.05</td>\n",
              "      <td id=\"T_8ea2f_row6_col5\" class=\"data row6 col5\" >0.67</td>\n",
              "      <td id=\"T_8ea2f_row6_col6\" class=\"data row6 col6\" >1.00</td>\n",
              "      <td id=\"T_8ea2f_row6_col7\" class=\"data row6 col7\" >0.07</td>\n",
              "      <td id=\"T_8ea2f_row6_col8\" class=\"data row6 col8\" >-0.07</td>\n",
              "      <td id=\"T_8ea2f_row6_col9\" class=\"data row6 col9\" >0.04</td>\n",
              "      <td id=\"T_8ea2f_row6_col10\" class=\"data row6 col10\" >-0.21</td>\n",
              "      <td id=\"T_8ea2f_row6_col11\" class=\"data row6 col11\" >-0.19</td>\n",
              "    </tr>\n",
              "    <tr>\n",
              "      <th id=\"T_8ea2f_level0_row7\" class=\"row_heading level0 row7\" >density</th>\n",
              "      <td id=\"T_8ea2f_row7_col0\" class=\"data row7 col0\" >0.67</td>\n",
              "      <td id=\"T_8ea2f_row7_col1\" class=\"data row7 col1\" >0.02</td>\n",
              "      <td id=\"T_8ea2f_row7_col2\" class=\"data row7 col2\" >0.36</td>\n",
              "      <td id=\"T_8ea2f_row7_col3\" class=\"data row7 col3\" >0.36</td>\n",
              "      <td id=\"T_8ea2f_row7_col4\" class=\"data row7 col4\" >0.20</td>\n",
              "      <td id=\"T_8ea2f_row7_col5\" class=\"data row7 col5\" >-0.02</td>\n",
              "      <td id=\"T_8ea2f_row7_col6\" class=\"data row7 col6\" >0.07</td>\n",
              "      <td id=\"T_8ea2f_row7_col7\" class=\"data row7 col7\" >1.00</td>\n",
              "      <td id=\"T_8ea2f_row7_col8\" class=\"data row7 col8\" >-0.34</td>\n",
              "      <td id=\"T_8ea2f_row7_col9\" class=\"data row7 col9\" >0.15</td>\n",
              "      <td id=\"T_8ea2f_row7_col10\" class=\"data row7 col10\" >-0.50</td>\n",
              "      <td id=\"T_8ea2f_row7_col11\" class=\"data row7 col11\" >-0.17</td>\n",
              "    </tr>\n",
              "    <tr>\n",
              "      <th id=\"T_8ea2f_level0_row8\" class=\"row_heading level0 row8\" >pH</th>\n",
              "      <td id=\"T_8ea2f_row8_col0\" class=\"data row8 col0\" >-0.68</td>\n",
              "      <td id=\"T_8ea2f_row8_col1\" class=\"data row8 col1\" >0.23</td>\n",
              "      <td id=\"T_8ea2f_row8_col2\" class=\"data row8 col2\" >-0.54</td>\n",
              "      <td id=\"T_8ea2f_row8_col3\" class=\"data row8 col3\" >-0.09</td>\n",
              "      <td id=\"T_8ea2f_row8_col4\" class=\"data row8 col4\" >-0.27</td>\n",
              "      <td id=\"T_8ea2f_row8_col5\" class=\"data row8 col5\" >0.07</td>\n",
              "      <td id=\"T_8ea2f_row8_col6\" class=\"data row8 col6\" >-0.07</td>\n",
              "      <td id=\"T_8ea2f_row8_col7\" class=\"data row8 col7\" >-0.34</td>\n",
              "      <td id=\"T_8ea2f_row8_col8\" class=\"data row8 col8\" >1.00</td>\n",
              "      <td id=\"T_8ea2f_row8_col9\" class=\"data row8 col9\" >-0.20</td>\n",
              "      <td id=\"T_8ea2f_row8_col10\" class=\"data row8 col10\" >0.21</td>\n",
              "      <td id=\"T_8ea2f_row8_col11\" class=\"data row8 col11\" >-0.06</td>\n",
              "    </tr>\n",
              "    <tr>\n",
              "      <th id=\"T_8ea2f_level0_row9\" class=\"row_heading level0 row9\" >sulphates</th>\n",
              "      <td id=\"T_8ea2f_row9_col0\" class=\"data row9 col0\" >0.18</td>\n",
              "      <td id=\"T_8ea2f_row9_col1\" class=\"data row9 col1\" >-0.26</td>\n",
              "      <td id=\"T_8ea2f_row9_col2\" class=\"data row9 col2\" >0.31</td>\n",
              "      <td id=\"T_8ea2f_row9_col3\" class=\"data row9 col3\" >0.01</td>\n",
              "      <td id=\"T_8ea2f_row9_col4\" class=\"data row9 col4\" >0.37</td>\n",
              "      <td id=\"T_8ea2f_row9_col5\" class=\"data row9 col5\" >0.05</td>\n",
              "      <td id=\"T_8ea2f_row9_col6\" class=\"data row9 col6\" >0.04</td>\n",
              "      <td id=\"T_8ea2f_row9_col7\" class=\"data row9 col7\" >0.15</td>\n",
              "      <td id=\"T_8ea2f_row9_col8\" class=\"data row9 col8\" >-0.20</td>\n",
              "      <td id=\"T_8ea2f_row9_col9\" class=\"data row9 col9\" >1.00</td>\n",
              "      <td id=\"T_8ea2f_row9_col10\" class=\"data row9 col10\" >0.09</td>\n",
              "      <td id=\"T_8ea2f_row9_col11\" class=\"data row9 col11\" >0.25</td>\n",
              "    </tr>\n",
              "    <tr>\n",
              "      <th id=\"T_8ea2f_level0_row10\" class=\"row_heading level0 row10\" >alcohol</th>\n",
              "      <td id=\"T_8ea2f_row10_col0\" class=\"data row10 col0\" >-0.06</td>\n",
              "      <td id=\"T_8ea2f_row10_col1\" class=\"data row10 col1\" >-0.20</td>\n",
              "      <td id=\"T_8ea2f_row10_col2\" class=\"data row10 col2\" >0.11</td>\n",
              "      <td id=\"T_8ea2f_row10_col3\" class=\"data row10 col3\" >0.04</td>\n",
              "      <td id=\"T_8ea2f_row10_col4\" class=\"data row10 col4\" >-0.22</td>\n",
              "      <td id=\"T_8ea2f_row10_col5\" class=\"data row10 col5\" >-0.07</td>\n",
              "      <td id=\"T_8ea2f_row10_col6\" class=\"data row10 col6\" >-0.21</td>\n",
              "      <td id=\"T_8ea2f_row10_col7\" class=\"data row10 col7\" >-0.50</td>\n",
              "      <td id=\"T_8ea2f_row10_col8\" class=\"data row10 col8\" >0.21</td>\n",
              "      <td id=\"T_8ea2f_row10_col9\" class=\"data row10 col9\" >0.09</td>\n",
              "      <td id=\"T_8ea2f_row10_col10\" class=\"data row10 col10\" >1.00</td>\n",
              "      <td id=\"T_8ea2f_row10_col11\" class=\"data row10 col11\" >0.48</td>\n",
              "    </tr>\n",
              "    <tr>\n",
              "      <th id=\"T_8ea2f_level0_row11\" class=\"row_heading level0 row11\" >quality</th>\n",
              "      <td id=\"T_8ea2f_row11_col0\" class=\"data row11 col0\" >0.12</td>\n",
              "      <td id=\"T_8ea2f_row11_col1\" class=\"data row11 col1\" >-0.39</td>\n",
              "      <td id=\"T_8ea2f_row11_col2\" class=\"data row11 col2\" >0.23</td>\n",
              "      <td id=\"T_8ea2f_row11_col3\" class=\"data row11 col3\" >0.01</td>\n",
              "      <td id=\"T_8ea2f_row11_col4\" class=\"data row11 col4\" >-0.13</td>\n",
              "      <td id=\"T_8ea2f_row11_col5\" class=\"data row11 col5\" >-0.05</td>\n",
              "      <td id=\"T_8ea2f_row11_col6\" class=\"data row11 col6\" >-0.19</td>\n",
              "      <td id=\"T_8ea2f_row11_col7\" class=\"data row11 col7\" >-0.17</td>\n",
              "      <td id=\"T_8ea2f_row11_col8\" class=\"data row11 col8\" >-0.06</td>\n",
              "      <td id=\"T_8ea2f_row11_col9\" class=\"data row11 col9\" >0.25</td>\n",
              "      <td id=\"T_8ea2f_row11_col10\" class=\"data row11 col10\" >0.48</td>\n",
              "      <td id=\"T_8ea2f_row11_col11\" class=\"data row11 col11\" >1.00</td>\n",
              "    </tr>\n",
              "  </tbody>\n",
              "</table>\n"
            ],
            "text/plain": [
              "<pandas.io.formats.style.Styler at 0x7f2a0d6dbd00>"
            ]
          },
          "execution_count": 3,
          "metadata": {},
          "output_type": "execute_result"
        }
      ],
      "source": [
        "corr1 = red_wine.corr()\n",
        "corr1.style.background_gradient(cmap=\"coolwarm\").set_precision(2)"
      ]
    },
    {
      "cell_type": "code",
      "execution_count": null,
      "metadata": {
        "id": "EyPFKBeNs2RB"
      },
      "outputs": [],
      "source": [
        "def logistic_wine_regression(x: pd.DataFrame, y: pd.DataFrame, max_iter: int = 100,\n",
        "random_state=0, test_size: float = 0.3):\n",
        "\n",
        "    X_train,X_test,Y_train, Y_test = train_test_split(x,y,          \n",
        "                                              random_state = 0,\n",
        "                                              test_size = test_size)\n",
        "    model_log = LogisticRegression(max_iter=max_iter)\n",
        "    model_log.fit(X_train,Y_train)\n",
        "    pred_train = model_log.predict(X_train)\n",
        "    pred_test = model_log.predict(X_test)\n",
        "\n",
        "    score = model_log.score(X_test, Y_test)\n",
        "\n",
        "    train_accuracy = model_log.score(X_train, Y_train)\n",
        "    test_accuracy = model_log.score(X_test, Y_test)\n",
        "\n",
        "    print(\"=-= Evaluation =-=\")\n",
        "\n",
        "    print('One-vs-rest', '-'*35, \n",
        "      'Accuracy in Train Group   : {:.2f}'.format(train_accuracy), \n",
        "      'Accuracy in Test  Group   : {:.2f}'.format(test_accuracy), sep='\\n')\n",
        "\n",
        "\n",
        "    print(classification_report(Y_test, pred_test, zero_division=0))\n",
        "    print(\"Micro average precision score: {:.3f}\".format (precision_score(Y_test, pred_test, average=\"micro\", zero_division=0)))\n",
        "\n",
        "    \n",
        "    return model_log\n",
        "\n"
      ]
    },
    {
      "cell_type": "code",
      "execution_count": null,
      "metadata": {
        "colab": {
          "base_uri": "https://localhost:8080/"
        },
        "id": "3pDUU0jWs2RC",
        "outputId": "41c59bd9-28c4-4c55-9ffd-9bb359f5c1c1"
      },
      "outputs": [
        {
          "name": "stdout",
          "output_type": "stream",
          "text": [
            "Red Wine Regression:\n",
            "=-= Evaluation =-=\n",
            "One-vs-rest\n",
            "-----------------------------------\n",
            "Accuracy in Train Group   : 0.59\n",
            "Accuracy in Test  Group   : 0.62\n",
            "              precision    recall  f1-score   support\n",
            "\n",
            "           3       0.00      0.00      0.00         3\n",
            "           4       0.00      0.00      0.00        15\n",
            "           5       0.67      0.76      0.71       208\n",
            "           6       0.60      0.62      0.61       204\n",
            "           7       0.42      0.31      0.36        45\n",
            "           8       0.00      0.00      0.00         5\n",
            "\n",
            "    accuracy                           0.62       480\n",
            "   macro avg       0.28      0.28      0.28       480\n",
            "weighted avg       0.58      0.62      0.60       480\n",
            "\n",
            "Micro average precision score: 0.621\n",
            "\n",
            " \n",
            "\n",
            "White Wine Regression:\n",
            "=-= Evaluation =-=\n",
            "One-vs-rest\n",
            "-----------------------------------\n",
            "Accuracy in Train Group   : 0.54\n",
            "Accuracy in Test  Group   : 0.52\n",
            "              precision    recall  f1-score   support\n",
            "\n",
            "           3       0.00      0.00      0.00        12\n",
            "           4       0.00      0.00      0.00       112\n",
            "           5       0.58      0.44      0.50      1036\n",
            "           6       0.50      0.81      0.62      1511\n",
            "           7       0.52      0.15      0.23       628\n",
            "           8       0.00      0.00      0.00       127\n",
            "           9       0.00      0.00      0.00         3\n",
            "\n",
            "    accuracy                           0.52      3429\n",
            "   macro avg       0.23      0.20      0.19      3429\n",
            "weighted avg       0.49      0.52      0.47      3429\n",
            "\n",
            "Micro average precision score: 0.519\n"
          ]
        }
      ],
      "source": [
        "X_cols = [\"volatile acidity\", \"fixed acidity\", \"citric acid\",\n",
        "        \"residual sugar\", \"chlorides\", \"total sulfur dioxide\",\n",
        "        \"free sulfur dioxide\" ,\"density\",\"pH\",\n",
        "        \"sulphates\", \"alcohol\"]\n",
        "\n",
        "\n",
        "print(\"Red Wine Regression:\")\n",
        "red_w_r = logistic_wine_regression(x=red_wine[X_cols], y=red_wine['quality'], random_state=0, test_size=0.3, max_iter=5000)\n",
        "print(\"\\n \\n\")\n",
        "print(\"White Wine Regression:\")\n",
        "white_w_r_ = logistic_wine_regression(x=white_wine[X_cols], y=white_wine['quality'], random_state=0, test_size=0.7, max_iter=3000)\n",
        "\n"
      ]
    },
    {
      "cell_type": "markdown",
      "metadata": {
        "id": "K7epghYCs2RD"
      },
      "source": [
        "Logistic regression is actually a binary classification algorithm which can be used for questions such as Yes/No, True/False, etc. In this case it allows us to use it for multi-class classification problems such as ours because in our dataset there are 5 classes for quality to be predicted as. "
      ]
    },
    {
      "cell_type": "markdown",
      "metadata": {
        "id": "34nBWfNws2RE"
      },
      "source": [
        "# T2. Bank Marketing Dataset"
      ]
    },
    {
      "cell_type": "markdown",
      "metadata": {
        "id": "9S_Q4w8Us2RE"
      },
      "source": [
        "## Data Preprocessing "
      ]
    },
    {
      "cell_type": "markdown",
      "metadata": {
        "id": "BPHfDjW7s2RG"
      },
      "source": [
        "First step: import & encode such that individual features have the right datatype. "
      ]
    },
    {
      "cell_type": "code",
      "execution_count": null,
      "metadata": {
        "id": "qFDQU9fiN4-9"
      },
      "outputs": [],
      "source": [
        "bank_marketing_test_label_unmerged = pd.read_csv(\"https://raw.githubusercontent.com/leonvanrooijen/opensource_data/main/test_label.csv\")\n",
        "bank_marketing_test_unmerged = pd.read_csv(\"https://raw.githubusercontent.com/leonvanrooijen/opensource_data/main/test.csv\")\n",
        "bank_marketing_test_label_unmerged.set_index(\"ID\")\n",
        "bank_marketing_test_unmerged.set_index(\"ID\")\n",
        "\n",
        "bank_marketing_test = bank_marketing_test_unmerged.merge(bank_marketing_test_label_unmerged).copy()\n",
        "bank_marketing_train = pd.read_csv(\"https://raw.githubusercontent.com/leonvanrooijen/opensource_data/main/train.csv\")\n",
        "del bank_marketing_test_label_unmerged, bank_marketing_test_unmerged"
      ]
    },
    {
      "cell_type": "code",
      "execution_count": null,
      "metadata": {
        "id": "cy1CGevvgMRu"
      },
      "outputs": [],
      "source": [
        "#Encoding the data: this needs to be done for: job, marital, education, contact, poutcome\n",
        "#enc = OneHotEncoder(handle_unknown='ignore')\n",
        "#X = [['Male', 1], ['Female', 3], ['Female', 2]]\n",
        "#enc.fit(X)\n",
        "#OneHotEncoder(handle_unknown='ignore')"
      ]
    },
    {
      "cell_type": "code",
      "execution_count": null,
      "metadata": {
        "colab": {
          "base_uri": "https://localhost:8080/",
          "height": 363
        },
        "id": "4SvnZ4Qbs2RL",
        "outputId": "9601aa68-057b-461b-f596-f052258027a8"
      },
      "outputs": [
        {
          "data": {
            "text/html": [
              "\n",
              "  <div id=\"df-564ea4bd-1385-4000-b2ab-5511742b2130\">\n",
              "    <div class=\"colab-df-container\">\n",
              "      <div>\n",
              "<style scoped>\n",
              "    .dataframe tbody tr th:only-of-type {\n",
              "        vertical-align: middle;\n",
              "    }\n",
              "\n",
              "    .dataframe tbody tr th {\n",
              "        vertical-align: top;\n",
              "    }\n",
              "\n",
              "    .dataframe thead th {\n",
              "        text-align: right;\n",
              "    }\n",
              "</style>\n",
              "<table border=\"1\" class=\"dataframe\">\n",
              "  <thead>\n",
              "    <tr style=\"text-align: right;\">\n",
              "      <th></th>\n",
              "      <th>ID</th>\n",
              "      <th>age</th>\n",
              "      <th>job</th>\n",
              "      <th>marital</th>\n",
              "      <th>education</th>\n",
              "      <th>default</th>\n",
              "      <th>balance</th>\n",
              "      <th>housing</th>\n",
              "      <th>loan</th>\n",
              "      <th>contact</th>\n",
              "      <th>day</th>\n",
              "      <th>month</th>\n",
              "      <th>campaign</th>\n",
              "      <th>pdays</th>\n",
              "      <th>previous</th>\n",
              "      <th>poutcome</th>\n",
              "      <th>y</th>\n",
              "    </tr>\n",
              "  </thead>\n",
              "  <tbody>\n",
              "    <tr>\n",
              "      <th>0</th>\n",
              "      <td>13829</td>\n",
              "      <td>29</td>\n",
              "      <td>technician</td>\n",
              "      <td>single</td>\n",
              "      <td>tertiary</td>\n",
              "      <td>no</td>\n",
              "      <td>18254</td>\n",
              "      <td>no</td>\n",
              "      <td>no</td>\n",
              "      <td>cellular</td>\n",
              "      <td>11</td>\n",
              "      <td>may</td>\n",
              "      <td>2</td>\n",
              "      <td>-1</td>\n",
              "      <td>0</td>\n",
              "      <td>unknown</td>\n",
              "      <td>no</td>\n",
              "    </tr>\n",
              "    <tr>\n",
              "      <th>1</th>\n",
              "      <td>22677</td>\n",
              "      <td>26</td>\n",
              "      <td>services</td>\n",
              "      <td>single</td>\n",
              "      <td>secondary</td>\n",
              "      <td>no</td>\n",
              "      <td>512</td>\n",
              "      <td>yes</td>\n",
              "      <td>yes</td>\n",
              "      <td>unknown</td>\n",
              "      <td>5</td>\n",
              "      <td>jun</td>\n",
              "      <td>3</td>\n",
              "      <td>-1</td>\n",
              "      <td>0</td>\n",
              "      <td>unknown</td>\n",
              "      <td>no</td>\n",
              "    </tr>\n",
              "    <tr>\n",
              "      <th>2</th>\n",
              "      <td>10541</td>\n",
              "      <td>30</td>\n",
              "      <td>management</td>\n",
              "      <td>single</td>\n",
              "      <td>secondary</td>\n",
              "      <td>no</td>\n",
              "      <td>135</td>\n",
              "      <td>no</td>\n",
              "      <td>no</td>\n",
              "      <td>cellular</td>\n",
              "      <td>14</td>\n",
              "      <td>aug</td>\n",
              "      <td>2</td>\n",
              "      <td>-1</td>\n",
              "      <td>0</td>\n",
              "      <td>unknown</td>\n",
              "      <td>no</td>\n",
              "    </tr>\n",
              "    <tr>\n",
              "      <th>3</th>\n",
              "      <td>13689</td>\n",
              "      <td>41</td>\n",
              "      <td>technician</td>\n",
              "      <td>married</td>\n",
              "      <td>unknown</td>\n",
              "      <td>no</td>\n",
              "      <td>30</td>\n",
              "      <td>yes</td>\n",
              "      <td>no</td>\n",
              "      <td>cellular</td>\n",
              "      <td>10</td>\n",
              "      <td>jul</td>\n",
              "      <td>1</td>\n",
              "      <td>-1</td>\n",
              "      <td>0</td>\n",
              "      <td>unknown</td>\n",
              "      <td>no</td>\n",
              "    </tr>\n",
              "    <tr>\n",
              "      <th>4</th>\n",
              "      <td>11304</td>\n",
              "      <td>27</td>\n",
              "      <td>admin.</td>\n",
              "      <td>single</td>\n",
              "      <td>secondary</td>\n",
              "      <td>no</td>\n",
              "      <td>321</td>\n",
              "      <td>no</td>\n",
              "      <td>yes</td>\n",
              "      <td>unknown</td>\n",
              "      <td>2</td>\n",
              "      <td>sep</td>\n",
              "      <td>1</td>\n",
              "      <td>-1</td>\n",
              "      <td>0</td>\n",
              "      <td>unknown</td>\n",
              "      <td>no</td>\n",
              "    </tr>\n",
              "    <tr>\n",
              "      <th>5</th>\n",
              "      <td>15046</td>\n",
              "      <td>22</td>\n",
              "      <td>student</td>\n",
              "      <td>single</td>\n",
              "      <td>secondary</td>\n",
              "      <td>no</td>\n",
              "      <td>185</td>\n",
              "      <td>no</td>\n",
              "      <td>no</td>\n",
              "      <td>cellular</td>\n",
              "      <td>8</td>\n",
              "      <td>jul</td>\n",
              "      <td>1</td>\n",
              "      <td>-1</td>\n",
              "      <td>0</td>\n",
              "      <td>unknown</td>\n",
              "      <td>yes</td>\n",
              "    </tr>\n",
              "    <tr>\n",
              "      <th>6</th>\n",
              "      <td>15505</td>\n",
              "      <td>53</td>\n",
              "      <td>blue-collar</td>\n",
              "      <td>married</td>\n",
              "      <td>secondary</td>\n",
              "      <td>no</td>\n",
              "      <td>1777</td>\n",
              "      <td>yes</td>\n",
              "      <td>no</td>\n",
              "      <td>cellular</td>\n",
              "      <td>21</td>\n",
              "      <td>nov</td>\n",
              "      <td>5</td>\n",
              "      <td>154</td>\n",
              "      <td>1</td>\n",
              "      <td>failure</td>\n",
              "      <td>yes</td>\n",
              "    </tr>\n",
              "    <tr>\n",
              "      <th>7</th>\n",
              "      <td>22341</td>\n",
              "      <td>38</td>\n",
              "      <td>admin.</td>\n",
              "      <td>divorced</td>\n",
              "      <td>secondary</td>\n",
              "      <td>no</td>\n",
              "      <td>74</td>\n",
              "      <td>yes</td>\n",
              "      <td>no</td>\n",
              "      <td>cellular</td>\n",
              "      <td>23</td>\n",
              "      <td>jul</td>\n",
              "      <td>3</td>\n",
              "      <td>-1</td>\n",
              "      <td>0</td>\n",
              "      <td>unknown</td>\n",
              "      <td>no</td>\n",
              "    </tr>\n",
              "    <tr>\n",
              "      <th>8</th>\n",
              "      <td>18051</td>\n",
              "      <td>59</td>\n",
              "      <td>management</td>\n",
              "      <td>married</td>\n",
              "      <td>tertiary</td>\n",
              "      <td>no</td>\n",
              "      <td>3342</td>\n",
              "      <td>no</td>\n",
              "      <td>no</td>\n",
              "      <td>cellular</td>\n",
              "      <td>18</td>\n",
              "      <td>mar</td>\n",
              "      <td>2</td>\n",
              "      <td>188</td>\n",
              "      <td>6</td>\n",
              "      <td>other</td>\n",
              "      <td>yes</td>\n",
              "    </tr>\n",
              "    <tr>\n",
              "      <th>9</th>\n",
              "      <td>15826</td>\n",
              "      <td>37</td>\n",
              "      <td>housemaid</td>\n",
              "      <td>single</td>\n",
              "      <td>secondary</td>\n",
              "      <td>no</td>\n",
              "      <td>465</td>\n",
              "      <td>yes</td>\n",
              "      <td>no</td>\n",
              "      <td>cellular</td>\n",
              "      <td>18</td>\n",
              "      <td>may</td>\n",
              "      <td>3</td>\n",
              "      <td>-1</td>\n",
              "      <td>0</td>\n",
              "      <td>unknown</td>\n",
              "      <td>yes</td>\n",
              "    </tr>\n",
              "  </tbody>\n",
              "</table>\n",
              "</div>\n",
              "      <button class=\"colab-df-convert\" onclick=\"convertToInteractive('df-564ea4bd-1385-4000-b2ab-5511742b2130')\"\n",
              "              title=\"Convert this dataframe to an interactive table.\"\n",
              "              style=\"display:none;\">\n",
              "        \n",
              "  <svg xmlns=\"http://www.w3.org/2000/svg\" height=\"24px\"viewBox=\"0 0 24 24\"\n",
              "       width=\"24px\">\n",
              "    <path d=\"M0 0h24v24H0V0z\" fill=\"none\"/>\n",
              "    <path d=\"M18.56 5.44l.94 2.06.94-2.06 2.06-.94-2.06-.94-.94-2.06-.94 2.06-2.06.94zm-11 1L8.5 8.5l.94-2.06 2.06-.94-2.06-.94L8.5 2.5l-.94 2.06-2.06.94zm10 10l.94 2.06.94-2.06 2.06-.94-2.06-.94-.94-2.06-.94 2.06-2.06.94z\"/><path d=\"M17.41 7.96l-1.37-1.37c-.4-.4-.92-.59-1.43-.59-.52 0-1.04.2-1.43.59L10.3 9.45l-7.72 7.72c-.78.78-.78 2.05 0 2.83L4 21.41c.39.39.9.59 1.41.59.51 0 1.02-.2 1.41-.59l7.78-7.78 2.81-2.81c.8-.78.8-2.07 0-2.86zM5.41 20L4 18.59l7.72-7.72 1.47 1.35L5.41 20z\"/>\n",
              "  </svg>\n",
              "      </button>\n",
              "      \n",
              "  <style>\n",
              "    .colab-df-container {\n",
              "      display:flex;\n",
              "      flex-wrap:wrap;\n",
              "      gap: 12px;\n",
              "    }\n",
              "\n",
              "    .colab-df-convert {\n",
              "      background-color: #E8F0FE;\n",
              "      border: none;\n",
              "      border-radius: 50%;\n",
              "      cursor: pointer;\n",
              "      display: none;\n",
              "      fill: #1967D2;\n",
              "      height: 32px;\n",
              "      padding: 0 0 0 0;\n",
              "      width: 32px;\n",
              "    }\n",
              "\n",
              "    .colab-df-convert:hover {\n",
              "      background-color: #E2EBFA;\n",
              "      box-shadow: 0px 1px 2px rgba(60, 64, 67, 0.3), 0px 1px 3px 1px rgba(60, 64, 67, 0.15);\n",
              "      fill: #174EA6;\n",
              "    }\n",
              "\n",
              "    [theme=dark] .colab-df-convert {\n",
              "      background-color: #3B4455;\n",
              "      fill: #D2E3FC;\n",
              "    }\n",
              "\n",
              "    [theme=dark] .colab-df-convert:hover {\n",
              "      background-color: #434B5C;\n",
              "      box-shadow: 0px 1px 3px 1px rgba(0, 0, 0, 0.15);\n",
              "      filter: drop-shadow(0px 1px 2px rgba(0, 0, 0, 0.3));\n",
              "      fill: #FFFFFF;\n",
              "    }\n",
              "  </style>\n",
              "\n",
              "      <script>\n",
              "        const buttonEl =\n",
              "          document.querySelector('#df-564ea4bd-1385-4000-b2ab-5511742b2130 button.colab-df-convert');\n",
              "        buttonEl.style.display =\n",
              "          google.colab.kernel.accessAllowed ? 'block' : 'none';\n",
              "\n",
              "        async function convertToInteractive(key) {\n",
              "          const element = document.querySelector('#df-564ea4bd-1385-4000-b2ab-5511742b2130');\n",
              "          const dataTable =\n",
              "            await google.colab.kernel.invokeFunction('convertToInteractive',\n",
              "                                                     [key], {});\n",
              "          if (!dataTable) return;\n",
              "\n",
              "          const docLinkHtml = 'Like what you see? Visit the ' +\n",
              "            '<a target=\"_blank\" href=https://colab.research.google.com/notebooks/data_table.ipynb>data table notebook</a>'\n",
              "            + ' to learn more about interactive tables.';\n",
              "          element.innerHTML = '';\n",
              "          dataTable['output_type'] = 'display_data';\n",
              "          await google.colab.output.renderOutput(dataTable, element);\n",
              "          const docLink = document.createElement('div');\n",
              "          docLink.innerHTML = docLinkHtml;\n",
              "          element.appendChild(docLink);\n",
              "        }\n",
              "      </script>\n",
              "    </div>\n",
              "  </div>\n",
              "  "
            ],
            "text/plain": [
              "      ID  age          job   marital  education default  balance housing loan  \\\n",
              "0  13829   29   technician    single   tertiary      no    18254      no   no   \n",
              "1  22677   26     services    single  secondary      no      512     yes  yes   \n",
              "2  10541   30   management    single  secondary      no      135      no   no   \n",
              "3  13689   41   technician   married    unknown      no       30     yes   no   \n",
              "4  11304   27       admin.    single  secondary      no      321      no  yes   \n",
              "5  15046   22      student    single  secondary      no      185      no   no   \n",
              "6  15505   53  blue-collar   married  secondary      no     1777     yes   no   \n",
              "7  22341   38       admin.  divorced  secondary      no       74     yes   no   \n",
              "8  18051   59   management   married   tertiary      no     3342      no   no   \n",
              "9  15826   37    housemaid    single  secondary      no      465     yes   no   \n",
              "\n",
              "    contact  day month  campaign  pdays  previous poutcome    y  \n",
              "0  cellular   11   may         2     -1         0  unknown   no  \n",
              "1   unknown    5   jun         3     -1         0  unknown   no  \n",
              "2  cellular   14   aug         2     -1         0  unknown   no  \n",
              "3  cellular   10   jul         1     -1         0  unknown   no  \n",
              "4   unknown    2   sep         1     -1         0  unknown   no  \n",
              "5  cellular    8   jul         1     -1         0  unknown  yes  \n",
              "6  cellular   21   nov         5    154         1  failure  yes  \n",
              "7  cellular   23   jul         3     -1         0  unknown   no  \n",
              "8  cellular   18   mar         2    188         6    other  yes  \n",
              "9  cellular   18   may         3     -1         0  unknown  yes  "
            ]
          },
          "execution_count": 8,
          "metadata": {},
          "output_type": "execute_result"
        }
      ],
      "source": [
        "bank_marketing_train.head(10)\n"
      ]
    },
    {
      "cell_type": "code",
      "execution_count": null,
      "metadata": {
        "colab": {
          "base_uri": "https://localhost:8080/",
          "height": 474
        },
        "id": "jyj-oC9bR4uo",
        "outputId": "9fa39a5f-90d1-4d58-9243-37f4ff0d02c4"
      },
      "outputs": [
        {
          "name": "stdout",
          "output_type": "stream",
          "text": [
            "['success' 'unknown' 'failure' 'other']\n"
          ]
        },
        {
          "data": {
            "text/html": [
              "\n",
              "  <div id=\"df-3a094e0c-d769-47ba-b405-608858d29a04\">\n",
              "    <div class=\"colab-df-container\">\n",
              "      <div>\n",
              "<style scoped>\n",
              "    .dataframe tbody tr th:only-of-type {\n",
              "        vertical-align: middle;\n",
              "    }\n",
              "\n",
              "    .dataframe tbody tr th {\n",
              "        vertical-align: top;\n",
              "    }\n",
              "\n",
              "    .dataframe thead th {\n",
              "        text-align: right;\n",
              "    }\n",
              "</style>\n",
              "<table border=\"1\" class=\"dataframe\">\n",
              "  <thead>\n",
              "    <tr style=\"text-align: right;\">\n",
              "      <th></th>\n",
              "      <th>ID</th>\n",
              "      <th>age</th>\n",
              "      <th>balance</th>\n",
              "      <th>day</th>\n",
              "      <th>campaign</th>\n",
              "      <th>pdays</th>\n",
              "      <th>previous</th>\n",
              "      <th>y</th>\n",
              "      <th>default_no</th>\n",
              "      <th>default_yes</th>\n",
              "      <th>...</th>\n",
              "      <th>education_secondary</th>\n",
              "      <th>education_tertiary</th>\n",
              "      <th>education_unknown</th>\n",
              "      <th>contact_cellular</th>\n",
              "      <th>contact_telephone</th>\n",
              "      <th>contact_unknown</th>\n",
              "      <th>poutcome_failure</th>\n",
              "      <th>poutcome_other</th>\n",
              "      <th>poutcome_success</th>\n",
              "      <th>poutcome_unknown</th>\n",
              "    </tr>\n",
              "  </thead>\n",
              "  <tbody>\n",
              "    <tr>\n",
              "      <th>0</th>\n",
              "      <td>53608</td>\n",
              "      <td>32</td>\n",
              "      <td>12569</td>\n",
              "      <td>1</td>\n",
              "      <td>2</td>\n",
              "      <td>295</td>\n",
              "      <td>2</td>\n",
              "      <td>yes</td>\n",
              "      <td>1</td>\n",
              "      <td>0</td>\n",
              "      <td>...</td>\n",
              "      <td>0</td>\n",
              "      <td>1</td>\n",
              "      <td>0</td>\n",
              "      <td>1</td>\n",
              "      <td>0</td>\n",
              "      <td>0</td>\n",
              "      <td>0</td>\n",
              "      <td>0</td>\n",
              "      <td>1</td>\n",
              "      <td>0</td>\n",
              "    </tr>\n",
              "    <tr>\n",
              "      <th>1</th>\n",
              "      <td>51055</td>\n",
              "      <td>25</td>\n",
              "      <td>801</td>\n",
              "      <td>5</td>\n",
              "      <td>2</td>\n",
              "      <td>-1</td>\n",
              "      <td>0</td>\n",
              "      <td>yes</td>\n",
              "      <td>1</td>\n",
              "      <td>0</td>\n",
              "      <td>...</td>\n",
              "      <td>1</td>\n",
              "      <td>0</td>\n",
              "      <td>0</td>\n",
              "      <td>1</td>\n",
              "      <td>0</td>\n",
              "      <td>0</td>\n",
              "      <td>0</td>\n",
              "      <td>0</td>\n",
              "      <td>0</td>\n",
              "      <td>1</td>\n",
              "    </tr>\n",
              "    <tr>\n",
              "      <th>2</th>\n",
              "      <td>52573</td>\n",
              "      <td>46</td>\n",
              "      <td>1728</td>\n",
              "      <td>26</td>\n",
              "      <td>2</td>\n",
              "      <td>-1</td>\n",
              "      <td>0</td>\n",
              "      <td>no</td>\n",
              "      <td>1</td>\n",
              "      <td>0</td>\n",
              "      <td>...</td>\n",
              "      <td>1</td>\n",
              "      <td>0</td>\n",
              "      <td>0</td>\n",
              "      <td>0</td>\n",
              "      <td>0</td>\n",
              "      <td>1</td>\n",
              "      <td>0</td>\n",
              "      <td>0</td>\n",
              "      <td>0</td>\n",
              "      <td>1</td>\n",
              "    </tr>\n",
              "    <tr>\n",
              "      <th>3</th>\n",
              "      <td>50458</td>\n",
              "      <td>39</td>\n",
              "      <td>51</td>\n",
              "      <td>17</td>\n",
              "      <td>2</td>\n",
              "      <td>-1</td>\n",
              "      <td>0</td>\n",
              "      <td>no</td>\n",
              "      <td>1</td>\n",
              "      <td>0</td>\n",
              "      <td>...</td>\n",
              "      <td>1</td>\n",
              "      <td>0</td>\n",
              "      <td>0</td>\n",
              "      <td>0</td>\n",
              "      <td>0</td>\n",
              "      <td>1</td>\n",
              "      <td>0</td>\n",
              "      <td>0</td>\n",
              "      <td>0</td>\n",
              "      <td>1</td>\n",
              "    </tr>\n",
              "    <tr>\n",
              "      <th>4</th>\n",
              "      <td>52272</td>\n",
              "      <td>31</td>\n",
              "      <td>1626</td>\n",
              "      <td>31</td>\n",
              "      <td>1</td>\n",
              "      <td>-1</td>\n",
              "      <td>0</td>\n",
              "      <td>no</td>\n",
              "      <td>1</td>\n",
              "      <td>0</td>\n",
              "      <td>...</td>\n",
              "      <td>0</td>\n",
              "      <td>1</td>\n",
              "      <td>0</td>\n",
              "      <td>0</td>\n",
              "      <td>0</td>\n",
              "      <td>1</td>\n",
              "      <td>0</td>\n",
              "      <td>0</td>\n",
              "      <td>0</td>\n",
              "      <td>1</td>\n",
              "    </tr>\n",
              "    <tr>\n",
              "      <th>5</th>\n",
              "      <td>52072</td>\n",
              "      <td>34</td>\n",
              "      <td>806</td>\n",
              "      <td>19</td>\n",
              "      <td>3</td>\n",
              "      <td>458</td>\n",
              "      <td>1</td>\n",
              "      <td>yes</td>\n",
              "      <td>1</td>\n",
              "      <td>0</td>\n",
              "      <td>...</td>\n",
              "      <td>1</td>\n",
              "      <td>0</td>\n",
              "      <td>0</td>\n",
              "      <td>1</td>\n",
              "      <td>0</td>\n",
              "      <td>0</td>\n",
              "      <td>0</td>\n",
              "      <td>0</td>\n",
              "      <td>1</td>\n",
              "      <td>0</td>\n",
              "    </tr>\n",
              "    <tr>\n",
              "      <th>6</th>\n",
              "      <td>50973</td>\n",
              "      <td>24</td>\n",
              "      <td>805</td>\n",
              "      <td>5</td>\n",
              "      <td>2</td>\n",
              "      <td>-1</td>\n",
              "      <td>0</td>\n",
              "      <td>no</td>\n",
              "      <td>1</td>\n",
              "      <td>0</td>\n",
              "      <td>...</td>\n",
              "      <td>0</td>\n",
              "      <td>1</td>\n",
              "      <td>0</td>\n",
              "      <td>1</td>\n",
              "      <td>0</td>\n",
              "      <td>0</td>\n",
              "      <td>0</td>\n",
              "      <td>0</td>\n",
              "      <td>0</td>\n",
              "      <td>1</td>\n",
              "    </tr>\n",
              "    <tr>\n",
              "      <th>7</th>\n",
              "      <td>50553</td>\n",
              "      <td>37</td>\n",
              "      <td>3111</td>\n",
              "      <td>21</td>\n",
              "      <td>3</td>\n",
              "      <td>185</td>\n",
              "      <td>2</td>\n",
              "      <td>no</td>\n",
              "      <td>1</td>\n",
              "      <td>0</td>\n",
              "      <td>...</td>\n",
              "      <td>1</td>\n",
              "      <td>0</td>\n",
              "      <td>0</td>\n",
              "      <td>1</td>\n",
              "      <td>0</td>\n",
              "      <td>0</td>\n",
              "      <td>1</td>\n",
              "      <td>0</td>\n",
              "      <td>0</td>\n",
              "      <td>0</td>\n",
              "    </tr>\n",
              "    <tr>\n",
              "      <th>8</th>\n",
              "      <td>53135</td>\n",
              "      <td>34</td>\n",
              "      <td>425</td>\n",
              "      <td>16</td>\n",
              "      <td>7</td>\n",
              "      <td>-1</td>\n",
              "      <td>0</td>\n",
              "      <td>no</td>\n",
              "      <td>1</td>\n",
              "      <td>0</td>\n",
              "      <td>...</td>\n",
              "      <td>0</td>\n",
              "      <td>0</td>\n",
              "      <td>0</td>\n",
              "      <td>1</td>\n",
              "      <td>0</td>\n",
              "      <td>0</td>\n",
              "      <td>0</td>\n",
              "      <td>0</td>\n",
              "      <td>0</td>\n",
              "      <td>1</td>\n",
              "    </tr>\n",
              "    <tr>\n",
              "      <th>9</th>\n",
              "      <td>53835</td>\n",
              "      <td>39</td>\n",
              "      <td>5574</td>\n",
              "      <td>14</td>\n",
              "      <td>2</td>\n",
              "      <td>-1</td>\n",
              "      <td>0</td>\n",
              "      <td>no</td>\n",
              "      <td>1</td>\n",
              "      <td>0</td>\n",
              "      <td>...</td>\n",
              "      <td>1</td>\n",
              "      <td>0</td>\n",
              "      <td>0</td>\n",
              "      <td>1</td>\n",
              "      <td>0</td>\n",
              "      <td>0</td>\n",
              "      <td>0</td>\n",
              "      <td>0</td>\n",
              "      <td>0</td>\n",
              "      <td>1</td>\n",
              "    </tr>\n",
              "  </tbody>\n",
              "</table>\n",
              "<p>10 rows × 52 columns</p>\n",
              "</div>\n",
              "      <button class=\"colab-df-convert\" onclick=\"convertToInteractive('df-3a094e0c-d769-47ba-b405-608858d29a04')\"\n",
              "              title=\"Convert this dataframe to an interactive table.\"\n",
              "              style=\"display:none;\">\n",
              "        \n",
              "  <svg xmlns=\"http://www.w3.org/2000/svg\" height=\"24px\"viewBox=\"0 0 24 24\"\n",
              "       width=\"24px\">\n",
              "    <path d=\"M0 0h24v24H0V0z\" fill=\"none\"/>\n",
              "    <path d=\"M18.56 5.44l.94 2.06.94-2.06 2.06-.94-2.06-.94-.94-2.06-.94 2.06-2.06.94zm-11 1L8.5 8.5l.94-2.06 2.06-.94-2.06-.94L8.5 2.5l-.94 2.06-2.06.94zm10 10l.94 2.06.94-2.06 2.06-.94-2.06-.94-.94-2.06-.94 2.06-2.06.94z\"/><path d=\"M17.41 7.96l-1.37-1.37c-.4-.4-.92-.59-1.43-.59-.52 0-1.04.2-1.43.59L10.3 9.45l-7.72 7.72c-.78.78-.78 2.05 0 2.83L4 21.41c.39.39.9.59 1.41.59.51 0 1.02-.2 1.41-.59l7.78-7.78 2.81-2.81c.8-.78.8-2.07 0-2.86zM5.41 20L4 18.59l7.72-7.72 1.47 1.35L5.41 20z\"/>\n",
              "  </svg>\n",
              "      </button>\n",
              "      \n",
              "  <style>\n",
              "    .colab-df-container {\n",
              "      display:flex;\n",
              "      flex-wrap:wrap;\n",
              "      gap: 12px;\n",
              "    }\n",
              "\n",
              "    .colab-df-convert {\n",
              "      background-color: #E8F0FE;\n",
              "      border: none;\n",
              "      border-radius: 50%;\n",
              "      cursor: pointer;\n",
              "      display: none;\n",
              "      fill: #1967D2;\n",
              "      height: 32px;\n",
              "      padding: 0 0 0 0;\n",
              "      width: 32px;\n",
              "    }\n",
              "\n",
              "    .colab-df-convert:hover {\n",
              "      background-color: #E2EBFA;\n",
              "      box-shadow: 0px 1px 2px rgba(60, 64, 67, 0.3), 0px 1px 3px 1px rgba(60, 64, 67, 0.15);\n",
              "      fill: #174EA6;\n",
              "    }\n",
              "\n",
              "    [theme=dark] .colab-df-convert {\n",
              "      background-color: #3B4455;\n",
              "      fill: #D2E3FC;\n",
              "    }\n",
              "\n",
              "    [theme=dark] .colab-df-convert:hover {\n",
              "      background-color: #434B5C;\n",
              "      box-shadow: 0px 1px 3px 1px rgba(0, 0, 0, 0.15);\n",
              "      filter: drop-shadow(0px 1px 2px rgba(0, 0, 0, 0.3));\n",
              "      fill: #FFFFFF;\n",
              "    }\n",
              "  </style>\n",
              "\n",
              "      <script>\n",
              "        const buttonEl =\n",
              "          document.querySelector('#df-3a094e0c-d769-47ba-b405-608858d29a04 button.colab-df-convert');\n",
              "        buttonEl.style.display =\n",
              "          google.colab.kernel.accessAllowed ? 'block' : 'none';\n",
              "\n",
              "        async function convertToInteractive(key) {\n",
              "          const element = document.querySelector('#df-3a094e0c-d769-47ba-b405-608858d29a04');\n",
              "          const dataTable =\n",
              "            await google.colab.kernel.invokeFunction('convertToInteractive',\n",
              "                                                     [key], {});\n",
              "          if (!dataTable) return;\n",
              "\n",
              "          const docLinkHtml = 'Like what you see? Visit the ' +\n",
              "            '<a target=\"_blank\" href=https://colab.research.google.com/notebooks/data_table.ipynb>data table notebook</a>'\n",
              "            + ' to learn more about interactive tables.';\n",
              "          element.innerHTML = '';\n",
              "          dataTable['output_type'] = 'display_data';\n",
              "          await google.colab.output.renderOutput(dataTable, element);\n",
              "          const docLink = document.createElement('div');\n",
              "          docLink.innerHTML = docLinkHtml;\n",
              "          element.appendChild(docLink);\n",
              "        }\n",
              "      </script>\n",
              "    </div>\n",
              "  </div>\n",
              "  "
            ],
            "text/plain": [
              "      ID  age  balance  day  campaign  pdays  previous    y  default_no  \\\n",
              "0  53608   32    12569    1         2    295         2  yes           1   \n",
              "1  51055   25      801    5         2     -1         0  yes           1   \n",
              "2  52573   46     1728   26         2     -1         0   no           1   \n",
              "3  50458   39       51   17         2     -1         0   no           1   \n",
              "4  52272   31     1626   31         1     -1         0   no           1   \n",
              "5  52072   34      806   19         3    458         1  yes           1   \n",
              "6  50973   24      805    5         2     -1         0   no           1   \n",
              "7  50553   37     3111   21         3    185         2   no           1   \n",
              "8  53135   34      425   16         7     -1         0   no           1   \n",
              "9  53835   39     5574   14         2     -1         0   no           1   \n",
              "\n",
              "   default_yes  ...  education_secondary  education_tertiary  \\\n",
              "0            0  ...                    0                   1   \n",
              "1            0  ...                    1                   0   \n",
              "2            0  ...                    1                   0   \n",
              "3            0  ...                    1                   0   \n",
              "4            0  ...                    0                   1   \n",
              "5            0  ...                    1                   0   \n",
              "6            0  ...                    0                   1   \n",
              "7            0  ...                    1                   0   \n",
              "8            0  ...                    0                   0   \n",
              "9            0  ...                    1                   0   \n",
              "\n",
              "   education_unknown  contact_cellular  contact_telephone  contact_unknown  \\\n",
              "0                  0                 1                  0                0   \n",
              "1                  0                 1                  0                0   \n",
              "2                  0                 0                  0                1   \n",
              "3                  0                 0                  0                1   \n",
              "4                  0                 0                  0                1   \n",
              "5                  0                 1                  0                0   \n",
              "6                  0                 1                  0                0   \n",
              "7                  0                 1                  0                0   \n",
              "8                  0                 1                  0                0   \n",
              "9                  0                 1                  0                0   \n",
              "\n",
              "   poutcome_failure  poutcome_other  poutcome_success  poutcome_unknown  \n",
              "0                 0               0                 1                 0  \n",
              "1                 0               0                 0                 1  \n",
              "2                 0               0                 0                 1  \n",
              "3                 0               0                 0                 1  \n",
              "4                 0               0                 0                 1  \n",
              "5                 0               0                 1                 0  \n",
              "6                 0               0                 0                 1  \n",
              "7                 1               0                 0                 0  \n",
              "8                 0               0                 0                 1  \n",
              "9                 0               0                 0                 1  \n",
              "\n",
              "[10 rows x 52 columns]"
            ]
          },
          "execution_count": 9,
          "metadata": {},
          "output_type": "execute_result"
        }
      ],
      "source": [
        "#Encoding ['default', 'month', 'housing', 'loan', 'job', 'marital', 'education', 'contact', 'poutcome'] (categorical)\n",
        "#Note that we assign a category for the unknowns (for now)\n",
        "print(bank_marketing_test[\"poutcome\"].unique())\n",
        "enc_data = pd.get_dummies(data=bank_marketing_test, columns = ['default', 'month', 'housing', 'loan', 'job', 'marital', 'education', 'contact', 'poutcome'])\n",
        "enc = OneHotEncoder(handle_unknown='ignore')\n",
        "enc_data.head(10)\n"
      ]
    },
    {
      "cell_type": "markdown",
      "metadata": {
        "id": "wuo6cthPs2RR"
      },
      "source": [
        "The data of the individual features looks fitted well according to the datatypes, we can proceed now."
      ]
    },
    {
      "cell_type": "markdown",
      "metadata": {
        "id": "zxi9ZIy2s2RR"
      },
      "source": [
        "## Data Exploration"
      ]
    },
    {
      "cell_type": "markdown",
      "metadata": {
        "id": "JpZ7qxmYs2RS"
      },
      "source": [
        "We noticed there is a relative larger number of 'unknowns', especially in the outcome column. We decided not to fill these in because it regards so many values and it would significantly alter the dataset."
      ]
    },
    {
      "cell_type": "code",
      "execution_count": null,
      "metadata": {
        "colab": {
          "base_uri": "https://localhost:8080/",
          "height": 35
        },
        "id": "qxUGlFS5s2RS",
        "outputId": "aa259f17-ae3f-4c6a-fd2e-67069b959298"
      },
      "outputs": [
        {
          "data": {
            "application/vnd.google.colaboratory.intrinsic+json": {
              "type": "string"
            },
            "text/plain": [
              "\"plt.figure(figsize=(75,75))\\nsns.pairplot(data=enc_data1, hue='education')\\nplt.show()\""
            ]
          },
          "execution_count": 10,
          "metadata": {},
          "output_type": "execute_result"
        }
      ],
      "source": [
        "\"\"\"plt.figure(figsize=(75,75))\n",
        "sns.pairplot(data=enc_data1, hue='education')\n",
        "plt.show()\"\"\""
      ]
    },
    {
      "cell_type": "code",
      "execution_count": null,
      "metadata": {
        "colab": {
          "base_uri": "https://localhost:8080/",
          "height": 304
        },
        "id": "fjjnNk91s2RT",
        "outputId": "c8f88d05-3d61-48ce-9403-87ce06b66c22"
      },
      "outputs": [
        {
          "name": "stderr",
          "output_type": "stream",
          "text": [
            "<ipython-input-11-399d89bbaf5e>:2: FutureWarning: this method is deprecated in favour of `Styler.format(precision=..)`\n",
            "  corr1.style.background_gradient(cmap=\"coolwarm\").set_precision(2)\n"
          ]
        },
        {
          "data": {
            "text/html": [
              "<style type=\"text/css\">\n",
              "#T_4c6af_row0_col0, #T_4c6af_row1_col1, #T_4c6af_row2_col2, #T_4c6af_row3_col3, #T_4c6af_row4_col4, #T_4c6af_row5_col5, #T_4c6af_row6_col6 {\n",
              "  background-color: #b40426;\n",
              "  color: #f1f1f1;\n",
              "}\n",
              "#T_4c6af_row0_col1, #T_4c6af_row1_col0, #T_4c6af_row3_col6, #T_4c6af_row4_col2, #T_4c6af_row4_col5, #T_4c6af_row5_col3, #T_4c6af_row5_col4 {\n",
              "  background-color: #3b4cc0;\n",
              "  color: #f1f1f1;\n",
              "}\n",
              "#T_4c6af_row0_col2, #T_4c6af_row2_col0 {\n",
              "  background-color: #3d50c3;\n",
              "  color: #f1f1f1;\n",
              "}\n",
              "#T_4c6af_row0_col3, #T_4c6af_row2_col3 {\n",
              "  background-color: #516ddb;\n",
              "  color: #f1f1f1;\n",
              "}\n",
              "#T_4c6af_row0_col4, #T_4c6af_row0_col5, #T_4c6af_row2_col5 {\n",
              "  background-color: #5a78e4;\n",
              "  color: #f1f1f1;\n",
              "}\n",
              "#T_4c6af_row0_col6 {\n",
              "  background-color: #4a63d3;\n",
              "  color: #f1f1f1;\n",
              "}\n",
              "#T_4c6af_row1_col2, #T_4c6af_row2_col1 {\n",
              "  background-color: #5f7fe8;\n",
              "  color: #f1f1f1;\n",
              "}\n",
              "#T_4c6af_row1_col3 {\n",
              "  background-color: #4e68d8;\n",
              "  color: #f1f1f1;\n",
              "}\n",
              "#T_4c6af_row1_col4 {\n",
              "  background-color: #5673e0;\n",
              "  color: #f1f1f1;\n",
              "}\n",
              "#T_4c6af_row1_col5, #T_4c6af_row2_col6 {\n",
              "  background-color: #5572df;\n",
              "  color: #f1f1f1;\n",
              "}\n",
              "#T_4c6af_row1_col6, #T_4c6af_row2_col4 {\n",
              "  background-color: #506bda;\n",
              "  color: #f1f1f1;\n",
              "}\n",
              "#T_4c6af_row3_col0, #T_4c6af_row3_col2, #T_4c6af_row6_col0, #T_4c6af_row6_col3 {\n",
              "  background-color: #4055c8;\n",
              "  color: #f1f1f1;\n",
              "}\n",
              "#T_4c6af_row3_col1, #T_4c6af_row4_col6 {\n",
              "  background-color: #3c4ec2;\n",
              "  color: #f1f1f1;\n",
              "}\n",
              "#T_4c6af_row3_col4 {\n",
              "  background-color: #85a8fc;\n",
              "  color: #f1f1f1;\n",
              "}\n",
              "#T_4c6af_row3_col5, #T_4c6af_row4_col1 {\n",
              "  background-color: #3f53c6;\n",
              "  color: #f1f1f1;\n",
              "}\n",
              "#T_4c6af_row4_col0 {\n",
              "  background-color: #4358cb;\n",
              "  color: #f1f1f1;\n",
              "}\n",
              "#T_4c6af_row4_col3 {\n",
              "  background-color: #80a3fa;\n",
              "  color: #f1f1f1;\n",
              "}\n",
              "#T_4c6af_row5_col0, #T_4c6af_row5_col2 {\n",
              "  background-color: #445acc;\n",
              "  color: #f1f1f1;\n",
              "}\n",
              "#T_4c6af_row5_col1 {\n",
              "  background-color: #3e51c5;\n",
              "  color: #f1f1f1;\n",
              "}\n",
              "#T_4c6af_row5_col6 {\n",
              "  background-color: #e8d6cc;\n",
              "  color: #000000;\n",
              "}\n",
              "#T_4c6af_row6_col1 {\n",
              "  background-color: #465ecf;\n",
              "  color: #f1f1f1;\n",
              "}\n",
              "#T_4c6af_row6_col2 {\n",
              "  background-color: #4b64d5;\n",
              "  color: #f1f1f1;\n",
              "}\n",
              "#T_4c6af_row6_col4 {\n",
              "  background-color: #485fd1;\n",
              "  color: #f1f1f1;\n",
              "}\n",
              "#T_4c6af_row6_col5 {\n",
              "  background-color: #ecd3c5;\n",
              "  color: #000000;\n",
              "}\n",
              "</style>\n",
              "<table id=\"T_4c6af_\" class=\"dataframe\">\n",
              "  <thead>\n",
              "    <tr>\n",
              "      <th class=\"blank level0\" >&nbsp;</th>\n",
              "      <th class=\"col_heading level0 col0\" >ID</th>\n",
              "      <th class=\"col_heading level0 col1\" >age</th>\n",
              "      <th class=\"col_heading level0 col2\" >balance</th>\n",
              "      <th class=\"col_heading level0 col3\" >day</th>\n",
              "      <th class=\"col_heading level0 col4\" >campaign</th>\n",
              "      <th class=\"col_heading level0 col5\" >pdays</th>\n",
              "      <th class=\"col_heading level0 col6\" >previous</th>\n",
              "    </tr>\n",
              "  </thead>\n",
              "  <tbody>\n",
              "    <tr>\n",
              "      <th id=\"T_4c6af_level0_row0\" class=\"row_heading level0 row0\" >ID</th>\n",
              "      <td id=\"T_4c6af_row0_col0\" class=\"data row0 col0\" >1.00</td>\n",
              "      <td id=\"T_4c6af_row0_col1\" class=\"data row0 col1\" >-0.02</td>\n",
              "      <td id=\"T_4c6af_row0_col2\" class=\"data row0 col2\" >-0.01</td>\n",
              "      <td id=\"T_4c6af_row0_col3\" class=\"data row0 col3\" >0.01</td>\n",
              "      <td id=\"T_4c6af_row0_col4\" class=\"data row0 col4\" >0.01</td>\n",
              "      <td id=\"T_4c6af_row0_col5\" class=\"data row0 col5\" >0.01</td>\n",
              "      <td id=\"T_4c6af_row0_col6\" class=\"data row0 col6\" >0.00</td>\n",
              "    </tr>\n",
              "    <tr>\n",
              "      <th id=\"T_4c6af_level0_row1\" class=\"row_heading level0 row1\" >age</th>\n",
              "      <td id=\"T_4c6af_row1_col0\" class=\"data row1 col0\" >-0.02</td>\n",
              "      <td id=\"T_4c6af_row1_col1\" class=\"data row1 col1\" >1.00</td>\n",
              "      <td id=\"T_4c6af_row1_col2\" class=\"data row1 col2\" >0.10</td>\n",
              "      <td id=\"T_4c6af_row1_col3\" class=\"data row1 col3\" >-0.01</td>\n",
              "      <td id=\"T_4c6af_row1_col4\" class=\"data row1 col4\" >0.00</td>\n",
              "      <td id=\"T_4c6af_row1_col5\" class=\"data row1 col5\" >-0.00</td>\n",
              "      <td id=\"T_4c6af_row1_col6\" class=\"data row1 col6\" >0.02</td>\n",
              "    </tr>\n",
              "    <tr>\n",
              "      <th id=\"T_4c6af_level0_row2\" class=\"row_heading level0 row2\" >balance</th>\n",
              "      <td id=\"T_4c6af_row2_col0\" class=\"data row2 col0\" >-0.01</td>\n",
              "      <td id=\"T_4c6af_row2_col1\" class=\"data row2 col1\" >0.10</td>\n",
              "      <td id=\"T_4c6af_row2_col2\" class=\"data row2 col2\" >1.00</td>\n",
              "      <td id=\"T_4c6af_row2_col3\" class=\"data row2 col3\" >0.00</td>\n",
              "      <td id=\"T_4c6af_row2_col4\" class=\"data row2 col4\" >-0.02</td>\n",
              "      <td id=\"T_4c6af_row2_col5\" class=\"data row2 col5\" >0.02</td>\n",
              "      <td id=\"T_4c6af_row2_col6\" class=\"data row2 col6\" >0.04</td>\n",
              "    </tr>\n",
              "    <tr>\n",
              "      <th id=\"T_4c6af_level0_row3\" class=\"row_heading level0 row3\" >day</th>\n",
              "      <td id=\"T_4c6af_row3_col0\" class=\"data row3 col0\" >0.01</td>\n",
              "      <td id=\"T_4c6af_row3_col1\" class=\"data row3 col1\" >-0.01</td>\n",
              "      <td id=\"T_4c6af_row3_col2\" class=\"data row3 col2\" >0.00</td>\n",
              "      <td id=\"T_4c6af_row3_col3\" class=\"data row3 col3\" >1.00</td>\n",
              "      <td id=\"T_4c6af_row3_col4\" class=\"data row3 col4\" >0.15</td>\n",
              "      <td id=\"T_4c6af_row3_col5\" class=\"data row3 col5\" >-0.08</td>\n",
              "      <td id=\"T_4c6af_row3_col6\" class=\"data row3 col6\" >-0.05</td>\n",
              "    </tr>\n",
              "    <tr>\n",
              "      <th id=\"T_4c6af_level0_row4\" class=\"row_heading level0 row4\" >campaign</th>\n",
              "      <td id=\"T_4c6af_row4_col0\" class=\"data row4 col0\" >0.01</td>\n",
              "      <td id=\"T_4c6af_row4_col1\" class=\"data row4 col1\" >0.00</td>\n",
              "      <td id=\"T_4c6af_row4_col2\" class=\"data row4 col2\" >-0.02</td>\n",
              "      <td id=\"T_4c6af_row4_col3\" class=\"data row4 col3\" >0.15</td>\n",
              "      <td id=\"T_4c6af_row4_col4\" class=\"data row4 col4\" >1.00</td>\n",
              "      <td id=\"T_4c6af_row4_col5\" class=\"data row4 col5\" >-0.10</td>\n",
              "      <td id=\"T_4c6af_row4_col6\" class=\"data row4 col6\" >-0.05</td>\n",
              "    </tr>\n",
              "    <tr>\n",
              "      <th id=\"T_4c6af_level0_row5\" class=\"row_heading level0 row5\" >pdays</th>\n",
              "      <td id=\"T_4c6af_row5_col0\" class=\"data row5 col0\" >0.01</td>\n",
              "      <td id=\"T_4c6af_row5_col1\" class=\"data row5 col1\" >-0.00</td>\n",
              "      <td id=\"T_4c6af_row5_col2\" class=\"data row5 col2\" >0.02</td>\n",
              "      <td id=\"T_4c6af_row5_col3\" class=\"data row5 col3\" >-0.08</td>\n",
              "      <td id=\"T_4c6af_row5_col4\" class=\"data row5 col4\" >-0.10</td>\n",
              "      <td id=\"T_4c6af_row5_col5\" class=\"data row5 col5\" >1.00</td>\n",
              "      <td id=\"T_4c6af_row5_col6\" class=\"data row5 col6\" >0.52</td>\n",
              "    </tr>\n",
              "    <tr>\n",
              "      <th id=\"T_4c6af_level0_row6\" class=\"row_heading level0 row6\" >previous</th>\n",
              "      <td id=\"T_4c6af_row6_col0\" class=\"data row6 col0\" >0.00</td>\n",
              "      <td id=\"T_4c6af_row6_col1\" class=\"data row6 col1\" >0.02</td>\n",
              "      <td id=\"T_4c6af_row6_col2\" class=\"data row6 col2\" >0.04</td>\n",
              "      <td id=\"T_4c6af_row6_col3\" class=\"data row6 col3\" >-0.05</td>\n",
              "      <td id=\"T_4c6af_row6_col4\" class=\"data row6 col4\" >-0.05</td>\n",
              "      <td id=\"T_4c6af_row6_col5\" class=\"data row6 col5\" >0.52</td>\n",
              "      <td id=\"T_4c6af_row6_col6\" class=\"data row6 col6\" >1.00</td>\n",
              "    </tr>\n",
              "  </tbody>\n",
              "</table>\n"
            ],
            "text/plain": [
              "<pandas.io.formats.style.Styler at 0x7f2a0cce73d0>"
            ]
          },
          "execution_count": 11,
          "metadata": {},
          "output_type": "execute_result"
        }
      ],
      "source": [
        "corr1 = bank_marketing_train.corr()\n",
        "corr1.style.background_gradient(cmap=\"coolwarm\").set_precision(2)"
      ]
    },
    {
      "cell_type": "markdown",
      "metadata": {
        "id": "cEAIqtK7s2RT"
      },
      "source": []
    },
    {
      "cell_type": "code",
      "execution_count": null,
      "metadata": {
        "colab": {
          "base_uri": "https://localhost:8080/"
        },
        "id": "mbwE1cA64xlK",
        "outputId": "0352fb09-8361-432a-e760-619783f8a739"
      },
      "outputs": [
        {
          "name": "stdout",
          "output_type": "stream",
          "text": [
            "MinMaxScaler()\n",
            "[[0.84102564 0.18421053 0.25515302 ... 0.         1.         0.        ]\n",
            " [0.24592075 0.09210526 0.06609366 ... 0.         0.         1.        ]\n",
            " [0.5997669  0.36842105 0.08098642 ... 0.         0.         1.        ]\n",
            " ...\n",
            " [0.93776224 0.28947368 0.09457788 ... 0.         0.         1.        ]\n",
            " [0.87995338 0.27631579 0.09285886 ... 1.         0.         0.        ]\n",
            " [0.45337995 0.36842105 0.05401237 ... 0.         0.         1.        ]]\n",
            "[[0.84102564 0.18421053 0.25515302 ... 0.         1.         0.        ]\n",
            " [0.24592075 0.09210526 0.06609366 ... 0.         0.         1.        ]\n",
            " [0.5997669  0.36842105 0.08098642 ... 0.         0.         1.        ]\n",
            " ...\n",
            " [0.93776224 0.28947368 0.09457788 ... 0.         0.         1.        ]\n",
            " [0.87995338 0.27631579 0.09285886 ... 1.         0.         0.        ]\n",
            " [0.45337995 0.36842105 0.05401237 ... 0.         0.         1.        ]]\n"
          ]
        }
      ],
      "source": [
        "enc_data1 = enc_data.loc[:,enc_data.columns != 'y']\n",
        "\n",
        "minmax = MinMaxScaler()\n",
        "print(minmax.fit(enc_data1))\n",
        "print(minmax.transform(enc_data1))\n",
        "enc_data2 = minmax.transform(enc_data1)\n",
        "print(enc_data2)"
      ]
    },
    {
      "cell_type": "code",
      "execution_count": null,
      "metadata": {
        "colab": {
          "base_uri": "https://localhost:8080/",
          "height": 35
        },
        "id": "_A4Vu-DYs2RW",
        "outputId": "6d016abd-572a-4f05-a5d3-a682840e098c"
      },
      "outputs": [
        {
          "data": {
            "application/vnd.google.colaboratory.intrinsic+json": {
              "type": "string"
            },
            "text/plain": [
              "\"plt.figure(figsize=(75,75))\\nsns.pairplot(data=enc_data1, hue='y')\\nplt.show()\""
            ]
          },
          "execution_count": 13,
          "metadata": {},
          "output_type": "execute_result"
        }
      ],
      "source": [
        "\"\"\"plt.figure(figsize=(75,75))\n",
        "sns.pairplot(data=enc_data1, hue='y')\n",
        "plt.show()\"\"\""
      ]
    },
    {
      "cell_type": "markdown",
      "metadata": {
        "id": "XoJQHKQBs2RX"
      },
      "source": [
        "## Classification Models"
      ]
    },
    {
      "cell_type": "markdown",
      "metadata": {
        "id": "CQB3pbWks2RX"
      },
      "source": [
        "### LinearSVC"
      ]
    },
    {
      "cell_type": "markdown",
      "metadata": {
        "id": "5jbImHwJs2RX"
      },
      "source": [
        "Scaled model"
      ]
    },
    {
      "cell_type": "code",
      "execution_count": null,
      "metadata": {
        "id": "m_mgWkBCs2RY"
      },
      "outputs": [],
      "source": [
        "X_1= enc_data.loc[:,enc_data.columns != 'y']\n",
        "Y_1 = enc_data['y']\n",
        "X_train,X_test,Y_train,Y_test = train_test_split(X_1,Y_1, random_state = 42,test_size = 0.3)\n",
        "\n",
        "\n",
        "\n",
        "pipeline = Pipeline([('scale', StandardScaler()),\n",
        "                   ('clf',LinearSVC(random_state=42))])\n",
        "param_grid ={'clf__C':[0.01,0.1,1.0,10,100]}\n",
        "\n",
        "grid = GridSearchCV(pipeline, param_grid=param_grid)\n",
        "grid.fit(X_train,Y_train)\n",
        "\n",
        "pipeline.fit(X_train, Y_train)\n",
        "y_pred = grid.predict(X_test)"
      ]
    },
    {
      "cell_type": "code",
      "execution_count": null,
      "metadata": {
        "colab": {
          "base_uri": "https://localhost:8080/"
        },
        "id": "vqkW8HfJs2RY",
        "outputId": "3d0e3288-aa93-4e44-d03d-3f7f3b6d90ff"
      },
      "outputs": [
        {
          "name": "stdout",
          "output_type": "stream",
          "text": [
            "              precision    recall  f1-score   support\n",
            "\n",
            "          no       0.78      0.96      0.86       887\n",
            "         yes       0.81      0.42      0.55       401\n",
            "\n",
            "    accuracy                           0.79      1288\n",
            "   macro avg       0.80      0.69      0.71      1288\n",
            "weighted avg       0.79      0.79      0.76      1288\n",
            "\n",
            "Micro average precision score: 0.788\n"
          ]
        }
      ],
      "source": [
        "y_pred2 = grid.predict(X_test)\n",
        "print(classification_report(Y_test,y_pred2))\n",
        "print(\"Micro average precision score: {:.3f}\".format (precision_score(Y_test, y_pred2, average=\"micro\")))\n",
        "#print(\"Micro average recall score: {:.3f}\".format (recall_score(Y_test, y_pred2, average=\"micro\")))\n",
        "#Its the same"
      ]
    },
    {
      "cell_type": "markdown",
      "metadata": {
        "id": "Nyl8rpTTs2RZ"
      },
      "source": [
        "Accuracy in scaled data is higher than in the one which is not. As well the F1 score has risen."
      ]
    },
    {
      "cell_type": "markdown",
      "metadata": {
        "id": "MpFntu6Os2RZ"
      },
      "source": [
        "Relating to confusion matrix amount of FP increased but  TN significantly decreased, meaning that model at this point makes more \"mistakes\" ."
      ]
    },
    {
      "cell_type": "markdown",
      "metadata": {
        "id": "_zgfyzoHs2RZ"
      },
      "source": [
        "The graph illustrates how correct predictions of the positive class (TPs) lead to increases in the TPR, while false positives (FPs) lead to an increase in the FPR."
      ]
    },
    {
      "cell_type": "code",
      "execution_count": null,
      "metadata": {
        "colab": {
          "base_uri": "https://localhost:8080/",
          "height": 295
        },
        "id": "1VCisqeas2RZ",
        "outputId": "772f850c-436f-431d-806c-f589a353bca1"
      },
      "outputs": [
        {
          "data": {
            "image/png": "[encoded data removed]",
            "text/plain": [
              "<Figure size 432x288 with 1 Axes>"
            ]
          },
          "metadata": {},
          "output_type": "display_data"
        }
      ],
      "source": [
        "from sklearn.metrics import PrecisionRecallDisplay\n",
        "\n",
        "display = PrecisionRecallDisplay.from_estimator(\n",
        "        grid, X_test, Y_test, name=\"LinearSVC\"\n",
        ")\n",
        "_ = display.ax_.set_title(\"Precision-Recall curve\")\n",
        "\n",
        "\n"
      ]
    },
    {
      "cell_type": "code",
      "execution_count": null,
      "metadata": {
        "colab": {
          "base_uri": "https://localhost:8080/",
          "height": 211
        },
        "id": "A6E8vibns2Ra",
        "outputId": "6bbfca27-7bdb-4abc-d3a3-a6deff5042f3"
      },
      "outputs": [
        {
          "name": "stdout",
          "output_type": "stream",
          "text": [
            "Best: 0.766561 using {'clf__C': 1.0}\n",
            "0.766227 (0.008952) with: {'clf__C': 0.01}\n",
            "0.766227 (0.009780) with: {'clf__C': 0.1}\n",
            "0.766561 (0.009928) with: {'clf__C': 1.0}\n",
            "0.736263 (0.018514) with: {'clf__C': 10}\n",
            "0.652692 (0.025927) with: {'clf__C': 100}\n",
            "Score = 0.79\n",
            "Training set score: 0.7742257742257742\n",
            "Test set score: 0.7880434782608695\n"
          ]
        },
        {
          "data": {
            "image/png": "[encoded data removed]",
            "text/plain": [
              "<Figure size 288x288 with 1 Axes>"
            ]
          },
          "metadata": {},
          "output_type": "display_data"
        }
      ],
      "source": [
        "print(\"Best: %f using %s\" % (grid.best_score_, \n",
        "    grid.best_params_))\n",
        "means1 = grid.cv_results_['mean_test_score']\n",
        "stds1 = grid.cv_results_['std_test_score']\n",
        "params1 = grid.cv_results_['params']\n",
        "for mean, stdev, param in zip(means1, stds1, params1):\n",
        "    print(\"%f (%f) with: %r\" % (mean, stdev, param))\n",
        "print(\"Score = %3.2f\" %(grid.score(X_test,Y_test)))\n",
        "print('Training set score: ' + str(grid.score(X_train,Y_train)))\n",
        "print('Test set score: ' + str(grid.score(X_test,Y_test)))\n",
        "#0.1\n",
        "\n",
        "conf_matrix = confusion_matrix(Y_test, y_pred)\n",
        "fig, ax = plt.subplots(figsize=(4, 4))\n",
        "ax.matshow(conf_matrix, cmap=plt.cm.Oranges, alpha=0.3)\n",
        "for i in range(conf_matrix.shape[0]):\n",
        "    for j in range(conf_matrix.shape[1]):\n",
        "        ax.text(x=j, y=i,s=conf_matrix[i, j], va='center', ha='center', size='medium')"
      ]
    },
    {
      "cell_type": "markdown",
      "metadata": {
        "id": "PrBYb-jvs2Rb"
      },
      "source": [
        "In comparison of StandardScaler with MinMaxScaler the results are almost the same what can be seen by plotting the confusion matrix."
      ]
    },
    {
      "cell_type": "markdown",
      "metadata": {
        "id": "-ooAXHx1s2Rb"
      },
      "source": [
        "Unscaled model"
      ]
    },
    {
      "cell_type": "code",
      "execution_count": null,
      "metadata": {
        "id": "1e9tKgq5s2Rh"
      },
      "outputs": [],
      "source": [
        "pipeline1 = Pipeline([('clf',LinearSVC(random_state=42))])\n",
        "param_grid1 ={'clf__C':[0.01,0.1,1.0,10,100]}\n",
        "\n",
        "grid2 = GridSearchCV(pipeline1, param_grid=param_grid1)\n",
        "grid2.fit(X_train,Y_train)\n",
        "\n",
        "pipeline1.fit(X_train, Y_train)\n",
        "y_pred1 = grid2.predict(X_test)"
      ]
    },
    {
      "cell_type": "code",
      "execution_count": null,
      "metadata": {
        "colab": {
          "base_uri": "https://localhost:8080/",
          "height": 211
        },
        "id": "D8FvQZ-2s2Rh",
        "outputId": "366f8ef0-6951-41cb-f388-41a448ab282e"
      },
      "outputs": [
        {
          "name": "stdout",
          "output_type": "stream",
          "text": [
            "Best: 0.539101 using {'clf__C': 0.01}\n",
            "0.539101 (0.189323) with: {'clf__C': 0.01}\n",
            "0.539101 (0.189323) with: {'clf__C': 0.1}\n",
            "0.539101 (0.189323) with: {'clf__C': 1.0}\n",
            "0.539101 (0.189323) with: {'clf__C': 10}\n",
            "0.539101 (0.189323) with: {'clf__C': 100}\n",
            "Score = 0.69\n",
            "Training set score: 0.6933066933066933\n",
            "Test set score: 0.687888198757764\n"
          ]
        },
        {
          "data": {
            "image/png": "[encoded data removed]",
            "text/plain": [
              "<Figure size 288x288 with 1 Axes>"
            ]
          },
          "metadata": {},
          "output_type": "display_data"
        }
      ],
      "source": [
        "print(\"Best: %f using %s\" % (grid2.best_score_, \n",
        "    grid2.best_params_))\n",
        "means = grid2.cv_results_['mean_test_score']\n",
        "stds = grid2.cv_results_['std_test_score']\n",
        "params = grid2.cv_results_['params']\n",
        "for mean, stdev, param in zip(means, stds, params):\n",
        "    print(\"%f (%f) with: %r\" % (mean, stdev, param))\n",
        "print(\"Score = %3.2f\" %(grid2.score(X_test,Y_test)))\n",
        "print('Training set score: ' + str(grid2.score(X_train,Y_train)))\n",
        "print('Test set score: ' + str(grid2.score(X_test,Y_test)))\n",
        "\n",
        "\n",
        "conf_matrix = confusion_matrix(Y_test, y_pred1)\n",
        "fig, ax = plt.subplots(figsize=(4, 4))\n",
        "ax.matshow(conf_matrix, cmap=plt.cm.Oranges, alpha=0.3)\n",
        "for i in range(conf_matrix.shape[0]):\n",
        "    for j in range(conf_matrix.shape[1]):\n",
        "        ax.text(x=j, y=i,s=conf_matrix[i, j], va='center', ha='center', size='medium')"
      ]
    },
    {
      "cell_type": "markdown",
      "metadata": {
        "id": "1DDX0HlSs2Rh"
      },
      "source": [
        "In comparasion matrix done only on the raw LinearSVC model. Outcome at this point is really expectable but shown just to represent the small differences."
      ]
    },
    {
      "cell_type": "code",
      "execution_count": null,
      "metadata": {
        "colab": {
          "base_uri": "https://localhost:8080/",
          "height": 54
        },
        "id": "TRwoopgfs2Ri",
        "outputId": "85b48a8c-e3de-4a3f-eadb-9bc9c9d29516"
      },
      "outputs": [
        {
          "data": {
            "image/png": "[encoded data removed]",
            "text/plain": [
              "<Figure size 288x288 with 1 Axes>"
            ]
          },
          "metadata": {},
          "output_type": "display_data"
        }
      ],
      "source": [
        "X_1= enc_data.loc[:,enc_data.columns != 'y']\n",
        "Y_1 = enc_data['y']\n",
        "X_train,X_test,Y_train,Y_test = train_test_split(X_1,Y_1, random_state = 42,test_size = 0.3)\n",
        "\n",
        "SVC = LinearSVC()\n",
        "svc.fit(X_train,Y_train)\n",
        "y_p = svc.predict(X_test)\n",
        "\n",
        "conf_matrix = confusion_matrix(Y_test, y_p)\n",
        "fig, ax = plt.subplots(figsize=(4, 4))\n",
        "ax.matshow(conf_matrix, cmap=plt.cm.Oranges, alpha=0.3)\n",
        "for i in range(conf_matrix.shape[0]):\n",
        "    for j in range(conf_matrix.shape[1]):\n",
        "        ax.text(x=j, y=i,s=conf_matrix[i, j], va='center', ha='center', size='medium')"
      ]
    },
    {
      "cell_type": "code",
      "execution_count": null,
      "metadata": {
        "colab": {
          "base_uri": "https://localhost:8080/"
        },
        "id": "EhHnW32Ps2Ri",
        "outputId": "6e9716f7-bb97-4309-894c-b66a668b05f2"
      },
      "outputs": [
        {
          "name": "stdout",
          "output_type": "stream",
          "text": [
            "              precision    recall  f1-score   support\n",
            "\n",
            "          no       0.69      1.00      0.81       887\n",
            "         yes       0.33      0.00      0.00       401\n",
            "\n",
            "    accuracy                           0.69      1288\n",
            "   macro avg       0.51      0.50      0.41      1288\n",
            "weighted avg       0.58      0.69      0.56      1288\n",
            "\n",
            "Micro average precision score: 0.688\n"
          ]
        }
      ],
      "source": [
        "y_pred3 = grid2.predict(X_test)\n",
        "print(classification_report(Y_test,y_pred3))\n",
        "print(\"Micro average precision score: {:.3f}\".format (precision_score(Y_test, y_pred3, average=\"micro\")))"
      ]
    },
    {
      "cell_type": "markdown",
      "metadata": {
        "id": "bBbn2k6Rs2Ri"
      },
      "source": [
        "For large values of C, the optimization does a better job of getting all the training points classified correctly, thus improving accuracy. Conversely, small values of C will cause the optimizer to misclassify more points, thus decreasing the accuracy. "
      ]
    },
    {
      "cell_type": "markdown",
      "metadata": {
        "id": "ojgY0dVls2Ri"
      },
      "source": [
        "Feature scaling has resulted in overall improvement of model performance. "
      ]
    },
    {
      "cell_type": "markdown",
      "metadata": {
        "id": "9sc-Ib8Hs2Rj"
      },
      "source": [
        "### LogisticRegression "
      ]
    },
    {
      "cell_type": "markdown",
      "metadata": {
        "id": "vyPg_aX4s2Rj"
      },
      "source": [
        "GridSearch  ->  inverse of regularization strength "
      ]
    },
    {
      "cell_type": "markdown",
      "metadata": {
        "id": "4BOuVrLls2Rk"
      },
      "source": [
        "Scaled model"
      ]
    },
    {
      "cell_type": "code",
      "execution_count": null,
      "metadata": {
        "id": "zO3DiLVVs2Rk"
      },
      "outputs": [],
      "source": [
        "pipeline3 = Pipeline([('scale', StandardScaler()),\n",
        "                   ('clf',LogisticRegression())])\n",
        "param_grid ={'clf__C':[0.001,0.1,1.0,3.0]}\n",
        "\n",
        "log_reg = GridSearchCV(pipeline3, cv=3, param_grid=param_grid)\n",
        "log_reg.fit(X_train,Y_train)\n",
        "y_pred4 = log_reg.predict(X_test)"
      ]
    },
    {
      "cell_type": "code",
      "execution_count": null,
      "metadata": {
        "colab": {
          "base_uri": "https://localhost:8080/"
        },
        "id": "lRsKBikGs2Rl",
        "outputId": "5a3c6837-77eb-4ad6-b74e-988d5fa9a138"
      },
      "outputs": [
        {
          "name": "stdout",
          "output_type": "stream",
          "text": [
            "Best: 0.769231 using {'clf__C': 0.1}\n",
            "0.740593 (0.008490) with: {'clf__C': 0.001}\n",
            "0.769231 (0.010604) with: {'clf__C': 0.1}\n",
            "0.769231 (0.010220) with: {'clf__C': 1.0}\n",
            "0.769231 (0.010220) with: {'clf__C': 3.0}\n",
            "Score = 0.78\n",
            "Training set score: 0.7768897768897769\n",
            "Test set score: 0.7849378881987578\n",
            "              precision    recall  f1-score   support\n",
            "\n",
            "          no       0.79      0.95      0.86       887\n",
            "         yes       0.78      0.43      0.55       401\n",
            "\n",
            "    accuracy                           0.78      1288\n",
            "   macro avg       0.78      0.69      0.71      1288\n",
            "weighted avg       0.78      0.78      0.76      1288\n",
            "\n",
            "Micro average precision score: 0.785\n"
          ]
        }
      ],
      "source": [
        "print(\"Best: %f using %s\" % (log_reg.best_score_, \n",
        "    log_reg.best_params_))\n",
        "means = log_reg.cv_results_['mean_test_score']\n",
        "stds = log_reg.cv_results_['std_test_score']\n",
        "params = log_reg.cv_results_['params']\n",
        "for mean, stdev, param in zip(means, stds, params):\n",
        "    print(\"%f (%f) with: %r\" % (mean, stdev, param))\n",
        "print(\"Score = %3.2f\" %(log_reg.score(X_test,Y_test)))\n",
        "print('Training set score: ' + str(log_reg.score(X_train,Y_train)))\n",
        "print('Test set score: ' + str(log_reg.score(X_test,Y_test)))\n",
        "\n",
        "print(classification_report(Y_test,y_pred4))\n",
        "print(\"Micro average precision score: {:.3f}\".format (precision_score(Y_test, y_pred4, average=\"micro\")))\n",
        "#0.1"
      ]
    },
    {
      "cell_type": "markdown",
      "metadata": {
        "id": "HTDtEMNps2Rm"
      },
      "source": [
        "Unscaled model"
      ]
    },
    {
      "cell_type": "code",
      "execution_count": null,
      "metadata": {
        "id": "DdTGPQ6Ts2Rm"
      },
      "outputs": [],
      "source": [
        "pipeline4 = Pipeline([('clf',LogisticRegression())])\n",
        "param_grid ={'clf__C':[0.001,0.1,1.0,3.0]}\n",
        "\n",
        "log_reg = GridSearchCV(pipeline4, cv=3, param_grid=param_grid)\n",
        "log_reg.fit(X_train,Y_train)\n",
        "y_pred4 = log_reg.predict(X_test)"
      ]
    },
    {
      "cell_type": "code",
      "execution_count": null,
      "metadata": {
        "colab": {
          "base_uri": "https://localhost:8080/"
        },
        "id": "VSkPc_LWs2Rm",
        "outputId": "ee1e774a-83d5-4afd-c76e-7bcf15530fc8"
      },
      "outputs": [
        {
          "name": "stdout",
          "output_type": "stream",
          "text": [
            "Best: 0.690976 using {'clf__C': 0.001}\n",
            "0.690976 (0.007710) with: {'clf__C': 0.001}\n",
            "0.688978 (0.010488) with: {'clf__C': 0.1}\n",
            "0.688978 (0.010488) with: {'clf__C': 1.0}\n",
            "0.688978 (0.010488) with: {'clf__C': 3.0}\n",
            "Score = 0.69\n",
            "Training set score: 0.6933066933066933\n",
            "Test set score: 0.6909937888198758\n",
            "              precision    recall  f1-score   support\n",
            "\n",
            "          no       0.70      0.98      0.81       887\n",
            "         yes       0.53      0.06      0.11       401\n",
            "\n",
            "    accuracy                           0.69      1288\n",
            "   macro avg       0.62      0.52      0.46      1288\n",
            "weighted avg       0.65      0.69      0.59      1288\n",
            "\n",
            "Micro average precision score: 0.691\n"
          ]
        }
      ],
      "source": [
        "print(\"Best: %f using %s\" % (log_reg.best_score_, \n",
        "    log_reg.best_params_))\n",
        "means = log_reg.cv_results_['mean_test_score']\n",
        "stds = log_reg.cv_results_['std_test_score']\n",
        "params = log_reg.cv_results_['params']\n",
        "for mean, stdev, param in zip(means, stds, params):\n",
        "    print(\"%f (%f) with: %r\" % (mean, stdev, param))\n",
        "print(\"Score = %3.2f\" %(log_reg.score(X_test,Y_test)))\n",
        "print('Training set score: ' + str(log_reg.score(X_train,Y_train)))\n",
        "print('Test set score: ' + str(log_reg.score(X_test,Y_test)))\n",
        "\n",
        "print(classification_report(Y_test,y_pred4))\n",
        "print(\"Micro average precision score: {:.3f}\".format (precision_score(Y_test, y_pred4, average=\"micro\")))\n"
      ]
    },
    {
      "cell_type": "markdown",
      "metadata": {
        "id": "1-IZgDERs2Rn"
      },
      "source": [
        "For small values of C, we increase the regularization strength which creates simple models which underfit the data. For big values of C, we decrease the power of regularization which implies the model is allowed to increase it's complexity, and therefore, overfit the data."
      ]
    },
    {
      "cell_type": "markdown",
      "metadata": {
        "id": "LFxUKoams2Rn"
      },
      "source": [
        "Feature scaling has resulted in an overall improvement in model performance. "
      ]
    },
    {
      "cell_type": "markdown",
      "metadata": {
        "id": "6PP-T-Dts2Ro"
      },
      "source": [
        "### KNN "
      ]
    },
    {
      "cell_type": "markdown",
      "metadata": {
        "id": "vlqHUr2Ws2Ro"
      },
      "source": [
        "GridSearch -> optimize n_neighbors"
      ]
    },
    {
      "cell_type": "markdown",
      "metadata": {
        "id": "4Thfmc-ls2Ro"
      },
      "source": [
        "Scaled model"
      ]
    },
    {
      "cell_type": "code",
      "execution_count": null,
      "metadata": {
        "colab": {
          "base_uri": "https://localhost:8080/"
        },
        "id": "qEtGZTGEs2Rp",
        "outputId": "f2c8af11-2a3d-4bb6-e8dd-e6d4b45c1b94"
      },
      "outputs": [
        {
          "name": "stdout",
          "output_type": "stream",
          "text": [
            "Hyperparameter tuning for the KNN classifier Best parameter combination:\n",
            "weights=uniform, n_neighbors=15\n"
          ]
        },
        {
          "data": {
            "text/plain": [
              "{'mean_fit_time': array([0.01246314, 0.01009345, 0.01031885, 0.01116405, 0.01201286,\n",
              "        0.01008019, 0.01111903, 0.0111505 , 0.01012073, 0.00995054,\n",
              "        0.01008968, 0.01062775, 0.01028709, 0.01063352, 0.01044502,\n",
              "        0.01168861, 0.01027265, 0.01117611, 0.01003275, 0.01002889,\n",
              "        0.01049023, 0.01013207, 0.0140079 , 0.01029606, 0.0115334 ,\n",
              "        0.0101264 , 0.0098907 , 0.01062031, 0.01013584, 0.01033764,\n",
              "        0.01193314, 0.01001291, 0.01040082, 0.01035132, 0.01130276,\n",
              "        0.01090684, 0.0102632 , 0.01270866, 0.01095028, 0.01035976,\n",
              "        0.01002045, 0.00986834, 0.00998316, 0.01197262, 0.0102881 ,\n",
              "        0.01089697, 0.01039863, 0.01005712, 0.01022258, 0.01062355,\n",
              "        0.01026688, 0.01015544, 0.01156998, 0.01062269, 0.01141243,\n",
              "        0.01029658, 0.01069422, 0.01010699, 0.01015825, 0.01099176,\n",
              "        0.01105337, 0.0103097 , 0.01054411, 0.01065674, 0.01080384,\n",
              "        0.01147919, 0.01015911, 0.00985317, 0.01019597, 0.01100473,\n",
              "        0.01031041, 0.01027026, 0.01007714, 0.01013002, 0.01092381,\n",
              "        0.01035585, 0.01044908, 0.0108839 , 0.01094098, 0.01119771,\n",
              "        0.00998855, 0.00974951, 0.01228848, 0.00982933, 0.01000295,\n",
              "        0.00945029, 0.01019311, 0.01016145, 0.01047397, 0.01083121,\n",
              "        0.0106658 , 0.00988317, 0.00999756, 0.00980415, 0.01055193,\n",
              "        0.00990973, 0.00990176, 0.0110889 ]),\n",
              " 'std_fit_time': array([4.76200794e-03, 3.49619365e-04, 3.51739847e-04, 2.30907591e-03,\n",
              "        1.84234376e-03, 1.41030150e-04, 2.15927537e-03, 1.39850671e-03,\n",
              "        4.20079588e-04, 2.19610437e-04, 4.57624459e-04, 7.94490155e-04,\n",
              "        6.18369027e-04, 1.48999872e-03, 8.87478856e-04, 2.71871340e-03,\n",
              "        2.10046882e-04, 1.17222982e-03, 3.25226874e-04, 1.95969595e-04,\n",
              "        3.60886869e-04, 4.38108136e-04, 4.75182528e-03, 8.13488013e-04,\n",
              "        1.91718151e-03, 2.63803210e-04, 2.08007857e-04, 5.52166072e-04,\n",
              "        2.64257216e-04, 5.87131016e-04, 3.60969519e-03, 2.56358912e-04,\n",
              "        9.96197874e-04, 2.75010869e-04, 1.48005248e-03, 1.31638153e-03,\n",
              "        7.91033841e-04, 5.80298351e-03, 1.97351491e-03, 3.03812297e-04,\n",
              "        3.36852342e-04, 3.09211246e-04, 4.21920424e-04, 2.31983372e-03,\n",
              "        4.06196543e-04, 1.74262728e-03, 6.29845410e-04, 4.05094610e-04,\n",
              "        5.45045013e-04, 8.85511993e-04, 3.53860614e-04, 3.76071978e-04,\n",
              "        1.26426263e-03, 9.29512071e-04, 1.13583309e-03, 4.63800240e-04,\n",
              "        1.10263564e-03, 2.30546865e-04, 1.58606777e-04, 1.21187964e-03,\n",
              "        7.59742542e-04, 2.51882566e-04, 7.43686541e-04, 7.96000032e-04,\n",
              "        8.66538912e-04, 2.06874353e-03, 1.45489151e-04, 1.74924148e-04,\n",
              "        2.50910290e-04, 8.06103186e-04, 2.45989610e-04, 6.66314381e-04,\n",
              "        3.48996807e-04, 5.84887448e-04, 7.60806595e-04, 8.72153954e-04,\n",
              "        1.10235295e-03, 9.05907760e-04, 8.41395068e-04, 1.00687301e-03,\n",
              "        1.95772869e-04, 8.36748813e-05, 4.42060433e-03, 2.10828975e-04,\n",
              "        1.54221080e-04, 1.15982991e-04, 4.51776094e-04, 4.69078346e-04,\n",
              "        5.70046468e-04, 1.62304019e-03, 8.43702207e-04, 7.77934783e-04,\n",
              "        4.90444586e-04, 2.28990817e-04, 1.09803653e-03, 4.30360332e-04,\n",
              "        3.16825550e-04, 1.65201751e-03]),\n",
              " 'mean_score_time': array([0.03717718, 0.01936908, 0.04184294, 0.02405376, 0.04827447,\n",
              "        0.026404  , 0.05124774, 0.03543715, 0.05761437, 0.0369019 ,\n",
              "        0.05295119, 0.03786325, 0.05325556, 0.03638091, 0.0516942 ,\n",
              "        0.03890128, 0.05471053, 0.03746033, 0.05410161, 0.04021559,\n",
              "        0.05333982, 0.03610106, 0.0527812 , 0.03652301, 0.05250878,\n",
              "        0.03612766, 0.05594516, 0.03884158, 0.05356827, 0.03798647,\n",
              "        0.05268383, 0.03830476, 0.05218697, 0.04068065, 0.05298352,\n",
              "        0.03637619, 0.0538198 , 0.0374042 , 0.05201735, 0.03852582,\n",
              "        0.05396786, 0.03828316, 0.05175319, 0.03684983, 0.05242033,\n",
              "        0.0375246 , 0.05352073, 0.03852844, 0.05355225, 0.03946095,\n",
              "        0.05490451, 0.03933301, 0.05364084, 0.0387639 , 0.0596807 ,\n",
              "        0.04019022, 0.05320096, 0.03908057, 0.05540876, 0.03821898,\n",
              "        0.05934792, 0.04092169, 0.05533705, 0.03944931, 0.0545022 ,\n",
              "        0.04189796, 0.05371737, 0.03879867, 0.05441146, 0.04023809,\n",
              "        0.05385332, 0.03873005, 0.05767961, 0.03965297, 0.05442767,\n",
              "        0.04102025, 0.05414882, 0.03959365, 0.05599036, 0.0418087 ,\n",
              "        0.05428023, 0.03947268, 0.05531487, 0.0401701 , 0.05477324,\n",
              "        0.03858137, 0.05655808, 0.03980527, 0.05463076, 0.04326615,\n",
              "        0.0557837 , 0.03928323, 0.05714855, 0.04001288, 0.05613456,\n",
              "        0.03899889, 0.05796099, 0.04223094]),\n",
              " 'std_score_time': array([0.0039305 , 0.00050085, 0.00445765, 0.00115068, 0.00733793,\n",
              "        0.00043132, 0.00058829, 0.00110062, 0.00872232, 0.00198104,\n",
              "        0.0040206 , 0.00118985, 0.00450568, 0.00182065, 0.00253992,\n",
              "        0.0059137 , 0.00589211, 0.00090491, 0.00364126, 0.00446803,\n",
              "        0.0046707 , 0.00156432, 0.00184485, 0.00158024, 0.00107565,\n",
              "        0.00080355, 0.00376692, 0.00201214, 0.00283919, 0.00141747,\n",
              "        0.00243391, 0.00198758, 0.00129156, 0.00376578, 0.00111198,\n",
              "        0.00041722, 0.0044309 , 0.00198797, 0.00091271, 0.00200774,\n",
              "        0.00482695, 0.00238673, 0.00181619, 0.00059105, 0.00044879,\n",
              "        0.00102137, 0.00211336, 0.00188971, 0.00381646, 0.00241589,\n",
              "        0.00160489, 0.00195739, 0.00158023, 0.00126473, 0.01101756,\n",
              "        0.00315982, 0.00113731, 0.00137048, 0.00382922, 0.00072162,\n",
              "        0.00778949, 0.00430131, 0.00148224, 0.00109465, 0.000759  ,\n",
              "        0.00424309, 0.00087795, 0.00167943, 0.00296021, 0.00251997,\n",
              "        0.00061754, 0.00080155, 0.00490613, 0.00157743, 0.0010946 ,\n",
              "        0.00459177, 0.00153211, 0.00082426, 0.00153509, 0.00289072,\n",
              "        0.00105458, 0.00210332, 0.00135945, 0.00167985, 0.0016798 ,\n",
              "        0.00199919, 0.00189882, 0.00054305, 0.00163962, 0.00354752,\n",
              "        0.0035999 , 0.00068796, 0.00651419, 0.00230056, 0.00221016,\n",
              "        0.00100562, 0.00406762, 0.0018523 ]),\n",
              " 'param_knn__n_neighbors': masked_array(data=[1, 1, 2, 2, 3, 3, 4, 4, 5, 5, 6, 6, 7, 7, 8, 8, 9, 9,\n",
              "                    10, 10, 11, 11, 12, 12, 13, 13, 14, 14, 15, 15, 16, 16,\n",
              "                    17, 17, 18, 18, 19, 19, 20, 20, 21, 21, 22, 22, 23, 23,\n",
              "                    24, 24, 25, 25, 26, 26, 27, 27, 28, 28, 29, 29, 30, 30,\n",
              "                    31, 31, 32, 32, 33, 33, 34, 34, 35, 35, 36, 36, 37, 37,\n",
              "                    38, 38, 39, 39, 40, 40, 41, 41, 42, 42, 43, 43, 44, 44,\n",
              "                    45, 45, 46, 46, 47, 47, 48, 48, 49, 49],\n",
              "              mask=[False, False, False, False, False, False, False, False,\n",
              "                    False, False, False, False, False, False, False, False,\n",
              "                    False, False, False, False, False, False, False, False,\n",
              "                    False, False, False, False, False, False, False, False,\n",
              "                    False, False, False, False, False, False, False, False,\n",
              "                    False, False, False, False, False, False, False, False,\n",
              "                    False, False, False, False, False, False, False, False,\n",
              "                    False, False, False, False, False, False, False, False,\n",
              "                    False, False, False, False, False, False, False, False,\n",
              "                    False, False, False, False, False, False, False, False,\n",
              "                    False, False, False, False, False, False, False, False,\n",
              "                    False, False, False, False, False, False, False, False,\n",
              "                    False, False],\n",
              "        fill_value='?',\n",
              "             dtype=object),\n",
              " 'param_knn__weights': masked_array(data=['uniform', 'distance', 'uniform', 'distance',\n",
              "                    'uniform', 'distance', 'uniform', 'distance',\n",
              "                    'uniform', 'distance', 'uniform', 'distance',\n",
              "                    'uniform', 'distance', 'uniform', 'distance',\n",
              "                    'uniform', 'distance', 'uniform', 'distance',\n",
              "                    'uniform', 'distance', 'uniform', 'distance',\n",
              "                    'uniform', 'distance', 'uniform', 'distance',\n",
              "                    'uniform', 'distance', 'uniform', 'distance',\n",
              "                    'uniform', 'distance', 'uniform', 'distance',\n",
              "                    'uniform', 'distance', 'uniform', 'distance',\n",
              "                    'uniform', 'distance', 'uniform', 'distance',\n",
              "                    'uniform', 'distance', 'uniform', 'distance',\n",
              "                    'uniform', 'distance', 'uniform', 'distance',\n",
              "                    'uniform', 'distance', 'uniform', 'distance',\n",
              "                    'uniform', 'distance', 'uniform', 'distance',\n",
              "                    'uniform', 'distance', 'uniform', 'distance',\n",
              "                    'uniform', 'distance', 'uniform', 'distance',\n",
              "                    'uniform', 'distance', 'uniform', 'distance',\n",
              "                    'uniform', 'distance', 'uniform', 'distance',\n",
              "                    'uniform', 'distance', 'uniform', 'distance',\n",
              "                    'uniform', 'distance', 'uniform', 'distance',\n",
              "                    'uniform', 'distance', 'uniform', 'distance',\n",
              "                    'uniform', 'distance', 'uniform', 'distance',\n",
              "                    'uniform', 'distance', 'uniform', 'distance',\n",
              "                    'uniform', 'distance'],\n",
              "              mask=[False, False, False, False, False, False, False, False,\n",
              "                    False, False, False, False, False, False, False, False,\n",
              "                    False, False, False, False, False, False, False, False,\n",
              "                    False, False, False, False, False, False, False, False,\n",
              "                    False, False, False, False, False, False, False, False,\n",
              "                    False, False, False, False, False, False, False, False,\n",
              "                    False, False, False, False, False, False, False, False,\n",
              "                    False, False, False, False, False, False, False, False,\n",
              "                    False, False, False, False, False, False, False, False,\n",
              "                    False, False, False, False, False, False, False, False,\n",
              "                    False, False, False, False, False, False, False, False,\n",
              "                    False, False, False, False, False, False, False, False,\n",
              "                    False, False],\n",
              "        fill_value='?',\n",
              "             dtype=object),\n",
              " 'params': [{'knn__n_neighbors': 1, 'knn__weights': 'uniform'},\n",
              "  {'knn__n_neighbors': 1, 'knn__weights': 'distance'},\n",
              "  {'knn__n_neighbors': 2, 'knn__weights': 'uniform'},\n",
              "  {'knn__n_neighbors': 2, 'knn__weights': 'distance'},\n",
              "  {'knn__n_neighbors': 3, 'knn__weights': 'uniform'},\n",
              "  {'knn__n_neighbors': 3, 'knn__weights': 'distance'},\n",
              "  {'knn__n_neighbors': 4, 'knn__weights': 'uniform'},\n",
              "  {'knn__n_neighbors': 4, 'knn__weights': 'distance'},\n",
              "  {'knn__n_neighbors': 5, 'knn__weights': 'uniform'},\n",
              "  {'knn__n_neighbors': 5, 'knn__weights': 'distance'},\n",
              "  {'knn__n_neighbors': 6, 'knn__weights': 'uniform'},\n",
              "  {'knn__n_neighbors': 6, 'knn__weights': 'distance'},\n",
              "  {'knn__n_neighbors': 7, 'knn__weights': 'uniform'},\n",
              "  {'knn__n_neighbors': 7, 'knn__weights': 'distance'},\n",
              "  {'knn__n_neighbors': 8, 'knn__weights': 'uniform'},\n",
              "  {'knn__n_neighbors': 8, 'knn__weights': 'distance'},\n",
              "  {'knn__n_neighbors': 9, 'knn__weights': 'uniform'},\n",
              "  {'knn__n_neighbors': 9, 'knn__weights': 'distance'},\n",
              "  {'knn__n_neighbors': 10, 'knn__weights': 'uniform'},\n",
              "  {'knn__n_neighbors': 10, 'knn__weights': 'distance'},\n",
              "  {'knn__n_neighbors': 11, 'knn__weights': 'uniform'},\n",
              "  {'knn__n_neighbors': 11, 'knn__weights': 'distance'},\n",
              "  {'knn__n_neighbors': 12, 'knn__weights': 'uniform'},\n",
              "  {'knn__n_neighbors': 12, 'knn__weights': 'distance'},\n",
              "  {'knn__n_neighbors': 13, 'knn__weights': 'uniform'},\n",
              "  {'knn__n_neighbors': 13, 'knn__weights': 'distance'},\n",
              "  {'knn__n_neighbors': 14, 'knn__weights': 'uniform'},\n",
              "  {'knn__n_neighbors': 14, 'knn__weights': 'distance'},\n",
              "  {'knn__n_neighbors': 15, 'knn__weights': 'uniform'},\n",
              "  {'knn__n_neighbors': 15, 'knn__weights': 'distance'},\n",
              "  {'knn__n_neighbors': 16, 'knn__weights': 'uniform'},\n",
              "  {'knn__n_neighbors': 16, 'knn__weights': 'distance'},\n",
              "  {'knn__n_neighbors': 17, 'knn__weights': 'uniform'},\n",
              "  {'knn__n_neighbors': 17, 'knn__weights': 'distance'},\n",
              "  {'knn__n_neighbors': 18, 'knn__weights': 'uniform'},\n",
              "  {'knn__n_neighbors': 18, 'knn__weights': 'distance'},\n",
              "  {'knn__n_neighbors': 19, 'knn__weights': 'uniform'},\n",
              "  {'knn__n_neighbors': 19, 'knn__weights': 'distance'},\n",
              "  {'knn__n_neighbors': 20, 'knn__weights': 'uniform'},\n",
              "  {'knn__n_neighbors': 20, 'knn__weights': 'distance'},\n",
              "  {'knn__n_neighbors': 21, 'knn__weights': 'uniform'},\n",
              "  {'knn__n_neighbors': 21, 'knn__weights': 'distance'},\n",
              "  {'knn__n_neighbors': 22, 'knn__weights': 'uniform'},\n",
              "  {'knn__n_neighbors': 22, 'knn__weights': 'distance'},\n",
              "  {'knn__n_neighbors': 23, 'knn__weights': 'uniform'},\n",
              "  {'knn__n_neighbors': 23, 'knn__weights': 'distance'},\n",
              "  {'knn__n_neighbors': 24, 'knn__weights': 'uniform'},\n",
              "  {'knn__n_neighbors': 24, 'knn__weights': 'distance'},\n",
              "  {'knn__n_neighbors': 25, 'knn__weights': 'uniform'},\n",
              "  {'knn__n_neighbors': 25, 'knn__weights': 'distance'},\n",
              "  {'knn__n_neighbors': 26, 'knn__weights': 'uniform'},\n",
              "  {'knn__n_neighbors': 26, 'knn__weights': 'distance'},\n",
              "  {'knn__n_neighbors': 27, 'knn__weights': 'uniform'},\n",
              "  {'knn__n_neighbors': 27, 'knn__weights': 'distance'},\n",
              "  {'knn__n_neighbors': 28, 'knn__weights': 'uniform'},\n",
              "  {'knn__n_neighbors': 28, 'knn__weights': 'distance'},\n",
              "  {'knn__n_neighbors': 29, 'knn__weights': 'uniform'},\n",
              "  {'knn__n_neighbors': 29, 'knn__weights': 'distance'},\n",
              "  {'knn__n_neighbors': 30, 'knn__weights': 'uniform'},\n",
              "  {'knn__n_neighbors': 30, 'knn__weights': 'distance'},\n",
              "  {'knn__n_neighbors': 31, 'knn__weights': 'uniform'},\n",
              "  {'knn__n_neighbors': 31, 'knn__weights': 'distance'},\n",
              "  {'knn__n_neighbors': 32, 'knn__weights': 'uniform'},\n",
              "  {'knn__n_neighbors': 32, 'knn__weights': 'distance'},\n",
              "  {'knn__n_neighbors': 33, 'knn__weights': 'uniform'},\n",
              "  {'knn__n_neighbors': 33, 'knn__weights': 'distance'},\n",
              "  {'knn__n_neighbors': 34, 'knn__weights': 'uniform'},\n",
              "  {'knn__n_neighbors': 34, 'knn__weights': 'distance'},\n",
              "  {'knn__n_neighbors': 35, 'knn__weights': 'uniform'},\n",
              "  {'knn__n_neighbors': 35, 'knn__weights': 'distance'},\n",
              "  {'knn__n_neighbors': 36, 'knn__weights': 'uniform'},\n",
              "  {'knn__n_neighbors': 36, 'knn__weights': 'distance'},\n",
              "  {'knn__n_neighbors': 37, 'knn__weights': 'uniform'},\n",
              "  {'knn__n_neighbors': 37, 'knn__weights': 'distance'},\n",
              "  {'knn__n_neighbors': 38, 'knn__weights': 'uniform'},\n",
              "  {'knn__n_neighbors': 38, 'knn__weights': 'distance'},\n",
              "  {'knn__n_neighbors': 39, 'knn__weights': 'uniform'},\n",
              "  {'knn__n_neighbors': 39, 'knn__weights': 'distance'},\n",
              "  {'knn__n_neighbors': 40, 'knn__weights': 'uniform'},\n",
              "  {'knn__n_neighbors': 40, 'knn__weights': 'distance'},\n",
              "  {'knn__n_neighbors': 41, 'knn__weights': 'uniform'},\n",
              "  {'knn__n_neighbors': 41, 'knn__weights': 'distance'},\n",
              "  {'knn__n_neighbors': 42, 'knn__weights': 'uniform'},\n",
              "  {'knn__n_neighbors': 42, 'knn__weights': 'distance'},\n",
              "  {'knn__n_neighbors': 43, 'knn__weights': 'uniform'},\n",
              "  {'knn__n_neighbors': 43, 'knn__weights': 'distance'},\n",
              "  {'knn__n_neighbors': 44, 'knn__weights': 'uniform'},\n",
              "  {'knn__n_neighbors': 44, 'knn__weights': 'distance'},\n",
              "  {'knn__n_neighbors': 45, 'knn__weights': 'uniform'},\n",
              "  {'knn__n_neighbors': 45, 'knn__weights': 'distance'},\n",
              "  {'knn__n_neighbors': 46, 'knn__weights': 'uniform'},\n",
              "  {'knn__n_neighbors': 46, 'knn__weights': 'distance'},\n",
              "  {'knn__n_neighbors': 47, 'knn__weights': 'uniform'},\n",
              "  {'knn__n_neighbors': 47, 'knn__weights': 'distance'},\n",
              "  {'knn__n_neighbors': 48, 'knn__weights': 'uniform'},\n",
              "  {'knn__n_neighbors': 48, 'knn__weights': 'distance'},\n",
              "  {'knn__n_neighbors': 49, 'knn__weights': 'uniform'},\n",
              "  {'knn__n_neighbors': 49, 'knn__weights': 'distance'}],\n",
              " 'split0_test_score': array([0.6921797 , 0.6921797 , 0.72712146, 0.6921797 , 0.72712146,\n",
              "        0.71214642, 0.74875208, 0.71048253, 0.76372712, 0.74708819,\n",
              "        0.75041597, 0.74542429, 0.75707155, 0.75374376, 0.75873544,\n",
              "        0.74708819, 0.76539101, 0.76039933, 0.7687188 , 0.75540765,\n",
              "        0.7687188 , 0.76206323, 0.76372712, 0.76372712, 0.76539101,\n",
              "        0.76539101, 0.75707155, 0.75873544, 0.76372712, 0.76539101,\n",
              "        0.76206323, 0.75873544, 0.76039933, 0.76539101, 0.76206323,\n",
              "        0.76705491, 0.75873544, 0.76206323, 0.75374376, 0.76372712,\n",
              "        0.75873544, 0.76039933, 0.75207987, 0.76705491, 0.76206323,\n",
              "        0.76539101, 0.76206323, 0.7687188 , 0.75707155, 0.76372712,\n",
              "        0.75873544, 0.76372712, 0.75873544, 0.76039933, 0.75540765,\n",
              "        0.76206323, 0.76039933, 0.76039933, 0.75540765, 0.76039933,\n",
              "        0.75707155, 0.76372712, 0.75540765, 0.75873544, 0.75707155,\n",
              "        0.76372712, 0.75374376, 0.75873544, 0.76039933, 0.76206323,\n",
              "        0.75207987, 0.76206323, 0.75540765, 0.75873544, 0.75207987,\n",
              "        0.75707155, 0.75540765, 0.76039933, 0.75540765, 0.76039933,\n",
              "        0.75707155, 0.75873544, 0.75540765, 0.75873544, 0.75540765,\n",
              "        0.76039933, 0.75374376, 0.75873544, 0.75707155, 0.76039933,\n",
              "        0.75207987, 0.75873544, 0.75207987, 0.75873544, 0.74875208,\n",
              "        0.75873544, 0.75540765, 0.75707155]),\n",
              " 'split1_test_score': array([0.69550749, 0.69550749, 0.72545757, 0.69550749, 0.72046589,\n",
              "        0.7171381 , 0.73377704, 0.72212978, 0.73211314, 0.72878536,\n",
              "        0.74708819, 0.73377704, 0.74043261, 0.73377704, 0.75707155,\n",
              "        0.75041597, 0.74708819, 0.74542429, 0.75207987, 0.7437604 ,\n",
              "        0.75540765, 0.75707155, 0.76372712, 0.75707155, 0.76705491,\n",
              "        0.75707155, 0.76372712, 0.76039933, 0.7703827 , 0.76039933,\n",
              "        0.76372712, 0.76539101, 0.76539101, 0.75707155, 0.76539101,\n",
              "        0.7687188 , 0.7703827 , 0.76539101, 0.76539101, 0.76372712,\n",
              "        0.76539101, 0.76539101, 0.76372712, 0.76705491, 0.76372712,\n",
              "        0.76372712, 0.76206323, 0.76206323, 0.76539101, 0.76206323,\n",
              "        0.7687188 , 0.76206323, 0.76039933, 0.76039933, 0.76039933,\n",
              "        0.76039933, 0.76039933, 0.75374376, 0.76206323, 0.75707155,\n",
              "        0.76206323, 0.76039933, 0.76039933, 0.76372712, 0.76539101,\n",
              "        0.76539101, 0.76206323, 0.7687188 , 0.76705491, 0.76539101,\n",
              "        0.75707155, 0.76705491, 0.76372712, 0.76372712, 0.76039933,\n",
              "        0.76372712, 0.76039933, 0.75873544, 0.75873544, 0.76539101,\n",
              "        0.76372712, 0.76372712, 0.75707155, 0.76539101, 0.76206323,\n",
              "        0.76039933, 0.76039933, 0.76372712, 0.76039933, 0.76206323,\n",
              "        0.75873544, 0.76705491, 0.76039933, 0.76206323, 0.76039933,\n",
              "        0.76372712, 0.76539101, 0.76539101]),\n",
              " 'split2_test_score': array([0.71048253, 0.71048253, 0.718802  , 0.71048253, 0.718802  ,\n",
              "        0.718802  , 0.73211314, 0.7171381 , 0.73710483, 0.73377704,\n",
              "        0.74043261, 0.73710483, 0.74043261, 0.73710483, 0.74043261,\n",
              "        0.73377704, 0.73044925, 0.73377704, 0.74542429, 0.73876872,\n",
              "        0.7437604 , 0.7437604 , 0.75041597, 0.73377704, 0.74542429,\n",
              "        0.73876872, 0.75374376, 0.73377704, 0.75873544, 0.75041597,\n",
              "        0.75707155, 0.74708819, 0.75540765, 0.75041597, 0.75041597,\n",
              "        0.75207987, 0.75540765, 0.75707155, 0.75540765, 0.74875208,\n",
              "        0.75374376, 0.75041597, 0.75207987, 0.75041597, 0.75207987,\n",
              "        0.75041597, 0.75041597, 0.75207987, 0.74875208, 0.74875208,\n",
              "        0.75041597, 0.75707155, 0.75041597, 0.75540765, 0.75374376,\n",
              "        0.75707155, 0.75540765, 0.75540765, 0.75374376, 0.75540765,\n",
              "        0.75540765, 0.75207987, 0.75041597, 0.75374376, 0.75374376,\n",
              "        0.75374376, 0.75207987, 0.75707155, 0.75374376, 0.75207987,\n",
              "        0.75207987, 0.75374376, 0.74875208, 0.74542429, 0.74875208,\n",
              "        0.74875208, 0.74708819, 0.74542429, 0.74708819, 0.74875208,\n",
              "        0.74542429, 0.74708819, 0.74542429, 0.74875208, 0.74542429,\n",
              "        0.74875208, 0.74708819, 0.74708819, 0.74708819, 0.75207987,\n",
              "        0.74542429, 0.74708819, 0.74209651, 0.74708819, 0.73876872,\n",
              "        0.74708819, 0.73876872, 0.74542429]),\n",
              " 'split3_test_score': array([0.69      , 0.69      , 0.71166667, 0.69      , 0.72      ,\n",
              "        0.71666667, 0.72166667, 0.72166667, 0.72333333, 0.72      ,\n",
              "        0.73666667, 0.71833333, 0.74      , 0.73      , 0.73833333,\n",
              "        0.73333333, 0.73833333, 0.73666667, 0.745     , 0.735     ,\n",
              "        0.74333333, 0.73833333, 0.74666667, 0.74      , 0.75333333,\n",
              "        0.74333333, 0.74833333, 0.74      , 0.74666667, 0.74166667,\n",
              "        0.74833333, 0.74333333, 0.74333333, 0.74      , 0.74833333,\n",
              "        0.74333333, 0.75      , 0.74833333, 0.74666667, 0.745     ,\n",
              "        0.74333333, 0.745     , 0.74166667, 0.74333333, 0.74333333,\n",
              "        0.74666667, 0.74833333, 0.74333333, 0.74833333, 0.74666667,\n",
              "        0.74666667, 0.74166667, 0.745     , 0.74166667, 0.75      ,\n",
              "        0.74166667, 0.75333333, 0.74666667, 0.75166667, 0.74666667,\n",
              "        0.74833333, 0.745     , 0.745     , 0.74833333, 0.75      ,\n",
              "        0.74833333, 0.75166667, 0.74833333, 0.74833333, 0.75166667,\n",
              "        0.75333333, 0.75      , 0.75166667, 0.75333333, 0.75166667,\n",
              "        0.75166667, 0.75166667, 0.75666667, 0.75      , 0.75666667,\n",
              "        0.75      , 0.75333333, 0.74833333, 0.75333333, 0.75      ,\n",
              "        0.755     , 0.74666667, 0.75166667, 0.75166667, 0.755     ,\n",
              "        0.74666667, 0.75166667, 0.74666667, 0.75166667, 0.745     ,\n",
              "        0.75      , 0.74666667, 0.75166667]),\n",
              " 'split4_test_score': array([0.67833333, 0.67833333, 0.75      , 0.67833333, 0.72666667,\n",
              "        0.72666667, 0.745     , 0.72      , 0.75166667, 0.74833333,\n",
              "        0.745     , 0.73833333, 0.755     , 0.75166667, 0.74833333,\n",
              "        0.75166667, 0.75      , 0.75166667, 0.75333333, 0.75333333,\n",
              "        0.755     , 0.75166667, 0.755     , 0.75166667, 0.75833333,\n",
              "        0.75333333, 0.75      , 0.75666667, 0.75833333, 0.75666667,\n",
              "        0.755     , 0.76333333, 0.755     , 0.76      , 0.75166667,\n",
              "        0.76166667, 0.75666667, 0.75833333, 0.74833333, 0.76      ,\n",
              "        0.755     , 0.75666667, 0.75166667, 0.76      , 0.755     ,\n",
              "        0.76      , 0.75333333, 0.76      , 0.755     , 0.76166667,\n",
              "        0.75666667, 0.76      , 0.75666667, 0.76      , 0.755     ,\n",
              "        0.76      , 0.76      , 0.76333333, 0.75666667, 0.765     ,\n",
              "        0.75833333, 0.76666667, 0.75833333, 0.765     , 0.76      ,\n",
              "        0.765     , 0.76      , 0.76166667, 0.76      , 0.765     ,\n",
              "        0.75833333, 0.76333333, 0.75833333, 0.765     , 0.75666667,\n",
              "        0.76333333, 0.75833333, 0.76166667, 0.75666667, 0.76166667,\n",
              "        0.76      , 0.76      , 0.75833333, 0.76      , 0.75833333,\n",
              "        0.76      , 0.75833333, 0.75666667, 0.755     , 0.75666667,\n",
              "        0.75833333, 0.75833333, 0.755     , 0.755     , 0.76      ,\n",
              "        0.755     , 0.76      , 0.755     ]),\n",
              " 'mean_test_score': array([0.69330061, 0.69330061, 0.72660954, 0.69330061, 0.7226112 ,\n",
              "        0.71828397, 0.73626179, 0.71828342, 0.74158902, 0.73559678,\n",
              "        0.74392069, 0.73459456, 0.74658735, 0.74125846, 0.74858125,\n",
              "        0.74325624, 0.74625236, 0.7455868 , 0.75291126, 0.74525402,\n",
              "        0.75324404, 0.75057903, 0.75590738, 0.74924847, 0.75790738,\n",
              "        0.75157959, 0.75457515, 0.7499157 , 0.75956905, 0.75490793,\n",
              "        0.75723905, 0.75557626, 0.75590627, 0.75457571, 0.75557404,\n",
              "        0.75857072, 0.75823849, 0.75823849, 0.75390849, 0.75624126,\n",
              "        0.75524071, 0.7555746 , 0.75224404, 0.75757182, 0.75524071,\n",
              "        0.75724016, 0.75524182, 0.75723905, 0.7549096 , 0.75657515,\n",
              "        0.75624071, 0.75690571, 0.75424348, 0.7555746 , 0.75491015,\n",
              "        0.75624016, 0.75790793, 0.75591015, 0.7559096 , 0.75690904,\n",
              "        0.75624182, 0.7575746 , 0.75391126, 0.75790793, 0.75724126,\n",
              "        0.75923905, 0.7559107 , 0.75890516, 0.75790627, 0.75924016,\n",
              "        0.75457959, 0.75923905, 0.75557737, 0.75724404, 0.75391292,\n",
              "        0.75691015, 0.75457903, 0.75657848, 0.75357959, 0.75857515,\n",
              "        0.75524459, 0.75657682, 0.75291403, 0.75724237, 0.7542457 ,\n",
              "        0.75691015, 0.75324626, 0.75557682, 0.75424515, 0.75724182,\n",
              "        0.75224792, 0.75657571, 0.75124847, 0.7549107 , 0.75058403,\n",
              "        0.75491015, 0.75324681, 0.7549107 ]),\n",
              " 'std_test_score': array([0.01035624, 0.01035624, 0.01290697, 0.01035624, 0.00354175,\n",
              "        0.00473574, 0.00968263, 0.00427442, 0.01438628, 0.01083733,\n",
              "        0.00486157, 0.00897395, 0.00774398, 0.00963526, 0.00832676,\n",
              "        0.00806226, 0.01177693, 0.00975132, 0.00859524, 0.00797253,\n",
              "        0.00933161, 0.00862176, 0.00690893, 0.01096886, 0.00795755,\n",
              "        0.00955104, 0.0054877 , 0.01088161, 0.00778355, 0.00822985,\n",
              "        0.00547213, 0.00881384, 0.00733889, 0.00874503, 0.00682325,\n",
              "        0.00957976, 0.00672437, 0.00574926, 0.00659772, 0.00785695,\n",
              "        0.00720175, 0.00720092, 0.00698755, 0.00937758, 0.00735392,\n",
              "        0.00740948, 0.00579174, 0.00874833, 0.00625627, 0.00730167,\n",
              "        0.00758548, 0.00793678, 0.00572775, 0.00720554, 0.00334236,\n",
              "        0.00746219, 0.00296544, 0.00575577, 0.00350387, 0.00608001,\n",
              "        0.00452088, 0.00796004, 0.00557704, 0.00622669, 0.00526738,\n",
              "        0.00693269, 0.00428856, 0.00661949, 0.00637596, 0.00612546,\n",
              "        0.0026211 , 0.00634642, 0.00521384, 0.00720291, 0.00411574,\n",
              "        0.00602997, 0.00475924, 0.00582348, 0.00434526, 0.00564759,\n",
              "        0.00666107, 0.00579757, 0.00509806, 0.00572014, 0.00591635,\n",
              "        0.00456287, 0.00563037, 0.00574349, 0.00456734, 0.0036116 ,\n",
              "        0.00560108, 0.00680704, 0.00637581, 0.00524425, 0.00847514,\n",
              "        0.00596108, 0.00949389, 0.00655789]),\n",
              " 'rank_test_score': array([96, 96, 92, 96, 93, 94, 89, 95, 87, 90, 85, 91, 81, 88, 80, 86, 82,\n",
              "        83, 71, 84, 69, 77, 38, 79, 12, 74, 59, 78,  1, 55, 21, 42, 39, 58,\n",
              "        45,  7,  8,  9, 65, 32, 48, 43, 73, 15, 48, 20, 47, 21, 54, 30, 33,\n",
              "        26, 62, 43, 52, 34, 10, 36, 37, 25, 31, 14, 64, 10, 19,  3, 35,  5,\n",
              "        13,  2, 56,  3, 40, 16, 63, 23, 57, 27, 66,  6, 46, 28, 70, 17, 60,\n",
              "        24, 68, 41, 61, 18, 72, 29, 75, 50, 76, 52, 67, 50], dtype=int32)}"
            ]
          },
          "execution_count": 26,
          "metadata": {},
          "output_type": "execute_result"
        }
      ],
      "source": [
        "n_splits = 5\n",
        "\n",
        "pipeline = GridSearchCV(\n",
        "    Pipeline([\n",
        "            ('normalize', StandardScaler()),\n",
        "            ('knn', KNeighborsClassifier())\n",
        "    ]),\n",
        "    {'knn__n_neighbors': list(range(1, 50)), 'knn__weights': ['uniform', 'distance']},\n",
        "    cv=StratifiedKFold(n_splits=n_splits, shuffle=True, random_state=42)\n",
        ")\n",
        "\n",
        "print(end='Hyperparameter tuning for the KNN classifier ')\n",
        "pipeline.fit(X_train, Y_train)\n",
        "\n",
        "results = pipeline.cv_results_\n",
        "best_comb = np.argmax(results['mean_test_score'])\n",
        "best_params = results['params'][best_comb]\n",
        "\n",
        "print('Best parameter combination:')\n",
        "print('weights={}, n_neighbors={}'.format(best_params['knn__weights'],\n",
        "                                          best_params['knn__n_neighbors']))\n",
        "\n",
        "results"
      ]
    },
    {
      "cell_type": "code",
      "execution_count": null,
      "metadata": {
        "colab": {
          "base_uri": "https://localhost:8080/"
        },
        "id": "jac83F0ps2Rp",
        "outputId": "88765e79-8dde-49e2-964c-301fe99f9b02"
      },
      "outputs": [
        {
          "name": "stdout",
          "output_type": "stream",
          "text": [
            "              precision    recall  f1-score   support\n",
            "\n",
            "          no       0.78      0.94      0.85       887\n",
            "         yes       0.76      0.43      0.55       401\n",
            "\n",
            "    accuracy                           0.78      1288\n",
            "   macro avg       0.77      0.68      0.70      1288\n",
            "weighted avg       0.78      0.78      0.76      1288\n",
            "\n",
            "Micro average precision score: 0.780\n"
          ]
        }
      ],
      "source": [
        "y_pred5 = pipeline.predict(X_test)\n",
        "print(classification_report(Y_test,y_pred5))\n",
        "print(\"Micro average precision score: {:.3f}\".format (precision_score(Y_test, y_pred5, average=\"micro\")))"
      ]
    },
    {
      "cell_type": "markdown",
      "metadata": {
        "id": "7dObeN5ks2Rp"
      },
      "source": [
        "Unscaled"
      ]
    },
    {
      "cell_type": "code",
      "execution_count": null,
      "metadata": {
        "colab": {
          "base_uri": "https://localhost:8080/"
        },
        "id": "FalG-k9us2Rq",
        "outputId": "7afd13fb-e95b-431c-eb2f-5ba70a8d7a0a"
      },
      "outputs": [
        {
          "name": "stdout",
          "output_type": "stream",
          "text": [
            "Hyperparameter tuning for the KNN classifier Best parameter combination:\n",
            "weights=uniform, n_neighbors=38\n"
          ]
        },
        {
          "data": {
            "text/plain": [
              "{'mean_fit_time': array([0.00898824, 0.00657163, 0.0068224 , 0.00780983, 0.00660496,\n",
              "        0.00732303, 0.00700073, 0.00643358, 0.0066792 , 0.00643363,\n",
              "        0.00754189, 0.00657792, 0.00655932, 0.0065814 , 0.00748248,\n",
              "        0.00646362, 0.00637898, 0.00641541, 0.00874124, 0.00678444,\n",
              "        0.00825419, 0.00679865, 0.00655847, 0.00672865, 0.00652056,\n",
              "        0.0067421 , 0.00753236, 0.0064333 , 0.00644369, 0.00635285,\n",
              "        0.0074913 , 0.00627332, 0.00633287, 0.00646319, 0.00785656,\n",
              "        0.00694423, 0.00653367, 0.00660377, 0.00882907, 0.00660491,\n",
              "        0.00630636, 0.00734859, 0.00635982, 0.00645638, 0.00681057,\n",
              "        0.00646448, 0.0067143 , 0.00650363, 0.00648794, 0.00655828,\n",
              "        0.00646329, 0.00647144, 0.00667505, 0.00711322, 0.00673361,\n",
              "        0.00649133, 0.00668941, 0.0067647 , 0.00632939, 0.00631328,\n",
              "        0.0063602 , 0.00639915, 0.00630612, 0.00650091, 0.00639844,\n",
              "        0.00665002, 0.00624428, 0.00632539, 0.00670867, 0.00660152,\n",
              "        0.00645146, 0.0063365 , 0.00639834, 0.0065834 , 0.00655022,\n",
              "        0.00643024, 0.02452106, 0.00635858, 0.00943198, 0.01031537,\n",
              "        0.00804782, 0.00643826, 0.00649996, 0.00714364, 0.00668893,\n",
              "        0.00625329, 0.00649576, 0.00766177, 0.0068244 , 0.0064692 ,\n",
              "        0.00661259, 0.00737228, 0.00666885, 0.00636764, 0.00650339,\n",
              "        0.00776248, 0.00647945, 0.00646725]),\n",
              " 'std_fit_time': array([5.29193280e-03, 3.70534063e-04, 4.79382360e-04, 2.37442089e-03,\n",
              "        2.21779797e-04, 9.35708540e-04, 1.19324819e-03, 7.02591034e-05,\n",
              "        1.91892011e-04, 1.75046434e-04, 1.93422361e-03, 1.28585256e-04,\n",
              "        8.94581839e-05, 1.38846973e-04, 2.00696743e-03, 1.35129677e-04,\n",
              "        1.21692598e-04, 1.53916535e-04, 2.63477176e-03, 5.52707851e-04,\n",
              "        3.38805657e-03, 6.68655922e-04, 1.38744652e-04, 3.85036247e-04,\n",
              "        4.44439306e-04, 6.22597781e-04, 1.98953613e-03, 1.35360741e-04,\n",
              "        1.63673366e-04, 1.33841692e-04, 1.79444348e-03, 1.54492031e-04,\n",
              "        1.03941532e-04, 1.97499918e-04, 2.93468291e-03, 8.43945321e-04,\n",
              "        1.41103310e-04, 2.74527514e-04, 4.34011087e-03, 2.60469957e-04,\n",
              "        7.07523192e-05, 1.19353082e-03, 2.08047336e-04, 1.89425924e-04,\n",
              "        5.22450253e-04, 5.07373558e-05, 4.76095753e-04, 1.70987941e-04,\n",
              "        1.71792364e-04, 3.66634711e-04, 1.03807351e-04, 1.58416141e-04,\n",
              "        1.48447411e-04, 7.59648931e-04, 4.59067985e-04, 2.54399689e-04,\n",
              "        4.27194405e-04, 5.68098323e-04, 1.04342779e-04, 6.18631483e-05,\n",
              "        2.17367807e-04, 1.72303971e-04, 8.89344636e-05, 1.62815864e-04,\n",
              "        1.39573665e-04, 6.11822721e-04, 5.56390711e-05, 2.30715608e-04,\n",
              "        7.77098818e-04, 5.23108845e-04, 8.53487365e-05, 6.17325326e-05,\n",
              "        1.64469880e-04, 4.21956712e-04, 2.16691699e-04, 1.51219009e-04,\n",
              "        9.75198742e-03, 1.97518441e-04, 4.25971172e-03, 4.92284144e-03,\n",
              "        2.60319842e-03, 1.05044964e-04, 1.22690618e-04, 1.24058808e-03,\n",
              "        3.71883114e-04, 2.57392263e-05, 5.03473327e-04, 2.16868326e-03,\n",
              "        3.47557168e-04, 1.68293080e-04, 2.13842747e-04, 1.06883314e-03,\n",
              "        5.68398281e-04, 1.88308627e-04, 1.23917437e-04, 2.51009518e-03,\n",
              "        1.41280050e-04, 1.08237687e-04]),\n",
              " 'mean_score_time': array([0.03528752, 0.02404275, 0.04342079, 0.02357178, 0.04400792,\n",
              "        0.02975302, 0.04906154, 0.03456779, 0.0500999 , 0.03696017,\n",
              "        0.04921198, 0.03493676, 0.05143204, 0.03615117, 0.05179768,\n",
              "        0.0359591 , 0.05077662, 0.0355351 , 0.05167665, 0.03477125,\n",
              "        0.0494556 , 0.03745522, 0.05128026, 0.03447442, 0.04911175,\n",
              "        0.03560615, 0.05252881, 0.03578343, 0.04894285, 0.03574352,\n",
              "        0.05014315, 0.03472319, 0.04921026, 0.03649464, 0.05269275,\n",
              "        0.03556089, 0.05007882, 0.03753505, 0.05189214, 0.03666987,\n",
              "        0.05018878, 0.0391006 , 0.05097136, 0.03566618, 0.05147953,\n",
              "        0.04026403, 0.05381441, 0.03653417, 0.0506393 , 0.04018226,\n",
              "        0.05312304, 0.03606358, 0.05269041, 0.0391047 , 0.05170741,\n",
              "        0.03682823, 0.05180402, 0.04039817, 0.05156379, 0.03556457,\n",
              "        0.05289168, 0.0375668 , 0.05102172, 0.0377636 , 0.05221639,\n",
              "        0.03926802, 0.05017834, 0.03634815, 0.05218043, 0.04028182,\n",
              "        0.05218267, 0.03706875, 0.05430202, 0.03861914, 0.05245123,\n",
              "        0.03835111, 0.13934698, 0.03844285, 0.10503993, 0.05796595,\n",
              "        0.06821895, 0.03853183, 0.05238934, 0.04068131, 0.0568778 ,\n",
              "        0.03691425, 0.05135202, 0.04327536, 0.05692611, 0.03911529,\n",
              "        0.0536962 , 0.04013915, 0.05658331, 0.03819113, 0.05543957,\n",
              "        0.04123325, 0.05366187, 0.03989801]),\n",
              " 'std_score_time': array([0.00081824, 0.00173819, 0.00520063, 0.00078059, 0.00186238,\n",
              "        0.00268626, 0.00231919, 0.00200538, 0.00181656, 0.00167685,\n",
              "        0.00108819, 0.00131443, 0.00294253, 0.00362568, 0.00372977,\n",
              "        0.00307695, 0.00348286, 0.00349118, 0.00268021, 0.00157001,\n",
              "        0.00150095, 0.00518448, 0.00314348, 0.00128599, 0.00146442,\n",
              "        0.001537  , 0.00445177, 0.00174831, 0.00138781, 0.00305603,\n",
              "        0.001361  , 0.00181034, 0.00160526, 0.00231411, 0.00374192,\n",
              "        0.00174016, 0.0016224 , 0.00366304, 0.00134768, 0.00220262,\n",
              "        0.00163601, 0.00397237, 0.00195697, 0.0013468 , 0.00210702,\n",
              "        0.00692176, 0.00351598, 0.00187066, 0.00161116, 0.00579912,\n",
              "        0.00464442, 0.00133743, 0.00224581, 0.00403744, 0.0018957 ,\n",
              "        0.0028412 , 0.00250568, 0.0073268 , 0.0024618 , 0.00136255,\n",
              "        0.00363251, 0.0022518 , 0.00247841, 0.00155964, 0.0017719 ,\n",
              "        0.00570056, 0.0013285 , 0.00119571, 0.0027957 , 0.00613425,\n",
              "        0.00227503, 0.00171492, 0.00086293, 0.00121551, 0.00146673,\n",
              "        0.00196547, 0.03933047, 0.002556  , 0.06316638, 0.01933169,\n",
              "        0.02386576, 0.00142545, 0.00164127, 0.00253731, 0.00814763,\n",
              "        0.0017534 , 0.00202901, 0.00644569, 0.00538865, 0.00177236,\n",
              "        0.0018139 , 0.00245037, 0.00770743, 0.00151472, 0.00168909,\n",
              "        0.00203427, 0.00142469, 0.00239862]),\n",
              " 'param_knn__n_neighbors': masked_array(data=[1, 1, 2, 2, 3, 3, 4, 4, 5, 5, 6, 6, 7, 7, 8, 8, 9, 9,\n",
              "                    10, 10, 11, 11, 12, 12, 13, 13, 14, 14, 15, 15, 16, 16,\n",
              "                    17, 17, 18, 18, 19, 19, 20, 20, 21, 21, 22, 22, 23, 23,\n",
              "                    24, 24, 25, 25, 26, 26, 27, 27, 28, 28, 29, 29, 30, 30,\n",
              "                    31, 31, 32, 32, 33, 33, 34, 34, 35, 35, 36, 36, 37, 37,\n",
              "                    38, 38, 39, 39, 40, 40, 41, 41, 42, 42, 43, 43, 44, 44,\n",
              "                    45, 45, 46, 46, 47, 47, 48, 48, 49, 49],\n",
              "              mask=[False, False, False, False, False, False, False, False,\n",
              "                    False, False, False, False, False, False, False, False,\n",
              "                    False, False, False, False, False, False, False, False,\n",
              "                    False, False, False, False, False, False, False, False,\n",
              "                    False, False, False, False, False, False, False, False,\n",
              "                    False, False, False, False, False, False, False, False,\n",
              "                    False, False, False, False, False, False, False, False,\n",
              "                    False, False, False, False, False, False, False, False,\n",
              "                    False, False, False, False, False, False, False, False,\n",
              "                    False, False, False, False, False, False, False, False,\n",
              "                    False, False, False, False, False, False, False, False,\n",
              "                    False, False, False, False, False, False, False, False,\n",
              "                    False, False],\n",
              "        fill_value='?',\n",
              "             dtype=object),\n",
              " 'param_knn__weights': masked_array(data=['uniform', 'distance', 'uniform', 'distance',\n",
              "                    'uniform', 'distance', 'uniform', 'distance',\n",
              "                    'uniform', 'distance', 'uniform', 'distance',\n",
              "                    'uniform', 'distance', 'uniform', 'distance',\n",
              "                    'uniform', 'distance', 'uniform', 'distance',\n",
              "                    'uniform', 'distance', 'uniform', 'distance',\n",
              "                    'uniform', 'distance', 'uniform', 'distance',\n",
              "                    'uniform', 'distance', 'uniform', 'distance',\n",
              "                    'uniform', 'distance', 'uniform', 'distance',\n",
              "                    'uniform', 'distance', 'uniform', 'distance',\n",
              "                    'uniform', 'distance', 'uniform', 'distance',\n",
              "                    'uniform', 'distance', 'uniform', 'distance',\n",
              "                    'uniform', 'distance', 'uniform', 'distance',\n",
              "                    'uniform', 'distance', 'uniform', 'distance',\n",
              "                    'uniform', 'distance', 'uniform', 'distance',\n",
              "                    'uniform', 'distance', 'uniform', 'distance',\n",
              "                    'uniform', 'distance', 'uniform', 'distance',\n",
              "                    'uniform', 'distance', 'uniform', 'distance',\n",
              "                    'uniform', 'distance', 'uniform', 'distance',\n",
              "                    'uniform', 'distance', 'uniform', 'distance',\n",
              "                    'uniform', 'distance', 'uniform', 'distance',\n",
              "                    'uniform', 'distance', 'uniform', 'distance',\n",
              "                    'uniform', 'distance', 'uniform', 'distance',\n",
              "                    'uniform', 'distance', 'uniform', 'distance',\n",
              "                    'uniform', 'distance'],\n",
              "              mask=[False, False, False, False, False, False, False, False,\n",
              "                    False, False, False, False, False, False, False, False,\n",
              "                    False, False, False, False, False, False, False, False,\n",
              "                    False, False, False, False, False, False, False, False,\n",
              "                    False, False, False, False, False, False, False, False,\n",
              "                    False, False, False, False, False, False, False, False,\n",
              "                    False, False, False, False, False, False, False, False,\n",
              "                    False, False, False, False, False, False, False, False,\n",
              "                    False, False, False, False, False, False, False, False,\n",
              "                    False, False, False, False, False, False, False, False,\n",
              "                    False, False, False, False, False, False, False, False,\n",
              "                    False, False, False, False, False, False, False, False,\n",
              "                    False, False],\n",
              "        fill_value='?',\n",
              "             dtype=object),\n",
              " 'params': [{'knn__n_neighbors': 1, 'knn__weights': 'uniform'},\n",
              "  {'knn__n_neighbors': 1, 'knn__weights': 'distance'},\n",
              "  {'knn__n_neighbors': 2, 'knn__weights': 'uniform'},\n",
              "  {'knn__n_neighbors': 2, 'knn__weights': 'distance'},\n",
              "  {'knn__n_neighbors': 3, 'knn__weights': 'uniform'},\n",
              "  {'knn__n_neighbors': 3, 'knn__weights': 'distance'},\n",
              "  {'knn__n_neighbors': 4, 'knn__weights': 'uniform'},\n",
              "  {'knn__n_neighbors': 4, 'knn__weights': 'distance'},\n",
              "  {'knn__n_neighbors': 5, 'knn__weights': 'uniform'},\n",
              "  {'knn__n_neighbors': 5, 'knn__weights': 'distance'},\n",
              "  {'knn__n_neighbors': 6, 'knn__weights': 'uniform'},\n",
              "  {'knn__n_neighbors': 6, 'knn__weights': 'distance'},\n",
              "  {'knn__n_neighbors': 7, 'knn__weights': 'uniform'},\n",
              "  {'knn__n_neighbors': 7, 'knn__weights': 'distance'},\n",
              "  {'knn__n_neighbors': 8, 'knn__weights': 'uniform'},\n",
              "  {'knn__n_neighbors': 8, 'knn__weights': 'distance'},\n",
              "  {'knn__n_neighbors': 9, 'knn__weights': 'uniform'},\n",
              "  {'knn__n_neighbors': 9, 'knn__weights': 'distance'},\n",
              "  {'knn__n_neighbors': 10, 'knn__weights': 'uniform'},\n",
              "  {'knn__n_neighbors': 10, 'knn__weights': 'distance'},\n",
              "  {'knn__n_neighbors': 11, 'knn__weights': 'uniform'},\n",
              "  {'knn__n_neighbors': 11, 'knn__weights': 'distance'},\n",
              "  {'knn__n_neighbors': 12, 'knn__weights': 'uniform'},\n",
              "  {'knn__n_neighbors': 12, 'knn__weights': 'distance'},\n",
              "  {'knn__n_neighbors': 13, 'knn__weights': 'uniform'},\n",
              "  {'knn__n_neighbors': 13, 'knn__weights': 'distance'},\n",
              "  {'knn__n_neighbors': 14, 'knn__weights': 'uniform'},\n",
              "  {'knn__n_neighbors': 14, 'knn__weights': 'distance'},\n",
              "  {'knn__n_neighbors': 15, 'knn__weights': 'uniform'},\n",
              "  {'knn__n_neighbors': 15, 'knn__weights': 'distance'},\n",
              "  {'knn__n_neighbors': 16, 'knn__weights': 'uniform'},\n",
              "  {'knn__n_neighbors': 16, 'knn__weights': 'distance'},\n",
              "  {'knn__n_neighbors': 17, 'knn__weights': 'uniform'},\n",
              "  {'knn__n_neighbors': 17, 'knn__weights': 'distance'},\n",
              "  {'knn__n_neighbors': 18, 'knn__weights': 'uniform'},\n",
              "  {'knn__n_neighbors': 18, 'knn__weights': 'distance'},\n",
              "  {'knn__n_neighbors': 19, 'knn__weights': 'uniform'},\n",
              "  {'knn__n_neighbors': 19, 'knn__weights': 'distance'},\n",
              "  {'knn__n_neighbors': 20, 'knn__weights': 'uniform'},\n",
              "  {'knn__n_neighbors': 20, 'knn__weights': 'distance'},\n",
              "  {'knn__n_neighbors': 21, 'knn__weights': 'uniform'},\n",
              "  {'knn__n_neighbors': 21, 'knn__weights': 'distance'},\n",
              "  {'knn__n_neighbors': 22, 'knn__weights': 'uniform'},\n",
              "  {'knn__n_neighbors': 22, 'knn__weights': 'distance'},\n",
              "  {'knn__n_neighbors': 23, 'knn__weights': 'uniform'},\n",
              "  {'knn__n_neighbors': 23, 'knn__weights': 'distance'},\n",
              "  {'knn__n_neighbors': 24, 'knn__weights': 'uniform'},\n",
              "  {'knn__n_neighbors': 24, 'knn__weights': 'distance'},\n",
              "  {'knn__n_neighbors': 25, 'knn__weights': 'uniform'},\n",
              "  {'knn__n_neighbors': 25, 'knn__weights': 'distance'},\n",
              "  {'knn__n_neighbors': 26, 'knn__weights': 'uniform'},\n",
              "  {'knn__n_neighbors': 26, 'knn__weights': 'distance'},\n",
              "  {'knn__n_neighbors': 27, 'knn__weights': 'uniform'},\n",
              "  {'knn__n_neighbors': 27, 'knn__weights': 'distance'},\n",
              "  {'knn__n_neighbors': 28, 'knn__weights': 'uniform'},\n",
              "  {'knn__n_neighbors': 28, 'knn__weights': 'distance'},\n",
              "  {'knn__n_neighbors': 29, 'knn__weights': 'uniform'},\n",
              "  {'knn__n_neighbors': 29, 'knn__weights': 'distance'},\n",
              "  {'knn__n_neighbors': 30, 'knn__weights': 'uniform'},\n",
              "  {'knn__n_neighbors': 30, 'knn__weights': 'distance'},\n",
              "  {'knn__n_neighbors': 31, 'knn__weights': 'uniform'},\n",
              "  {'knn__n_neighbors': 31, 'knn__weights': 'distance'},\n",
              "  {'knn__n_neighbors': 32, 'knn__weights': 'uniform'},\n",
              "  {'knn__n_neighbors': 32, 'knn__weights': 'distance'},\n",
              "  {'knn__n_neighbors': 33, 'knn__weights': 'uniform'},\n",
              "  {'knn__n_neighbors': 33, 'knn__weights': 'distance'},\n",
              "  {'knn__n_neighbors': 34, 'knn__weights': 'uniform'},\n",
              "  {'knn__n_neighbors': 34, 'knn__weights': 'distance'},\n",
              "  {'knn__n_neighbors': 35, 'knn__weights': 'uniform'},\n",
              "  {'knn__n_neighbors': 35, 'knn__weights': 'distance'},\n",
              "  {'knn__n_neighbors': 36, 'knn__weights': 'uniform'},\n",
              "  {'knn__n_neighbors': 36, 'knn__weights': 'distance'},\n",
              "  {'knn__n_neighbors': 37, 'knn__weights': 'uniform'},\n",
              "  {'knn__n_neighbors': 37, 'knn__weights': 'distance'},\n",
              "  {'knn__n_neighbors': 38, 'knn__weights': 'uniform'},\n",
              "  {'knn__n_neighbors': 38, 'knn__weights': 'distance'},\n",
              "  {'knn__n_neighbors': 39, 'knn__weights': 'uniform'},\n",
              "  {'knn__n_neighbors': 39, 'knn__weights': 'distance'},\n",
              "  {'knn__n_neighbors': 40, 'knn__weights': 'uniform'},\n",
              "  {'knn__n_neighbors': 40, 'knn__weights': 'distance'},\n",
              "  {'knn__n_neighbors': 41, 'knn__weights': 'uniform'},\n",
              "  {'knn__n_neighbors': 41, 'knn__weights': 'distance'},\n",
              "  {'knn__n_neighbors': 42, 'knn__weights': 'uniform'},\n",
              "  {'knn__n_neighbors': 42, 'knn__weights': 'distance'},\n",
              "  {'knn__n_neighbors': 43, 'knn__weights': 'uniform'},\n",
              "  {'knn__n_neighbors': 43, 'knn__weights': 'distance'},\n",
              "  {'knn__n_neighbors': 44, 'knn__weights': 'uniform'},\n",
              "  {'knn__n_neighbors': 44, 'knn__weights': 'distance'},\n",
              "  {'knn__n_neighbors': 45, 'knn__weights': 'uniform'},\n",
              "  {'knn__n_neighbors': 45, 'knn__weights': 'distance'},\n",
              "  {'knn__n_neighbors': 46, 'knn__weights': 'uniform'},\n",
              "  {'knn__n_neighbors': 46, 'knn__weights': 'distance'},\n",
              "  {'knn__n_neighbors': 47, 'knn__weights': 'uniform'},\n",
              "  {'knn__n_neighbors': 47, 'knn__weights': 'distance'},\n",
              "  {'knn__n_neighbors': 48, 'knn__weights': 'uniform'},\n",
              "  {'knn__n_neighbors': 48, 'knn__weights': 'distance'},\n",
              "  {'knn__n_neighbors': 49, 'knn__weights': 'uniform'},\n",
              "  {'knn__n_neighbors': 49, 'knn__weights': 'distance'}],\n",
              " 'split0_test_score': array([0.58069884, 0.58069884, 0.66888519, 0.58069884, 0.61730449,\n",
              "        0.60565724, 0.67720466, 0.6156406 , 0.64559068, 0.63061564,\n",
              "        0.66888519, 0.62728785, 0.65557404, 0.64891847, 0.66888519,\n",
              "        0.63227953, 0.65224626, 0.65557404, 0.67387687, 0.64891847,\n",
              "        0.6655574 , 0.66389351, 0.68219634, 0.66056572, 0.67221298,\n",
              "        0.67387687, 0.67554077, 0.66389351, 0.66888519, 0.67387687,\n",
              "        0.67554077, 0.67554077, 0.67886855, 0.68053245, 0.68219634,\n",
              "        0.68053245, 0.67720466, 0.67387687, 0.68718802, 0.68386023,\n",
              "        0.68552413, 0.68386023, 0.68219634, 0.68053245, 0.68552413,\n",
              "        0.67554077, 0.68552413, 0.67387687, 0.68219634, 0.68053245,\n",
              "        0.68219634, 0.68885191, 0.67720466, 0.68552413, 0.68219634,\n",
              "        0.68386023, 0.67886855, 0.68386023, 0.68219634, 0.68885191,\n",
              "        0.68053245, 0.68386023, 0.68386023, 0.68053245, 0.68219634,\n",
              "        0.68386023, 0.68219634, 0.68885191, 0.68386023, 0.68552413,\n",
              "        0.68386023, 0.68386023, 0.68053245, 0.68386023, 0.68718802,\n",
              "        0.68885191, 0.68386023, 0.68885191, 0.68885191, 0.6921797 ,\n",
              "        0.68552413, 0.68885191, 0.68885191, 0.6921797 , 0.68885191,\n",
              "        0.69051581, 0.68885191, 0.69051581, 0.68718802, 0.69051581,\n",
              "        0.69051581, 0.69051581, 0.68885191, 0.69051581, 0.69051581,\n",
              "        0.68885191, 0.69051581, 0.68885191]),\n",
              " 'split1_test_score': array([0.57404326, 0.57404326, 0.65890183, 0.57570715, 0.6156406 ,\n",
              "        0.60399334, 0.66389351, 0.62562396, 0.64725458, 0.640599  ,\n",
              "        0.6672213 , 0.63061564, 0.6422629 , 0.63394343, 0.66888519,\n",
              "        0.63893511, 0.63893511, 0.63394343, 0.66888519, 0.6422629 ,\n",
              "        0.65391015, 0.65224626, 0.67054908, 0.65058236, 0.65391015,\n",
              "        0.65058236, 0.67387687, 0.66389351, 0.66056572, 0.65890183,\n",
              "        0.67221298, 0.66222962, 0.65723794, 0.66389351, 0.6655574 ,\n",
              "        0.6672213 , 0.66389351, 0.67387687, 0.67221298, 0.67387687,\n",
              "        0.67054908, 0.67720466, 0.67886855, 0.67554077, 0.67554077,\n",
              "        0.67886855, 0.67886855, 0.67554077, 0.67554077, 0.67886855,\n",
              "        0.68552413, 0.67554077, 0.68386023, 0.67886855, 0.68718802,\n",
              "        0.68552413, 0.68885191, 0.68552413, 0.68219634, 0.68386023,\n",
              "        0.68219634, 0.68053245, 0.68386023, 0.68386023, 0.68552413,\n",
              "        0.68219634, 0.68219634, 0.68219634, 0.68718802, 0.68386023,\n",
              "        0.69051581, 0.68552413, 0.68885191, 0.68386023, 0.68885191,\n",
              "        0.68885191, 0.68718802, 0.68718802, 0.68885191, 0.68718802,\n",
              "        0.6921797 , 0.68552413, 0.68885191, 0.6921797 , 0.68219634,\n",
              "        0.68885191, 0.69051581, 0.68885191, 0.6921797 , 0.68718802,\n",
              "        0.69051581, 0.68718802, 0.6921797 , 0.68718802, 0.68885191,\n",
              "        0.69051581, 0.68552413, 0.68386023]),\n",
              " 'split2_test_score': array([0.59900166, 0.59900166, 0.67554077, 0.59900166, 0.6156406 ,\n",
              "        0.61231281, 0.67720466, 0.61896839, 0.66056572, 0.63893511,\n",
              "        0.67387687, 0.65224626, 0.67054908, 0.65890183, 0.69051581,\n",
              "        0.66888519, 0.68885191, 0.67221298, 0.6921797 , 0.67720466,\n",
              "        0.68552413, 0.6672213 , 0.69051581, 0.67221298, 0.67387687,\n",
              "        0.67221298, 0.68718802, 0.67221298, 0.67221298, 0.67221298,\n",
              "        0.69051581, 0.67221298, 0.67554077, 0.67221298, 0.68386023,\n",
              "        0.67221298, 0.67886855, 0.67886855, 0.68386023, 0.67554077,\n",
              "        0.68552413, 0.67886855, 0.6921797 , 0.67720466, 0.6921797 ,\n",
              "        0.67886855, 0.68386023, 0.68386023, 0.69384359, 0.68552413,\n",
              "        0.69384359, 0.68219634, 0.68885191, 0.68053245, 0.68552413,\n",
              "        0.67886855, 0.68885191, 0.67886855, 0.68718802, 0.67886855,\n",
              "        0.69051581, 0.67886855, 0.68219634, 0.68552413, 0.68885191,\n",
              "        0.68718802, 0.68885191, 0.68885191, 0.68885191, 0.68885191,\n",
              "        0.6921797 , 0.69051581, 0.69384359, 0.68718802, 0.69384359,\n",
              "        0.6921797 , 0.68718802, 0.6921797 , 0.68718802, 0.69051581,\n",
              "        0.68552413, 0.6921797 , 0.68718802, 0.69384359, 0.68718802,\n",
              "        0.69384359, 0.68885191, 0.69550749, 0.69051581, 0.69717138,\n",
              "        0.69051581, 0.69717138, 0.68718802, 0.69717138, 0.6921797 ,\n",
              "        0.69550749, 0.6921797 , 0.69550749]),\n",
              " 'split3_test_score': array([0.58333333, 0.58333333, 0.66833333, 0.58333333, 0.625     ,\n",
              "        0.61166667, 0.66166667, 0.615     , 0.63166667, 0.615     ,\n",
              "        0.66166667, 0.625     , 0.665     , 0.64666667, 0.65833333,\n",
              "        0.645     , 0.66166667, 0.65      , 0.68166667, 0.65333333,\n",
              "        0.67833333, 0.65833333, 0.68333333, 0.66      , 0.68166667,\n",
              "        0.66      , 0.68166667, 0.66666667, 0.68      , 0.67166667,\n",
              "        0.68666667, 0.67166667, 0.66833333, 0.66666667, 0.68166667,\n",
              "        0.67166667, 0.68166667, 0.67333333, 0.68666667, 0.68      ,\n",
              "        0.68833333, 0.68      , 0.69333333, 0.68833333, 0.695     ,\n",
              "        0.685     , 0.69      , 0.68833333, 0.69666667, 0.685     ,\n",
              "        0.69833333, 0.68833333, 0.695     , 0.685     , 0.69666667,\n",
              "        0.685     , 0.69666667, 0.68166667, 0.695     , 0.68666667,\n",
              "        0.69      , 0.685     , 0.69166667, 0.68666667, 0.69333333,\n",
              "        0.68666667, 0.69833333, 0.695     , 0.695     , 0.69666667,\n",
              "        0.695     , 0.69666667, 0.69333333, 0.695     , 0.7       ,\n",
              "        0.69666667, 0.69333333, 0.69666667, 0.695     , 0.69166667,\n",
              "        0.69      , 0.69      , 0.69166667, 0.69166667, 0.695     ,\n",
              "        0.69166667, 0.695     , 0.69333333, 0.69666667, 0.68833333,\n",
              "        0.69666667, 0.695     , 0.69833333, 0.695     , 0.695     ,\n",
              "        0.69666667, 0.69833333, 0.69833333]),\n",
              " 'split4_test_score': array([0.595     , 0.595     , 0.675     , 0.595     , 0.645     ,\n",
              "        0.63333333, 0.685     , 0.63166667, 0.65333333, 0.64166667,\n",
              "        0.68333333, 0.64166667, 0.65833333, 0.65333333, 0.67333333,\n",
              "        0.63833333, 0.66333333, 0.65166667, 0.68333333, 0.655     ,\n",
              "        0.66333333, 0.65166667, 0.66833333, 0.65166667, 0.66666667,\n",
              "        0.65166667, 0.67666667, 0.655     , 0.67      , 0.66166667,\n",
              "        0.67833333, 0.66166667, 0.675     , 0.66333333, 0.67833333,\n",
              "        0.665     , 0.68      , 0.665     , 0.685     , 0.66166667,\n",
              "        0.68333333, 0.66833333, 0.68333333, 0.66333333, 0.67666667,\n",
              "        0.66333333, 0.67333333, 0.66333333, 0.67      , 0.67      ,\n",
              "        0.68      , 0.67      , 0.67833333, 0.67166667, 0.68833333,\n",
              "        0.67833333, 0.685     , 0.67833333, 0.68833333, 0.675     ,\n",
              "        0.68166667, 0.68      , 0.69      , 0.68166667, 0.68666667,\n",
              "        0.68333333, 0.69333333, 0.68      , 0.68833333, 0.68166667,\n",
              "        0.68666667, 0.67833333, 0.68166667, 0.68166667, 0.68666667,\n",
              "        0.675     , 0.68333333, 0.68      , 0.69      , 0.68      ,\n",
              "        0.68166667, 0.685     , 0.685     , 0.68333333, 0.68166667,\n",
              "        0.68333333, 0.685     , 0.68333333, 0.685     , 0.68333333,\n",
              "        0.68666667, 0.68333333, 0.685     , 0.685     , 0.68833333,\n",
              "        0.68333333, 0.68833333, 0.68333333]),\n",
              " 'mean_test_score': array([0.58641542, 0.58641542, 0.66933222, 0.5867482 , 0.62371714,\n",
              "        0.61339268, 0.6729939 , 0.62137992, 0.6476822 , 0.63336328,\n",
              "        0.67099667, 0.63536328, 0.65834387, 0.64835275, 0.67199057,\n",
              "        0.64468663, 0.66100666, 0.65267942, 0.67998835, 0.65534387,\n",
              "        0.66933167, 0.65867221, 0.67898558, 0.65900555, 0.66966667,\n",
              "        0.66166778, 0.6789878 , 0.66433333, 0.67033278, 0.667665  ,\n",
              "        0.68065391, 0.66866334, 0.67099612, 0.66932779, 0.6783228 ,\n",
              "        0.67132668, 0.67632668, 0.67299113, 0.68298558, 0.67498891,\n",
              "        0.6826528 , 0.67765336, 0.68598225, 0.67698891, 0.68498225,\n",
              "        0.67632224, 0.68231725, 0.67698891, 0.68364947, 0.67998502,\n",
              "        0.68797948, 0.68098447, 0.68465003, 0.68031836, 0.6879817 ,\n",
              "        0.68231725, 0.68764781, 0.68165058, 0.68698281, 0.68264947,\n",
              "        0.68498225, 0.68165225, 0.68631669, 0.68365003, 0.68731448,\n",
              "        0.68464892, 0.68898225, 0.68698003, 0.6886467 , 0.68731392,\n",
              "        0.68964448, 0.68698003, 0.68764559, 0.68631503, 0.69131004,\n",
              "        0.68831004, 0.68698059, 0.68897726, 0.68997837, 0.68831004,\n",
              "        0.68697892, 0.68831115, 0.6883117 , 0.6906406 , 0.68698059,\n",
              "        0.68964226, 0.68964393, 0.69030837, 0.69031004, 0.68930837,\n",
              "        0.69097615, 0.69064171, 0.69031059, 0.69097504, 0.69097615,\n",
              "        0.69097504, 0.69097726, 0.68997726]),\n",
              " 'std_test_score': array([0.00924508, 0.00924508, 0.006011  , 0.00881363, 0.01119097,\n",
              "        0.0104877 , 0.00884003, 0.00637633, 0.00958097, 0.00997103,\n",
              "        0.00729725, 0.01019723, 0.00958688, 0.00832924, 0.01049566,\n",
              "        0.01275185, 0.01640186, 0.01224076, 0.00804071, 0.01178518,\n",
              "        0.01123632, 0.00617793, 0.0083283 , 0.00778034, 0.00922472,\n",
              "        0.00985853, 0.0048541 , 0.00556833, 0.00623846, 0.00613283,\n",
              "        0.00687297, 0.00564385, 0.00768164, 0.00642519, 0.0066303 ,\n",
              "        0.00533907, 0.00638474, 0.00447411, 0.00551512, 0.0075211 ,\n",
              "        0.00625653, 0.00514923, 0.00573413, 0.00812245, 0.00788344,\n",
              "        0.00717765, 0.00573226, 0.00865064, 0.01027169, 0.00560497,\n",
              "        0.00699622, 0.00731661, 0.00664433, 0.00502031, 0.00481024,\n",
              "        0.00308633, 0.00580217, 0.0027796 , 0.00473206, 0.00507708,\n",
              "        0.00434404, 0.00235862, 0.00377451, 0.00229389, 0.00369894,\n",
              "        0.00194352, 0.00630062, 0.00534663, 0.00362057, 0.00523187,\n",
              "        0.00395457, 0.0062121 , 0.00563143, 0.00468722, 0.00503048,\n",
              "        0.0072464 , 0.00356322, 0.00553518, 0.00266612, 0.00450383,\n",
              "        0.00370481, 0.00271446, 0.00219406, 0.00372682, 0.00487817,\n",
              "        0.00354795, 0.00323321, 0.00417125, 0.00404693, 0.00457017,\n",
              "        0.00321214, 0.00503959, 0.00464626, 0.00457927, 0.00242275,\n",
              "        0.00481772, 0.00430111, 0.00605365]),\n",
              " 'rank_test_score': array([97, 97, 75, 96, 93, 95, 67, 94, 89, 92, 71, 91, 85, 88, 69, 90, 82,\n",
              "        87, 56, 86, 76, 84, 59, 83, 74, 81, 58, 80, 73, 79, 54, 78, 72, 77,\n",
              "        60, 70, 64, 68, 46, 66, 47, 61, 39, 62, 40, 65, 49, 62, 45, 57, 26,\n",
              "        53, 42, 55, 25, 49, 27, 52, 31, 48, 40, 51, 37, 44, 29, 43, 18, 34,\n",
              "        20, 30, 14, 34, 28, 38,  1, 23, 32, 19, 12, 24, 36, 22, 21,  8, 32,\n",
              "        16, 15, 11, 10, 17,  3,  7,  9,  5,  3,  5,  2, 13], dtype=int32)}"
            ]
          },
          "execution_count": 28,
          "metadata": {},
          "output_type": "execute_result"
        }
      ],
      "source": [
        "n_splits = 5\n",
        "\n",
        "pipeline = GridSearchCV(\n",
        "    Pipeline([('knn', KNeighborsClassifier())]),\n",
        "    {'knn__n_neighbors': list(range(1, 50)), 'knn__weights': ['uniform', 'distance']},\n",
        "    cv=StratifiedKFold(n_splits=n_splits, shuffle=True, random_state=42)\n",
        ")\n",
        "\n",
        "print(end='Hyperparameter tuning for the KNN classifier ')\n",
        "pipeline.fit(X_train, Y_train)\n",
        "\n",
        "results = pipeline.cv_results_\n",
        "best_comb = np.argmax(results['mean_test_score'])\n",
        "best_params = results['params'][best_comb]\n",
        "\n",
        "print('Best parameter combination:')\n",
        "print('weights={}, n_neighbors={}'.format(best_params['knn__weights'],\n",
        "                                          best_params['knn__n_neighbors']))\n",
        "\n",
        "results"
      ]
    },
    {
      "cell_type": "code",
      "execution_count": null,
      "metadata": {
        "colab": {
          "base_uri": "https://localhost:8080/"
        },
        "id": "iccF8Itns2Rq",
        "outputId": "ca5ce466-81aa-43aa-86b9-6eca058342a2"
      },
      "outputs": [
        {
          "name": "stdout",
          "output_type": "stream",
          "text": [
            "              precision    recall  f1-score   support\n",
            "\n",
            "          no       0.69      0.98      0.81       887\n",
            "         yes       0.42      0.02      0.05       401\n",
            "\n",
            "    accuracy                           0.69      1288\n",
            "   macro avg       0.55      0.50      0.43      1288\n",
            "weighted avg       0.61      0.69      0.57      1288\n",
            "\n",
            "Micro average precision score: 0.686\n"
          ]
        }
      ],
      "source": [
        "y_pred5 = pipeline.predict(X_test)\n",
        "print(classification_report(Y_test,y_pred5))\n",
        "print(\"Micro average precision score: {:.3f}\".format (precision_score(Y_test, y_pred5, average=\"micro\")))"
      ]
    },
    {
      "cell_type": "markdown",
      "metadata": {
        "id": "-8kBSruws2Rq"
      },
      "source": [
        "The scaled model yields best results with K=15, resulting in a test accuracy 78%. As the value of K is decreased the test accuracy is decreased because the model closely fits the training data. On the other hand having large values of K the model becomes too general and this doesn't improve the test accuracy."
      ]
    },
    {
      "cell_type": "markdown",
      "metadata": {
        "id": "44t4mzYBs2Rq"
      },
      "source": [
        "Feature scaling has resulted in an overall improvement in model performance. "
      ]
    },
    {
      "cell_type": "markdown",
      "metadata": {
        "id": "zu60tR-Ts2Rq"
      },
      "source": [
        "## **Decision Trees & Random Forest**"
      ]
    },
    {
      "cell_type": "markdown",
      "metadata": {
        "id": "ysTxCx6_s2Rr"
      },
      "source": [
        "## DecisionTreeClassifier"
      ]
    },
    {
      "cell_type": "markdown",
      "metadata": {
        "id": "lLrmqKAos2Rr"
      },
      "source": [
        "For all of the values we attempted to predict, 68% of them were correct.                                                                                                                                           Changing the amount of predictions in range of 5-1000 is insignificantly changing the outcome(less than 1%)."
      ]
    },
    {
      "cell_type": "code",
      "execution_count": null,
      "metadata": {
        "id": "YklG4hnzs2Rr"
      },
      "outputs": [],
      "source": [
        "dtree = DecisionTreeClassifier(random_state=42)\n",
        "dtree.fit(X_train, Y_train)\n",
        "predictions = dtree.predict(X_test)"
      ]
    },
    {
      "cell_type": "code",
      "execution_count": null,
      "metadata": {
        "colab": {
          "base_uri": "https://localhost:8080/"
        },
        "id": "joBwwYbJs2Rr",
        "outputId": "e744edc2-83b0-4f70-c5fe-e78a1a3d199f"
      },
      "outputs": [
        {
          "name": "stdout",
          "output_type": "stream",
          "text": [
            "              precision    recall  f1-score   support\n",
            "\n",
            "          no       0.78      0.76      0.77       887\n",
            "         yes       0.49      0.52      0.51       401\n",
            "\n",
            "    accuracy                           0.68      1288\n",
            "   macro avg       0.63      0.64      0.64      1288\n",
            "weighted avg       0.69      0.68      0.69      1288\n",
            "\n",
            "Micro average precision score: 0.683\n"
          ]
        }
      ],
      "source": [
        "print(classification_report(Y_test, predictions,))\n",
        "print(\"Micro average precision score: {:.3f}\".format (precision_score(Y_test,predictions, average=\"micro\")))"
      ]
    },
    {
      "cell_type": "markdown",
      "metadata": {
        "id": "-DxjzeFTs2Rr"
      },
      "source": [
        "In the confusion matrix without tunning the model we can observe very simmilar amount of FP,FN and TN values."
      ]
    },
    {
      "cell_type": "markdown",
      "metadata": {
        "id": "FRYnPf4Vs2Rs"
      },
      "source": [
        "After tunning amount of FP significantly decrease."
      ]
    },
    {
      "cell_type": "code",
      "execution_count": null,
      "metadata": {
        "colab": {
          "base_uri": "https://localhost:8080/",
          "height": 54
        },
        "id": "_ra6jls5s2Rs",
        "outputId": "67c42d61-d036-4afe-e3cf-846dd61f5e5e"
      },
      "outputs": [
        {
          "data": {
            "image/png": "[encoded data removed]",
            "text/plain": [
              "<Figure size 288x288 with 1 Axes>"
            ]
          },
          "metadata": {},
          "output_type": "display_data"
        }
      ],
      "source": [
        "conf_matrix = confusion_matrix(Y_test, predictions)\n",
        "fig, ax = plt.subplots(figsize=(4, 4))\n",
        "ax.matshow(conf_matrix, cmap=plt.cm.Oranges, alpha=0.3)\n",
        "for i in range(conf_matrix.shape[0]):\n",
        "    for j in range(conf_matrix.shape[1]):\n",
        "        ax.text(x=j, y=i,s=conf_matrix[i, j], va='center', ha='center', size='medium')"
      ]
    },
    {
      "cell_type": "code",
      "execution_count": null,
      "metadata": {
        "colab": {
          "base_uri": "https://localhost:8080/",
          "height": 269
        },
        "id": "yXoW9y2vs2Rw",
        "outputId": "e6976df7-1793-4d6c-dc84-3625161ac2cc"
      },
      "outputs": [
        {
          "data": {
            "image/png": "[encoded data removed]",
            "text/plain": [
              "<Figure size 288x288 with 1 Axes>"
            ]
          },
          "metadata": {},
          "output_type": "display_data"
        }
      ],
      "source": [
        "from sklearn.model_selection import GridSearchCV\n",
        "params = {'max_depth': [1,2,3,4,5,6,7,8,9,10], 'max_features': [1,5,10,15,20,25,30,35,40,45,50]}\n",
        "\n",
        "\n",
        "dtree = DecisionTreeClassifier(random_state=42)\n",
        "dtree.fit(X_train, Y_train)\n",
        "predictions = dtree.predict(X_test)\n",
        "\n",
        "grid_dtree = GridSearchCV(dtree,param_grid = params,return_train_score=True)\n",
        "grid_dtree.fit(X_train,Y_train)\n",
        "predictions1 = grid_dtree.predict(X_test)\n",
        "conf_matrix = confusion_matrix(Y_test, predictions1)\n",
        "fig, ax = plt.subplots(figsize=(4, 4))\n",
        "ax.matshow(conf_matrix, cmap=plt.cm.Oranges, alpha=0.3)\n",
        "for i in range(conf_matrix.shape[0]):\n",
        "    for j in range(conf_matrix.shape[1]):\n",
        "        ax.text(x=j, y=i,s=conf_matrix[i, j], va='center', ha='center', size='medium')"
      ]
    },
    {
      "cell_type": "code",
      "execution_count": null,
      "metadata": {
        "colab": {
          "base_uri": "https://localhost:8080/"
        },
        "id": "M4aLfm8zs2Ry",
        "outputId": "48a40463-48c2-4574-8317-f8852461e845"
      },
      "outputs": [
        {
          "name": "stdout",
          "output_type": "stream",
          "text": [
            "              precision    recall  f1-score   support\n",
            "\n",
            "          no       0.78      0.91      0.84       887\n",
            "         yes       0.68      0.43      0.52       401\n",
            "\n",
            "    accuracy                           0.76      1288\n",
            "   macro avg       0.73      0.67      0.68      1288\n",
            "weighted avg       0.75      0.76      0.74      1288\n",
            "\n",
            "Micro average precision score: 0.759\n"
          ]
        }
      ],
      "source": [
        "print(classification_report(Y_test, predictions1,))\n",
        "print(\"Micro average precision score: {:.3f}\".format (precision_score(Y_test,predictions1, average=\"micro\")))"
      ]
    },
    {
      "cell_type": "code",
      "execution_count": null,
      "metadata": {
        "colab": {
          "base_uri": "https://localhost:8080/"
        },
        "id": "z2xlO6Kcs2Rz",
        "outputId": "3f981551-fc6c-45b3-a5d4-b5a1146c9374"
      },
      "outputs": [
        {
          "name": "stdout",
          "output_type": "stream",
          "text": [
            "Best: 0.754582 using {'max_depth': 7, 'max_features': 30}\n",
            "0.707626 (0.005629) with: {'max_depth': 1, 'max_features': 1}\n",
            "0.693307 (0.000608) with: {'max_depth': 1, 'max_features': 5}\n",
            "0.693307 (0.000608) with: {'max_depth': 1, 'max_features': 10}\n",
            "0.741256 (0.007592) with: {'max_depth': 1, 'max_features': 15}\n",
            "0.741256 (0.007592) with: {'max_depth': 1, 'max_features': 20}\n",
            "0.741256 (0.007592) with: {'max_depth': 1, 'max_features': 25}\n",
            "0.741256 (0.007592) with: {'max_depth': 1, 'max_features': 30}\n",
            "0.741256 (0.007592) with: {'max_depth': 1, 'max_features': 35}\n",
            "0.741256 (0.007592) with: {'max_depth': 1, 'max_features': 40}\n",
            "0.741256 (0.007592) with: {'max_depth': 1, 'max_features': 45}\n",
            "0.741256 (0.007592) with: {'max_depth': 1, 'max_features': 50}\n",
            "0.705627 (0.005323) with: {'max_depth': 2, 'max_features': 1}\n",
            "0.700300 (0.005020) with: {'max_depth': 2, 'max_features': 5}\n",
            "0.693307 (0.000608) with: {'max_depth': 2, 'max_features': 10}\n",
            "0.743590 (0.005024) with: {'max_depth': 2, 'max_features': 15}\n",
            "0.740923 (0.007054) with: {'max_depth': 2, 'max_features': 20}\n",
            "0.741256 (0.007592) with: {'max_depth': 2, 'max_features': 25}\n",
            "0.741256 (0.006636) with: {'max_depth': 2, 'max_features': 30}\n",
            "0.741256 (0.006636) with: {'max_depth': 2, 'max_features': 35}\n",
            "0.741590 (0.006690) with: {'max_depth': 2, 'max_features': 40}\n",
            "0.741590 (0.006690) with: {'max_depth': 2, 'max_features': 45}\n",
            "0.741590 (0.006690) with: {'max_depth': 2, 'max_features': 50}\n",
            "0.707293 (0.006163) with: {'max_depth': 3, 'max_features': 1}\n",
            "0.701966 (0.004521) with: {'max_depth': 3, 'max_features': 5}\n",
            "0.713297 (0.018730) with: {'max_depth': 3, 'max_features': 10}\n",
            "0.741924 (0.004624) with: {'max_depth': 3, 'max_features': 15}\n",
            "0.740258 (0.006392) with: {'max_depth': 3, 'max_features': 20}\n",
            "0.739926 (0.004693) with: {'max_depth': 3, 'max_features': 25}\n",
            "0.741591 (0.004157) with: {'max_depth': 3, 'max_features': 30}\n",
            "0.744587 (0.007458) with: {'max_depth': 3, 'max_features': 35}\n",
            "0.740592 (0.004412) with: {'max_depth': 3, 'max_features': 40}\n",
            "0.746252 (0.007838) with: {'max_depth': 3, 'max_features': 45}\n",
            "0.746252 (0.007838) with: {'max_depth': 3, 'max_features': 50}\n",
            "0.702963 (0.007862) with: {'max_depth': 4, 'max_features': 1}\n",
            "0.699299 (0.006862) with: {'max_depth': 4, 'max_features': 5}\n",
            "0.736603 (0.009208) with: {'max_depth': 4, 'max_features': 10}\n",
            "0.748251 (0.006892) with: {'max_depth': 4, 'max_features': 15}\n",
            "0.746254 (0.010010) with: {'max_depth': 4, 'max_features': 20}\n",
            "0.745918 (0.009170) with: {'max_depth': 4, 'max_features': 25}\n",
            "0.743256 (0.005528) with: {'max_depth': 4, 'max_features': 30}\n",
            "0.744252 (0.004983) with: {'max_depth': 4, 'max_features': 35}\n",
            "0.744920 (0.007884) with: {'max_depth': 4, 'max_features': 40}\n",
            "0.743256 (0.006476) with: {'max_depth': 4, 'max_features': 45}\n",
            "0.742590 (0.006560) with: {'max_depth': 4, 'max_features': 50}\n",
            "0.704965 (0.007052) with: {'max_depth': 5, 'max_features': 1}\n",
            "0.718606 (0.017781) with: {'max_depth': 5, 'max_features': 5}\n",
            "0.740263 (0.013251) with: {'max_depth': 5, 'max_features': 10}\n",
            "0.744923 (0.013582) with: {'max_depth': 5, 'max_features': 15}\n",
            "0.742587 (0.008512) with: {'max_depth': 5, 'max_features': 20}\n",
            "0.742588 (0.006282) with: {'max_depth': 5, 'max_features': 25}\n",
            "0.745249 (0.007112) with: {'max_depth': 5, 'max_features': 30}\n",
            "0.748914 (0.005772) with: {'max_depth': 5, 'max_features': 35}\n",
            "0.751908 (0.009638) with: {'max_depth': 5, 'max_features': 40}\n",
            "0.746253 (0.008738) with: {'max_depth': 5, 'max_features': 45}\n",
            "0.745254 (0.007683) with: {'max_depth': 5, 'max_features': 50}\n",
            "0.701967 (0.009108) with: {'max_depth': 6, 'max_features': 1}\n",
            "0.713945 (0.016798) with: {'max_depth': 6, 'max_features': 5}\n",
            "0.745247 (0.014425) with: {'max_depth': 6, 'max_features': 10}\n",
            "0.743255 (0.007545) with: {'max_depth': 6, 'max_features': 15}\n",
            "0.738593 (0.011235) with: {'max_depth': 6, 'max_features': 20}\n",
            "0.745911 (0.013767) with: {'max_depth': 6, 'max_features': 25}\n",
            "0.749581 (0.006905) with: {'max_depth': 6, 'max_features': 30}\n",
            "0.747582 (0.005965) with: {'max_depth': 6, 'max_features': 35}\n",
            "0.754573 (0.009128) with: {'max_depth': 6, 'max_features': 40}\n",
            "0.748913 (0.009074) with: {'max_depth': 6, 'max_features': 45}\n",
            "0.751247 (0.004986) with: {'max_depth': 6, 'max_features': 50}\n",
            "0.702301 (0.008648) with: {'max_depth': 7, 'max_features': 1}\n",
            "0.726266 (0.014687) with: {'max_depth': 7, 'max_features': 5}\n",
            "0.730594 (0.017009) with: {'max_depth': 7, 'max_features': 10}\n",
            "0.747255 (0.005528) with: {'max_depth': 7, 'max_features': 15}\n",
            "0.739259 (0.008317) with: {'max_depth': 7, 'max_features': 20}\n",
            "0.743585 (0.006936) with: {'max_depth': 7, 'max_features': 25}\n",
            "0.754582 (0.005976) with: {'max_depth': 7, 'max_features': 30}\n",
            "0.752577 (0.005379) with: {'max_depth': 7, 'max_features': 35}\n",
            "0.751915 (0.006027) with: {'max_depth': 7, 'max_features': 40}\n",
            "0.753578 (0.011275) with: {'max_depth': 7, 'max_features': 45}\n",
            "0.752575 (0.013700) with: {'max_depth': 7, 'max_features': 50}\n",
            "0.710617 (0.014593) with: {'max_depth': 8, 'max_features': 1}\n",
            "0.732596 (0.011767) with: {'max_depth': 8, 'max_features': 5}\n",
            "0.726278 (0.006538) with: {'max_depth': 8, 'max_features': 10}\n",
            "0.744921 (0.005326) with: {'max_depth': 8, 'max_features': 15}\n",
            "0.743246 (0.014423) with: {'max_depth': 8, 'max_features': 20}\n",
            "0.738259 (0.005231) with: {'max_depth': 8, 'max_features': 25}\n",
            "0.749911 (0.007131) with: {'max_depth': 8, 'max_features': 30}\n",
            "0.746583 (0.012491) with: {'max_depth': 8, 'max_features': 35}\n",
            "0.744586 (0.014499) with: {'max_depth': 8, 'max_features': 40}\n",
            "0.744259 (0.018442) with: {'max_depth': 8, 'max_features': 45}\n",
            "0.751247 (0.015120) with: {'max_depth': 8, 'max_features': 50}\n",
            "0.714616 (0.017201) with: {'max_depth': 9, 'max_features': 1}\n",
            "0.730600 (0.012436) with: {'max_depth': 9, 'max_features': 5}\n",
            "0.724941 (0.015258) with: {'max_depth': 9, 'max_features': 10}\n",
            "0.746252 (0.008048) with: {'max_depth': 9, 'max_features': 15}\n",
            "0.742247 (0.014333) with: {'max_depth': 9, 'max_features': 20}\n",
            "0.745256 (0.018627) with: {'max_depth': 9, 'max_features': 25}\n",
            "0.746913 (0.011140) with: {'max_depth': 9, 'max_features': 30}\n",
            "0.748576 (0.019194) with: {'max_depth': 9, 'max_features': 35}\n",
            "0.748910 (0.012988) with: {'max_depth': 9, 'max_features': 40}\n",
            "0.746245 (0.016410) with: {'max_depth': 9, 'max_features': 45}\n",
            "0.739257 (0.019455) with: {'max_depth': 9, 'max_features': 50}\n",
            "0.717942 (0.013400) with: {'max_depth': 10, 'max_features': 1}\n",
            "0.722928 (0.022221) with: {'max_depth': 10, 'max_features': 5}\n",
            "0.719957 (0.017182) with: {'max_depth': 10, 'max_features': 10}\n",
            "0.739597 (0.016691) with: {'max_depth': 10, 'max_features': 15}\n",
            "0.738923 (0.015455) with: {'max_depth': 10, 'max_features': 20}\n",
            "0.746247 (0.017029) with: {'max_depth': 10, 'max_features': 25}\n",
            "0.746247 (0.022663) with: {'max_depth': 10, 'max_features': 30}\n",
            "0.747581 (0.010558) with: {'max_depth': 10, 'max_features': 35}\n",
            "0.744585 (0.009789) with: {'max_depth': 10, 'max_features': 40}\n",
            "0.742250 (0.017430) with: {'max_depth': 10, 'max_features': 45}\n",
            "0.739590 (0.019597) with: {'max_depth': 10, 'max_features': 50}\n",
            "Score = 0.76\n",
            "Training set score: 0.7888777888777889\n",
            "Test set score: 0.7585403726708074\n"
          ]
        }
      ],
      "source": [
        "print(\"Best: %f using %s\" % (grid_dtree.best_score_, \n",
        "    grid_dtree.best_params_))\n",
        "means = grid_dtree.cv_results_['mean_test_score']\n",
        "stds = grid_dtree.cv_results_['std_test_score']\n",
        "params = grid_dtree.cv_results_['params']\n",
        "for mean, stdev, param in zip(means, stds, params):\n",
        "    print(\"%f (%f) with: %r\" % (mean, stdev, param))\n",
        "print(\"Score = %3.2f\" %(grid_dtree.score(X_test,Y_test)))\n",
        "print('Training set score: ' + str(grid_dtree.score(X_train,Y_train)))\n",
        "print('Test set score: ' + str(grid_dtree.score(X_test,Y_test)))\n"
      ]
    },
    {
      "cell_type": "code",
      "execution_count": null,
      "metadata": {
        "colab": {
          "base_uri": "https://localhost:8080/",
          "height": 70
        },
        "id": "MpTJWhB8s2Rz",
        "outputId": "ad814d4e-bdee-4990-e606-251623e78040"
      },
      "outputs": [
        {
          "data": {
            "application/vnd.google.colaboratory.intrinsic+json": {
              "type": "string"
            },
            "text/plain": [
              "\"from sklearn.model_selection import GridSearchCV, StratifiedShuffleSplit\\nscores = pd.DataFrame(grid_dtree.cv_results_)\\nscores.plot(x='param_max_depth', y='mean_train_score', yerr='std_train_score', ax=plt.gca())\\nscores.plot(x='param_max_depth', y='mean_test_score', yerr='std_test_score', ax=plt.gca())\""
            ]
          },
          "execution_count": 36,
          "metadata": {},
          "output_type": "execute_result"
        }
      ],
      "source": [
        "\"\"\"from sklearn.model_selection import GridSearchCV, StratifiedShuffleSplit\n",
        "scores = pd.DataFrame(grid_dtree.cv_results_)\n",
        "scores.plot(x='param_max_depth', y='mean_train_score', yerr='std_train_score', ax=plt.gca())\n",
        "scores.plot(x='param_max_depth', y='mean_test_score', yerr='std_test_score', ax=plt.gca())\"\"\""
      ]
    },
    {
      "cell_type": "markdown",
      "metadata": {
        "id": "MObk6ceGs2R0"
      },
      "source": [
        "Note that there is not a significant difference in test score when the maximum depth of the tree is increased. The optimum for the max depth is 7. When we look at the test score with a max depth of 3 for the optimal number of maximum features, the test score only decreases by about 0.001. Consequently, increasing the maximum depth of the tree yields little benefit for the test score. Simultaneously the risk of overfitting increases. It is therefore better to stick with a lower maximum depth while trying to preserve the test score as much as possible.\n"
      ]
    },
    {
      "cell_type": "code",
      "execution_count": null,
      "metadata": {
        "colab": {
          "base_uri": "https://localhost:8080/"
        },
        "id": "sFzD2YNLs2R0",
        "outputId": "177aa301-eb3c-4399-c8d7-5b48e8a1dc08"
      },
      "outputs": [
        {
          "name": "stdout",
          "output_type": "stream",
          "text": [
            "[-0.61421419]\n",
            "[[ 5.34114018e-06  5.91846233e-04  8.94213619e-06  1.63370407e-03\n",
            "  -2.21214071e-02  4.07787291e-04  1.99590170e-03  3.64242894e-02\n",
            "  -3.64242894e-02  3.46070428e-02 -3.14969008e-01  1.42216205e-01\n",
            "  -1.20109440e-01 -3.43717764e-01 -2.64737460e-01  2.80967498e-02\n",
            "   5.10515472e-01 -1.09615795e-01 -3.11786583e-01  3.98311847e-01\n",
            "   3.51188733e-01  8.95488237e-02 -8.95488237e-02  6.03285117e-02\n",
            "  -6.03285117e-02  5.63734726e-02  1.52994129e-02 -8.76162238e-02\n",
            "  -5.58542986e-02 -3.93645898e-02  1.38769048e-01  1.41616589e-03\n",
            "  -6.12288372e-02  1.32936802e-01 -1.87490109e-02  2.11131054e-02\n",
            "  -1.03095047e-01 -1.09452610e-02 -4.22606139e-02  5.32058748e-02\n",
            "  -6.21790725e-02  3.05757524e-03  8.83667069e-02 -2.92452096e-02\n",
            "   2.01084620e-01  5.67613006e-02 -2.57845920e-01 -3.41628686e-01\n",
            "  -1.61131727e-01  6.59777915e-01 -1.57017503e-01]]\n"
          ]
        }
      ],
      "source": [
        "from sklearn import linear_model\n",
        "clf = linear_model.RidgeClassifier(alpha=0.1)\n",
        "clf.fit(X_1, Y_1.map({\"yes\":1,\"no\":0}))\n",
        "print(clf.intercept_)\n",
        "clf.get_params(deep=True)\n",
        "print(clf.coef_)"
      ]
    },
    {
      "cell_type": "markdown",
      "metadata": {
        "id": "xNzIr0HMs2R1"
      },
      "source": [
        "## RandomForestClassifier"
      ]
    },
    {
      "cell_type": "markdown",
      "metadata": {
        "id": "k0Vhk5sZs2R1"
      },
      "source": [
        "First cell  checks for best parameters using GridSearchCV. However to make  graders life easier we won't let them run code of 3 hours processing time. That's why we only gonna run GridSearchCV with the tunned parameters we found out using first cell."
      ]
    },
    {
      "cell_type": "markdown",
      "metadata": {
        "id": "dQ1UH09Ls2R1"
      },
      "source": [
        "Best params as can be noticed below are:"
      ]
    },
    {
      "cell_type": "markdown",
      "metadata": {
        "id": "cQBSMdcws2R2"
      },
      "source": [
        "max_depth:20, max_features=20, n_estimators=250"
      ]
    },
    {
      "cell_type": "code",
      "execution_count": null,
      "metadata": {
        "colab": {
          "base_uri": "https://localhost:8080/",
          "height": 1000
        },
        "id": "zqBVI4jcs2R2",
        "outputId": "ee2fca86-d070-44cd-c532-7023c6924649"
      },
      "outputs": [
        {
          "data": {
            "application/vnd.google.colaboratory.intrinsic+json": {
              "type": "string"
            },
            "text/plain": [
              "'\\nparams1 = {\\'max_depth\\': [1,2,3,4,5,6,7,8,9,10,15,20,25,30], \\'max_features\\': [1,5,10,15,20,25,30],\\'n_estimators\\':[50,150,250,500,700,1000]}\\nrtree = RandomForestClassifier(random_state=42)\\nrtree.fit(X_train, Y_train)\\npredictions1 = rtree.predict(X_test)\\ngrid_rtree = GridSearchCV(rtree,param_grid = params1)\\ngrid_rtree.fit(X_train,Y_train)\\nprint(grid_rtree.best_params_)\\nprint(grid_rtree.best_score_)\\nprint(\"Accuraccy score\")\\nprint(accuracy_score(Y_test, predictions1))\\nprint(precision_score(Y_test, predictions1, pos_label=\"yes\"))\\nprint(classification_report(Y_test, predictions1))'"
            ]
          },
          "execution_count": 38,
          "metadata": {},
          "output_type": "execute_result"
        }
      ],
      "source": [
        "from sklearn.ensemble import RandomForestClassifier\n",
        "\"\"\"\n",
        "params1 = {'max_depth': [1,2,3,4,5,6,7,8,9,10,15,20,25,30], 'max_features': [1,5,10,15,20,25,30],'n_estimators':[50,150,250,500,700,1000]}\n",
        "rtree = RandomForestClassifier(random_state=42)\n",
        "rtree.fit(X_train, Y_train)\n",
        "predictions1 = rtree.predict(X_test)\n",
        "grid_rtree = GridSearchCV(rtree,param_grid = params1)\n",
        "grid_rtree.fit(X_train,Y_train)\n",
        "print(grid_rtree.best_params_)\n",
        "print(grid_rtree.best_score_)\n",
        "print(\"Accuraccy score\")\n",
        "print(accuracy_score(Y_test, predictions1))\n",
        "print(precision_score(Y_test, predictions1, pos_label=\"yes\"))\n",
        "print(classification_report(Y_test, predictions1))\"\"\""
      ]
    },
    {
      "cell_type": "code",
      "execution_count": null,
      "metadata": {
        "colab": {
          "background_save": true
        },
        "id": "pssFuBoQs2R2",
        "outputId": "a748f36c-8633-444f-95a3-fdfbff2c4f88"
      },
      "outputs": [
        {
          "name": "stdout",
          "output_type": "stream",
          "text": [
            "{'max_depth': 14, 'max_features': 30, 'n_estimators': 100}\n"
          ]
        },
        {
          "ename": "NameError",
          "evalue": "ignored",
          "output_type": "error",
          "traceback": [
            "\u001b[0;31m---------------------------------------------------------------------------\u001b[0m",
            "\u001b[0;31mNameError\u001b[0m                                 Traceback (most recent call last)",
            "\u001b[0;32m<ipython-input-39-a982fbba806a>\u001b[0m in \u001b[0;36m<module>\u001b[0;34m\u001b[0m\n\u001b[1;32m      7\u001b[0m \u001b[0mgrid_rtree1\u001b[0m\u001b[0;34m.\u001b[0m\u001b[0mfit\u001b[0m\u001b[0;34m(\u001b[0m\u001b[0mX_train\u001b[0m\u001b[0;34m,\u001b[0m\u001b[0mY_train\u001b[0m\u001b[0;34m)\u001b[0m\u001b[0;34m\u001b[0m\u001b[0;34m\u001b[0m\u001b[0m\n\u001b[1;32m      8\u001b[0m \u001b[0mprint\u001b[0m\u001b[0;34m(\u001b[0m\u001b[0mgrid_rtree1\u001b[0m\u001b[0;34m.\u001b[0m\u001b[0mbest_params_\u001b[0m\u001b[0;34m)\u001b[0m\u001b[0;34m\u001b[0m\u001b[0;34m\u001b[0m\u001b[0m\n\u001b[0;32m----> 9\u001b[0;31m \u001b[0mprint\u001b[0m\u001b[0;34m(\u001b[0m\u001b[0mgrind_rtree1\u001b[0m\u001b[0;34m.\u001b[0m\u001b[0mbest_score_\u001b[0m\u001b[0;34m)\u001b[0m\u001b[0;34m\u001b[0m\u001b[0;34m\u001b[0m\u001b[0m\n\u001b[0m\u001b[1;32m     10\u001b[0m \u001b[0mprint\u001b[0m\u001b[0;34m(\u001b[0m\u001b[0mclassification_report\u001b[0m\u001b[0;34m(\u001b[0m\u001b[0mY_test\u001b[0m\u001b[0;34m,\u001b[0m \u001b[0mpredictions2\u001b[0m\u001b[0;34m,\u001b[0m\u001b[0;34m)\u001b[0m\u001b[0;34m)\u001b[0m\u001b[0;34m\u001b[0m\u001b[0;34m\u001b[0m\u001b[0m\n\u001b[1;32m     11\u001b[0m \u001b[0mprint\u001b[0m\u001b[0;34m(\u001b[0m\u001b[0;34m\"Micro average precision score: {:.3f}\"\u001b[0m\u001b[0;34m.\u001b[0m\u001b[0mformat\u001b[0m \u001b[0;34m(\u001b[0m\u001b[0mprecision_score\u001b[0m\u001b[0;34m(\u001b[0m\u001b[0mY_test\u001b[0m\u001b[0;34m,\u001b[0m\u001b[0mpredictions2\u001b[0m\u001b[0;34m,\u001b[0m \u001b[0maverage\u001b[0m\u001b[0;34m=\u001b[0m\u001b[0;34m\"micro\"\u001b[0m\u001b[0;34m)\u001b[0m\u001b[0;34m)\u001b[0m\u001b[0;34m)\u001b[0m\u001b[0;34m\u001b[0m\u001b[0;34m\u001b[0m\u001b[0m\n",
            "\u001b[0;31mNameError\u001b[0m: name 'grind_rtree1' is not defined"
          ]
        }
      ],
      "source": [
        "from sklearn.ensemble import RandomForestClassifier\n",
        "params2 = {'max_depth':range(1,100),'max_features': [ 1,2,5,10,25,30],'n_estimators':[1,100,200,300]}\n",
        "rtree1 = RandomForestClassifier(random_state=42)\n",
        "rtree1.fit(X_train,Y_train)\n",
        "predictions2 = rtree1.predict(X_test)\n",
        "grid_rtree1 = GridSearchCV(rtree1,param_grid=params2,return_train_score=True)\n",
        "grid_rtree1.fit(X_train,Y_train)\n",
        "print(grid_rtree1.best_params_)\n",
        "print(grind_rtree1.best_score_)\n",
        "print(classification_report(Y_test, predictions2,))\n",
        "print(\"Micro average precision score: {:.3f}\".format (precision_score(Y_test,predictions2, average=\"micro\")))"
      ]
    },
    {
      "cell_type": "code",
      "execution_count": null,
      "metadata": {
        "colab": {
          "background_save": true
        },
        "id": "yllh0E2Ls2R3"
      },
      "outputs": [],
      "source": [
        "params3 = {'max_depth':[20],'max_features': [20],'n_estimators':[250]}\n",
        "rtree2 = RandomForestClassifier(random_state=42)\n",
        "rtree2.fit(X_train,Y_train)\n",
        "predictions3 = rtree2.predict(X_test)\n",
        "grid_rtree2 = GridSearchCV(rtree2,param_grid=params3,return_train_score=True)\n",
        "grid_rtree2.fit(X_train,Y_train)\n",
        "print(grid_rtree2.best_params_)\n",
        "print(classification_report(Y_test, predictions3,))\n",
        "print(\"Micro average precision score: {:.3f}\".format (precision_score(Y_test,predictions3, average=\"micro\")))"
      ]
    },
    {
      "cell_type": "code",
      "execution_count": null,
      "metadata": {
        "colab": {
          "background_save": true
        },
        "id": "gHq9x28Zs2R3"
      },
      "outputs": [],
      "source": [
        "from sklearn.metrics import roc_curve, roc_auc_score\n",
        "Y1 = bank_marketing_test['y']\n",
        "Y1 = Y1.map({'yes': 1, 'no': 0})\n",
        "X_1= enc_data.loc[:,enc_data.columns != 'y']\n",
        "Y_1 = Y1\n",
        "X_train,X_test,Y_train,Y_test = train_test_split(X_1,Y_1, random_state = 42,test_size = 0.3)\n",
        "y_score1 = rtree2.predict_proba(X_test)[:,1]\n",
        "y_score2 = grid_rtree2.predict_proba(X_test)[:,1]\n",
        "false_positive_rate1, true_positive_rate1, threshold1 = roc_curve(Y_test, y_score1)\n",
        "false_positive_rate2, true_positive_rate2, threshold2 = roc_curve(Y_test, y_score2)"
      ]
    },
    {
      "cell_type": "markdown",
      "metadata": {
        "id": "8NI3TWoes2R5"
      },
      "source": [
        "- Smaller values on the x-axis of the plot indicate lower false positives and higher true negatives."
      ]
    },
    {
      "cell_type": "markdown",
      "metadata": {
        "id": "rcpjjv7Xs2R6"
      },
      "source": [
        "- Larger values on the y-axis of the plot indicate higher true positives and lower false negatives."
      ]
    },
    {
      "cell_type": "code",
      "execution_count": null,
      "metadata": {
        "colab": {
          "background_save": true
        },
        "id": "_7pozLDTs2R6"
      },
      "outputs": [],
      "source": [
        "y_score1 = log_reg.predict_proba(X_test)[:,1]\n",
        "false_positive_rate1, true_positive_rate1, threshold1 = roc_curve(Y_test, y_score1)\n",
        "plt.subplots(1, figsize=(5,5))\n",
        "plt.title('Receiver Operating Characteristic - LogisticRegression')\n",
        "plt.plot(false_positive_rate1, true_positive_rate1)\n",
        "plt.plot([0, 1], ls=\"--\")\n",
        "plt.plot([0, 0], [1, 0] , c=\".7\"), plt.plot([1, 1] , c=\".7\")\n",
        "plt.ylabel('True Positive Rate')\n",
        "plt.xlabel('False Positive Rate')\n",
        "plt.show()"
      ]
    },
    {
      "cell_type": "code",
      "execution_count": null,
      "metadata": {
        "colab": {
          "background_save": true
        },
        "id": "UwwcR5H4s2R7"
      },
      "outputs": [],
      "source": [
        "y_score1 = pipeline.predict_proba(X_test)[:,1]\n",
        "false_positive_rate1, true_positive_rate1, threshold1 = roc_curve(Y_test, y_score1)\n",
        "plt.subplots(1, figsize=(5,5))\n",
        "plt.title('Receiver Operating Characteristic - KNN')\n",
        "plt.plot(false_positive_rate1, true_positive_rate1)\n",
        "plt.plot([0, 1], ls=\"--\")\n",
        "plt.plot([0, 0], [1, 0] , c=\".7\"), plt.plot([1, 1] , c=\".7\")\n",
        "plt.ylabel('True Positive Rate')\n",
        "plt.xlabel('False Positive Rate')\n",
        "plt.show()"
      ]
    },
    {
      "cell_type": "code",
      "execution_count": null,
      "metadata": {
        "colab": {
          "background_save": true
        },
        "id": "NkcOihvhs2R7"
      },
      "outputs": [],
      "source": [
        "plt.subplots(1, figsize=(5,5))\n",
        "plt.title('Receiver Operating Characteristic - RandomForest')\n",
        "plt.plot(false_positive_rate1, true_positive_rate1)\n",
        "plt.plot([0, 1], ls=\"--\")\n",
        "plt.plot([0, 0], [1, 0] , c=\".7\"), plt.plot([1, 1] , c=\".7\")\n",
        "plt.ylabel('True Positive Rate')\n",
        "plt.xlabel('False Positive Rate')\n",
        "plt.show()\n",
        "\n",
        "plt.subplots(1, figsize=(5,5))\n",
        "plt.title('Receiver Operating Characteristic - RandomForest after tunning')\n",
        "plt.plot(false_positive_rate2, true_positive_rate2)\n",
        "plt.plot([0, 1], ls=\"--\")\n",
        "plt.plot([0, 0], [1, 0] , c=\".7\"), plt.plot([1, 1] , c=\".7\")\n",
        "plt.ylabel('True Positive Rate')\n",
        "plt.xlabel('False Positive Rate')\n",
        "plt.show()"
      ]
    },
    {
      "cell_type": "markdown",
      "metadata": {
        "id": "nf19ARAgs2R8"
      },
      "source": [
        "Processing time of RandomForest Classifier in our case took over 3 hours so that we will implement only final GridSearchCV results and outcomes  like precision and  recall scores."
      ]
    }
  ],
  "metadata": {
    "colab": {
      "provenance": []
    },
    "deepnote": {},
    "deepnote_app_layout": "dashboard",
    "deepnote_execution_queue": [],
    "deepnote_notebook_id": "2a80a0a825ab403ebe2e7bbcf8e492ff",
    "kernelspec": {
      "display_name": "Python 3",
      "name": "python3"
    },
    "language_info": {
      "name": "python"
    }
  },
  "nbformat": 4,
  "nbformat_minor": 0
}